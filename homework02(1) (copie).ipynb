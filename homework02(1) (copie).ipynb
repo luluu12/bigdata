{
 "cells": [
  {
   "cell_type": "markdown",
   "metadata": {
    "format": "text/markdown"
   },
   "source": [
    "\n",
    "\n",
    "# Propaganda, start the `spark` session\n",
    "\n",
    "> For SQL users, Spark SQL provides state-of-the-art SQL performance and maintains compatibility with Shark/Hive. In particular, like Shark, Spark SQL supports all existing Hive data formats, user-defined functions (UDF), and the Hive metastore.\n",
    "\n",
    "> For Spark users, Spark SQL becomes the narrow-waist for manipulating (semi-) structured data as well as ingesting data from sources that provide schema, such as JSON, Parquet, Hive, or EDWs. It truly unifies SQL and sophisticated analysis, allowing users to mix and match SQL and more imperative programming APIs for advanced analytics.\n",
    "\n",
    "> For open source hackers, Spark SQL proposes a novel, elegant way of building query planners. It is incredibly easy to add new optimizations under this framework.\n",
    "\n",
    "> Internally, a structured query is a Catalyst tree of (logical and physical) relational operators and expressions.\n",
    "\n",
    "\n"
   ]
  },
  {
   "cell_type": "code",
<<<<<<< HEAD
   "execution_count": 2,
   "metadata": {
    "ExecuteTime": {
     "end_time": "2020-04-05T18:25:12.227034Z",
     "start_time": "2020-04-05T18:25:07.446535Z"
=======
   "execution_count": 1,
   "metadata": {
    "ExecuteTime": {
     "end_time": "2020-04-04T17:36:49.041424Z",
     "start_time": "2020-04-04T17:36:43.743862Z"
>>>>>>> 0c5561a74d1bcf6e1c90df8bbfa2f3b5ccc9c264
    },
    "autoscroll": "auto",
    "options": {
     "caption": false,
     "complete": true,
     "display_data": true,
     "display_stream": true,
     "dpi": 200,
     "echo": true,
     "evaluate": false,
     "f_env": null,
     "f_pos": "htpb",
     "f_size": [
      6,
      4
     ],
     "f_spines": true,
     "fig": true,
     "include": true,
     "name": null,
     "option_string": "evaluate=False",
     "results": "verbatim",
     "term": false,
     "wrap": "output"
    }
   },
   "outputs": [],
   "source": [
    "# import the usual suspects\n",
    "import pandas as pd\n",
    "import numpy as np\n",
    "import matplotlib.pyplot as plt\n",
    "import os\n",
    "from pathlib import Path\n",
    "import sys\n",
    "import timeit\n",
    "\n",
    "%matplotlib inline\n",
    "import seaborn as sns\n",
    "\n",
    "sns.set_context(\"notebook\", font_scale=1.2)"
   ]
  },
  {
   "cell_type": "markdown",
   "metadata": {
    "format": "text/markdown"
   },
   "source": [
    "During the session, we will use classes and functions exported by `pyspark`\n"
   ]
  },
  {
   "cell_type": "code",
<<<<<<< HEAD
   "execution_count": 3,
   "metadata": {
    "ExecuteTime": {
     "end_time": "2020-04-05T18:25:21.399857Z",
     "start_time": "2020-04-05T18:25:15.027572Z"
=======
   "execution_count": 2,
   "metadata": {
    "ExecuteTime": {
     "end_time": "2020-04-04T17:36:52.135802Z",
     "start_time": "2020-04-04T17:36:51.838384Z"
>>>>>>> 0c5561a74d1bcf6e1c90df8bbfa2f3b5ccc9c264
    },
    "autoscroll": "auto",
    "options": {
     "caption": false,
     "complete": true,
     "display_data": true,
     "display_stream": true,
     "dpi": 200,
     "echo": true,
     "evaluate": false,
     "f_env": null,
     "f_pos": "htpb",
     "f_size": [
      6,
      4
     ],
     "f_spines": true,
     "fig": true,
     "include": true,
     "name": null,
     "option_string": "evaluate=False",
     "results": "verbatim",
     "term": false,
     "wrap": "output"
    }
   },
   "outputs": [],
   "source": [
    "# spark\n",
    "from pyspark import SparkConf, SparkContext\n",
    "from pyspark.sql import SparkSession\n",
    "from pyspark.sql import Window\n",
    "from pyspark.sql.functions import col\n",
    "import pyspark.sql.functions as fn\n",
    "from pyspark.sql.catalog import Catalog\n",
    "from pyspark.sql.types import StructType, StructField\n",
    "from pyspark.sql.types import IntegerType, StringType"
   ]
  },
  {
   "cell_type": "markdown",
   "metadata": {},
   "source": [
    "Start the `SparkSession`"
   ]
  },
  {
   "cell_type": "code",
<<<<<<< HEAD
   "execution_count": 4,
   "metadata": {
    "ExecuteTime": {
     "end_time": "2020-04-05T18:25:55.098548Z",
     "start_time": "2020-04-05T18:25:24.337466Z"
=======
   "execution_count": 3,
   "metadata": {
    "ExecuteTime": {
     "end_time": "2020-04-04T17:37:12.667069Z",
     "start_time": "2020-04-04T17:36:53.896880Z"
>>>>>>> 0c5561a74d1bcf6e1c90df8bbfa2f3b5ccc9c264
    },
    "autoscroll": "auto",
    "options": {
     "caption": false,
     "complete": true,
     "display_data": true,
     "display_stream": true,
     "dpi": 200,
     "echo": true,
     "evaluate": false,
     "f_env": null,
     "f_pos": "htpb",
     "f_size": [
      6,
      4
     ],
     "f_spines": true,
     "fig": true,
     "include": true,
     "name": null,
     "option_string": "evaluate=False",
     "results": "verbatim",
     "term": false,
     "wrap": "output"
    }
   },
   "outputs": [],
   "source": [
    "conf = SparkConf().setAppName(\"Spark SQL Illustrations\")\n",
    "sc = SparkContext(conf=conf)\n",
    "\n",
    "spark = (SparkSession\n",
    "    .builder\n",
    "    .appName(\"Spark SQL\")\n",
    "    .getOrCreate()\n",
    ")"
   ]
  },
  {
   "cell_type": "markdown",
   "metadata": {
    "format": "text/markdown"
   },
   "source": [
    "US Baby Names 1880-2017\n",
    "=======================\n",
    "\n",
    "\n",
    "Description\n",
    ": US baby names provided by the SSA. \n",
    "\n",
    "This dataset contains all names used\n",
    "for at least 5 children of either sex during a year. \n",
    "\n",
    "\n",
    "The file is made of `1924665` lines and  4 columns.\n",
    "\n",
    "```\n",
    "|-- name: string (nullable = true)\n",
    "    |-- n: integer (nullable = true)\n",
    "    |-- sex: string (nullable = true)\n",
    "    |-- year: integer (nullable = true)\n",
    "```\n",
    "\n",
    "Each row indicates for a given name, sex, and year the number of babies \n",
    "of the given sex who were given that name during the given year. Names \n",
    "with less than 5 occurrences during the year were note recorded. \n",
    "\n",
    "|    name|  n|sex|year|\n",
    "|:--------|:---:|:---:|:----:|\n",
    "|  Emilia|112|  F|1985|\n",
    "|   Kelsi|112|  F|1985|\n",
    "|  Margot|112|  F|1985|\n",
    "|  Mariam|112|  F|1985|\n",
    "|Scarlett|112|  F|1985|\n",
    "\n",
    "First, we download the data if it's not there yet"
   ]
  },
  {
   "cell_type": "code",
<<<<<<< HEAD
   "execution_count": 5,
   "metadata": {
    "ExecuteTime": {
     "end_time": "2020-04-05T18:26:02.640245Z",
     "start_time": "2020-04-05T18:25:58.053165Z"
=======
   "execution_count": 4,
   "metadata": {
    "ExecuteTime": {
     "end_time": "2020-04-04T17:40:48.721864Z",
     "start_time": "2020-04-04T17:40:48.281727Z"
>>>>>>> 0c5561a74d1bcf6e1c90df8bbfa2f3b5ccc9c264
    }
   },
   "outputs": [],
   "source": [
    "import requests, zipfile, io\n",
    "from pathlib import Path\n",
    "\n",
    "path = Path('babynames_short.csv')\n",
    "if not path.exists():\n",
    "    url = \"https://stephanegaiffas.github.io/big_data_course/data/babynames_short.csv.zip\"\n",
    "    r = requests.get(url)\n",
    "    z = zipfile.ZipFile(io.BytesIO(r.content))\n",
    "    z.extractall(path='./')"
   ]
  },
  {
   "cell_type": "markdown",
   "metadata": {
    "format": "text/markdown"
   },
   "source": [
    "Load `babynames` from a `csv` file"
   ]
  },
  {
   "cell_type": "code",
<<<<<<< HEAD
   "execution_count": 6,
   "metadata": {
    "ExecuteTime": {
     "end_time": "2020-04-05T18:26:46.956512Z",
     "start_time": "2020-04-05T18:26:04.574977Z"
=======
   "execution_count": 5,
   "metadata": {
    "ExecuteTime": {
     "end_time": "2020-04-04T17:41:04.186422Z",
     "start_time": "2020-04-04T17:40:50.065450Z"
>>>>>>> 0c5561a74d1bcf6e1c90df8bbfa2f3b5ccc9c264
    },
    "autoscroll": "auto",
    "options": {
     "caption": false,
     "complete": true,
     "display_data": true,
     "display_stream": true,
     "dpi": 200,
     "echo": true,
     "evaluate": false,
     "f_env": null,
     "f_pos": "htpb",
     "f_size": [
      6,
      4
     ],
     "f_spines": true,
     "fig": true,
     "include": true,
     "name": null,
     "option_string": "evaluate=False",
     "results": "verbatim",
     "term": false,
     "wrap": "output"
    },
    "scrolled": false
   },
   "outputs": [
    {
     "name": "stdout",
     "output_type": "stream",
     "text": [
      "root\n",
      " |-- name: string (nullable = true)\n",
      " |-- n: integer (nullable = true)\n",
      " |-- sex: string (nullable = true)\n",
      " |-- year: double (nullable = true)\n",
      "\n"
     ]
    }
   ],
   "source": [
    "df_sp = spark.read\\\n",
    "             .format('csv')\\\n",
    "             .option(\"header\", \"true\")\\\n",
    "             .option(\"mode\", \"FAILFAST\")\\\n",
    "             .option(\"inferSchema\", \"true\")\\\n",
    "             .option(\"sep\", \",\")\\\n",
    "             .load(\"babynames_short.csv\")\n",
    "\n",
    "df_sp.printSchema()"
   ]
  },
  {
   "cell_type": "markdown",
   "metadata": {
    "format": "text/markdown"
   },
   "source": [
    "\n",
    "Ensure that the dataframe has the following schema:\n",
    "\n",
    "    root\n",
    "        |-- name: string (nullable = true)\n",
    "        |-- n: integer (nullable = true)\n",
    "        |-- sex: string (nullable = true)\n",
    "        |-- year: integer (nullable = true)\n",
    "\n",
    "\n"
   ]
  },
  {
   "cell_type": "code",
<<<<<<< HEAD
   "execution_count": 7,
   "metadata": {
    "ExecuteTime": {
     "end_time": "2020-04-05T18:26:59.202485Z",
     "start_time": "2020-04-05T18:26:57.511032Z"
=======
   "execution_count": 6,
   "metadata": {
    "ExecuteTime": {
     "end_time": "2020-04-04T17:41:17.972914Z",
     "start_time": "2020-04-04T17:41:17.368487Z"
>>>>>>> 0c5561a74d1bcf6e1c90df8bbfa2f3b5ccc9c264
    },
    "autoscroll": "auto",
    "options": {
     "caption": false,
     "complete": true,
     "display_data": true,
     "display_stream": true,
     "dpi": 200,
     "echo": true,
     "evaluate": false,
     "f_env": null,
     "f_pos": "htpb",
     "f_size": [
      6,
      4
     ],
     "f_spines": true,
     "fig": true,
     "include": true,
     "name": null,
     "option_string": "evaluate=False",
     "results": "verbatim",
     "term": false,
     "wrap": "output"
    }
   },
   "outputs": [
    {
     "name": "stdout",
     "output_type": "stream",
     "text": [
      "+----------+---+---+------+\n",
      "|      name|  n|sex|  year|\n",
      "+----------+---+---+------+\n",
      "|    Emilia|112|  F|1985.0|\n",
      "|     Kelsi|112|  F|1985.0|\n",
      "|    Margot|112|  F|1985.0|\n",
      "|    Mariam|112|  F|1985.0|\n",
      "|  Scarlett|112|  F|1985.0|\n",
      "|      Aida|111|  F|1985.0|\n",
      "|    Ashlei|111|  F|1985.0|\n",
      "|     Greta|111|  F|1985.0|\n",
      "|    Jaimee|111|  F|1985.0|\n",
      "|     Lorna|111|  F|1985.0|\n",
      "|   Rosario|111|  F|1985.0|\n",
      "|     Sandi|111|  F|1985.0|\n",
      "|   Sharina|111|  F|1985.0|\n",
      "|    Tashia|111|  F|1985.0|\n",
      "|     Adina|110|  F|1985.0|\n",
      "|    Ahsley|110|  F|1985.0|\n",
      "|Alessandra|110|  F|1985.0|\n",
      "|    Amalia|110|  F|1985.0|\n",
      "|    Chelsi|110|  F|1985.0|\n",
      "|    Darcie|110|  F|1985.0|\n",
      "+----------+---+---+------+\n",
      "only showing top 20 rows\n",
      "\n"
     ]
    }
   ],
   "source": [
    "df_sp.show()"
   ]
  },
  {
   "cell_type": "markdown",
   "metadata": {
    "format": "text/markdown"
   },
   "source": [
    "SQL versus spark-Dataframe API\n",
    "=================================\n",
    "\n",
    ">  Dataset API vs SQL\n",
    "\n",
    "> Spark SQL supports two \"modes\" to write structured queries: Dataset API and SQL. SQL Mode is used to express structured queries using SQL statements using SparkSession.sql operator, expr standard function and spark-sql command-line tool.\n",
    "\n",
    "> Some structured queries can be expressed much easier using Dataset API, but there are some that are only possible in SQL. In other words, you may find mixing Dataset API and SQL modes challenging yet rewarding.\n",
    "\n",
    "> What is important, and one of the reasons why Spark SQL has been so successful, is that there is no performance difference between the modes. Whatever mode you use to write your structured queries, they all end up as a tree of Catalyst relational data structures. And, yes, you could consider writing structured queries using Catalyst directly, but that could quickly become unwieldy for maintenance (i.e. finding Spark SQL developers who could be comfortable with it as well as being fairly low-level and therefore possibly too dependent on a specific Spark SQL version).\n",
    "\n",
    "Warmup:  compute the 10 most popular names given to babies in year 2000.\n",
    "======================================================================\n",
    "\n",
    "## Using `spark.sql()`\n",
    "\n",
    "In order to use mode `sql`, create a temporary view from the `DataFrame`.\n",
    "\n",
    "1. What are temporary views made of?\n",
    "1. Are there other kind of views in spark's world?"
   ]
  },
  {
   "cell_type": "code",
<<<<<<< HEAD
   "execution_count": 8,
   "metadata": {
    "ExecuteTime": {
     "end_time": "2020-04-05T18:27:03.059217Z",
     "start_time": "2020-04-05T18:27:00.756294Z"
=======
   "execution_count": 7,
   "metadata": {
    "ExecuteTime": {
     "end_time": "2020-04-04T17:41:28.745055Z",
     "start_time": "2020-04-04T17:41:28.094791Z"
>>>>>>> 0c5561a74d1bcf6e1c90df8bbfa2f3b5ccc9c264
    },
    "autoscroll": "auto",
    "options": {
     "caption": false,
     "complete": true,
     "display_data": true,
     "display_stream": true,
     "dpi": 200,
     "echo": true,
     "evaluate": false,
     "f_env": null,
     "f_pos": "htpb",
     "f_size": [
      6,
      4
     ],
     "f_spines": true,
     "fig": true,
     "include": true,
     "name": null,
     "option_string": "evaluate=False",
     "results": "verbatim",
     "term": false,
     "wrap": "output"
    }
   },
   "outputs": [
    {
     "data": {
      "text/plain": [
       "[]"
      ]
     },
<<<<<<< HEAD
     "execution_count": 8,
=======
     "execution_count": 7,
>>>>>>> 0c5561a74d1bcf6e1c90df8bbfa2f3b5ccc9c264
     "metadata": {},
     "output_type": "execute_result"
    }
   ],
   "source": [
    "Catalog(spark).listTables()"
   ]
  },
  {
   "cell_type": "code",
<<<<<<< HEAD
   "execution_count": 9,
   "metadata": {
    "ExecuteTime": {
     "end_time": "2020-04-05T18:27:06.674219Z",
     "start_time": "2020-04-05T18:27:03.891621Z"
=======
   "execution_count": 10,
   "metadata": {
    "ExecuteTime": {
     "end_time": "2020-04-04T17:42:11.556602Z",
     "start_time": "2020-04-04T17:42:10.851544Z"
>>>>>>> 0c5561a74d1bcf6e1c90df8bbfa2f3b5ccc9c264
    }
   },
   "outputs": [
    {
     "data": {
      "text/plain": [
       "[Table(name='new_view', database=None, description=None, tableType='TEMPORARY', isTemporary=True)]"
      ]
     },
<<<<<<< HEAD
     "execution_count": 9,
=======
     "execution_count": 10,
>>>>>>> 0c5561a74d1bcf6e1c90df8bbfa2f3b5ccc9c264
     "metadata": {},
     "output_type": "execute_result"
    }
   ],
   "source": [
    "# TODO: \n",
<<<<<<< HEAD
    "df=df_sp.createOrReplaceTempView(\"new_view\")\n",
=======
    "df_sp.createOrReplaceTempView(\"new_view\")\n",
>>>>>>> 0c5561a74d1bcf6e1c90df8bbfa2f3b5ccc9c264
    "\n",
    "Catalog(spark).listTables()"
   ]
  },
  {
   "cell_type": "markdown",
   "metadata": {
    "format": "text/markdown"
   },
   "source": [
    "\n",
    "## A query is a plain SQL query embodied in a string.\n",
    "\n"
   ]
  },
  {
   "cell_type": "code",
<<<<<<< HEAD
   "execution_count": 10,
   "metadata": {
    "ExecuteTime": {
     "end_time": "2020-04-05T18:27:09.743719Z",
     "start_time": "2020-04-05T18:27:08.435855Z"
=======
   "execution_count": 16,
   "metadata": {
    "ExecuteTime": {
     "end_time": "2020-04-04T18:05:53.268586Z",
     "start_time": "2020-04-04T18:05:53.016502Z"
>>>>>>> 0c5561a74d1bcf6e1c90df8bbfa2f3b5ccc9c264
    },
    "autoscroll": "auto",
    "options": {
     "caption": false,
     "complete": true,
     "display_data": true,
     "display_stream": true,
     "dpi": 200,
     "echo": true,
     "evaluate": false,
     "f_env": null,
     "f_pos": "htpb",
     "f_size": [
      6,
      4
     ],
     "f_spines": true,
     "fig": true,
     "include": true,
     "name": null,
     "option_string": "evaluate=False",
     "results": "verbatim",
     "term": false,
     "wrap": "output"
    }
   },
   "outputs": [
    {
     "name": "stdout",
     "output_type": "stream",
     "text": [
      "+-----------+-----+\n",
      "|       name|    n|\n",
      "+-----------+-----+\n",
      "|    Michael|64906|\n",
      "|Christopher|59600|\n",
      "|    Matthew|47073|\n",
      "|     Joshua|42195|\n",
      "|     Daniel|38541|\n",
      "|      David|38513|\n",
      "|      James|35854|\n",
      "|     Robert|32088|\n",
      "|       John|31499|\n",
      "|     Joseph|30213|\n",
      "|     Andrew|30168|\n",
      "|       Ryan|29895|\n",
      "|    Brandon|29301|\n",
      "|      Jason|26035|\n",
      "|     Justin|25541|\n",
      "|    William|24604|\n",
      "|   Jonathan|24119|\n",
      "|      Brian|23056|\n",
      "|   Nicholas|22391|\n",
      "|    Anthony|22085|\n",
      "+-----------+-----+\n",
      "only showing top 20 rows\n",
      "\n"
     ]
    }
   ],
   "source": [
    "query = \"\"\"TODO: \"\"\"\n",
    "\n",
    "\n",
    "query = \"SELECT name,n FROM new_view WHERE Sex= 'M'\"\n",
    "men_df_sp=spark.sql(query)\n",
    "men_df_sp.show()"
   ]
  },
  {
   "cell_type": "markdown",
   "metadata": {
    "format": "text/markdown"
   },
   "source": [
    "\n",
    "> This phrasing is not consistent with the DRY principle. Fix this using formatted strings.\n",
    "\n",
    "## Using the dataframe/dataset API\n",
    "\n",
    "This can also be done using Spark SQL API.\n",
    "\n",
    "### Pedestrian approach\n",
    "\n",
    "1. First select `10` most popular names for girls in year `2000`, define `spark` dataframe\n",
    "`top10_2000_f`.\n",
    "1. Does the definition of `top10_2000_f` involve _transformations_, _actions_ or both?\n",
    "1. What is the type of the result returned by `top10_2000_f.take(2)`? the type of elements of the result?\n",
    "\n"
   ]
  },
  {
   "cell_type": "code",
<<<<<<< HEAD
   "execution_count": 11,
   "metadata": {
    "ExecuteTime": {
     "end_time": "2020-04-05T18:27:18.001662Z",
     "start_time": "2020-04-05T18:27:11.101218Z"
=======
   "execution_count": 34,
   "metadata": {
    "ExecuteTime": {
     "end_time": "2020-04-04T23:38:18.871593Z",
     "start_time": "2020-04-04T23:38:15.769008Z"
>>>>>>> 0c5561a74d1bcf6e1c90df8bbfa2f3b5ccc9c264
    },
    "autoscroll": "auto",
    "options": {
     "caption": false,
     "complete": true,
     "display_data": true,
     "display_stream": true,
     "dpi": 200,
     "echo": true,
     "evaluate": false,
     "f_env": null,
     "f_pos": "htpb",
     "f_size": [
      6,
      4
     ],
     "f_spines": true,
     "fig": true,
     "include": true,
     "name": null,
     "option_string": "evaluate=False",
     "results": "verbatim",
     "term": false,
     "wrap": "output"
    }
   },
   "outputs": [
    {
     "name": "stdout",
     "output_type": "stream",
     "text": [
      "+---------+\n",
      "|     name|\n",
      "+---------+\n",
      "|    Emily|\n",
      "|   Hannah|\n",
      "|  Madison|\n",
      "|   Ashley|\n",
      "|    Sarah|\n",
      "|   Alexis|\n",
      "| Samantha|\n",
      "|  Jessica|\n",
      "|Elizabeth|\n",
      "|   Taylor|\n",
      "+---------+\n",
      "\n"
     ]
    }
   ],
   "source": [
    "query2 = \"SELECT name FROM new_view WHERE Sex='F' and year = 2000 ORDER BY n DESC LIMIT 10 \"\n",
    "top10_2000_f = spark.sql(query2)\n",
<<<<<<< HEAD
    "top10_2000_f.show()\n",
    "\n"
=======
    "top10_2000_f.show()"
>>>>>>> 0c5561a74d1bcf6e1c90df8bbfa2f3b5ccc9c264
   ]
  },
  {
   "cell_type": "code",
<<<<<<< HEAD
   "execution_count": 12,
   "metadata": {
    "ExecuteTime": {
     "end_time": "2020-04-05T18:27:25.942593Z",
     "start_time": "2020-04-05T18:27:21.648547Z"
=======
   "execution_count": 49,
   "metadata": {
    "ExecuteTime": {
     "end_time": "2020-04-05T00:43:53.405684Z",
     "start_time": "2020-04-05T00:43:50.560882Z"
>>>>>>> 0c5561a74d1bcf6e1c90df8bbfa2f3b5ccc9c264
    }
   },
   "outputs": [
    {
     "data": {
      "text/plain": [
       "list"
      ]
     },
<<<<<<< HEAD
     "execution_count": 12,
=======
     "execution_count": 49,
>>>>>>> 0c5561a74d1bcf6e1c90df8bbfa2f3b5ccc9c264
     "metadata": {},
     "output_type": "execute_result"
    }
   ],
   "source": [
    "from pyspark.sql import Row\n",
    "type(top10_2000_f.take(2))"
   ]
  },
  {
   "cell_type": "code",
<<<<<<< HEAD
   "execution_count": 13,
   "metadata": {
    "ExecuteTime": {
     "end_time": "2020-04-05T18:27:25.999815Z",
     "start_time": "2020-04-05T18:27:25.990648Z"
=======
   "execution_count": 50,
   "metadata": {
    "ExecuteTime": {
     "end_time": "2020-04-05T00:44:08.251185Z",
     "start_time": "2020-04-05T00:44:08.241720Z"
>>>>>>> 0c5561a74d1bcf6e1c90df8bbfa2f3b5ccc9c264
    }
   },
   "outputs": [
    {
     "data": {
      "text/plain": [
       "pyspark.sql.types.Row"
      ]
     },
<<<<<<< HEAD
     "execution_count": 13,
=======
     "execution_count": 50,
>>>>>>> 0c5561a74d1bcf6e1c90df8bbfa2f3b5ccc9c264
     "metadata": {},
     "output_type": "execute_result"
    }
   ],
   "source": [
    "type(Row(name='Emily'))"
   ]
  },
  {
   "cell_type": "markdown",
   "metadata": {
    "format": "text/markdown"
   },
   "source": [
    "\n",
    "1. Do the same thing for boys.\n",
    "\n"
   ]
  },
  {
   "cell_type": "code",
<<<<<<< HEAD
   "execution_count": 14,
   "metadata": {
    "ExecuteTime": {
     "end_time": "2020-04-05T18:27:31.999753Z",
     "start_time": "2020-04-05T18:27:28.894703Z"
=======
   "execution_count": 29,
   "metadata": {
    "ExecuteTime": {
     "end_time": "2020-04-04T20:30:09.005290Z",
     "start_time": "2020-04-04T20:30:06.122956Z"
>>>>>>> 0c5561a74d1bcf6e1c90df8bbfa2f3b5ccc9c264
    },
    "autoscroll": "auto",
    "options": {
     "caption": false,
     "complete": true,
     "display_data": true,
     "display_stream": true,
     "dpi": 200,
     "echo": true,
     "evaluate": false,
     "f_env": null,
     "f_pos": "htpb",
     "f_size": [
      6,
      4
     ],
     "f_spines": true,
     "fig": true,
     "include": true,
     "name": null,
     "option_string": "evaluate=False",
     "results": "verbatim",
     "term": false,
     "wrap": "output"
    }
   },
   "outputs": [
    {
     "name": "stdout",
     "output_type": "stream",
     "text": [
      "+-----------+\n",
      "|       name|\n",
      "+-----------+\n",
      "|      Jacob|\n",
      "|    Michael|\n",
      "|    Matthew|\n",
      "|     Joshua|\n",
      "|Christopher|\n",
      "|   Nicholas|\n",
      "|     Andrew|\n",
      "|     Joseph|\n",
      "|     Daniel|\n",
      "|      Tyler|\n",
      "+-----------+\n",
      "\n"
     ]
    }
   ],
   "source": [
    "# top10_2000_m = TODO:\n",
    "\n",
    "query3 = \"SELECT name FROM new_view WHERE Sex='M' and year = 2000 ORDER BY n DESC LIMIT 10\"\n",
    "top10_2000_m = spark.sql(query3)\n",
    "top10_2000_m.show()"
   ]
  },
  {
   "cell_type": "markdown",
   "metadata": {
    "format": "text/markdown"
   },
   "source": [
    "\n",
    "1. Compute the _union_ of the two spark dataframes. Store the result in\n",
    "dataframe `top10_2000`\n",
    "\n"
   ]
  },
  {
   "cell_type": "code",
<<<<<<< HEAD
   "execution_count": 15,
   "metadata": {
    "ExecuteTime": {
     "end_time": "2020-04-05T18:27:43.279293Z",
     "start_time": "2020-04-05T18:27:33.584145Z"
=======
   "execution_count": 37,
   "metadata": {
    "ExecuteTime": {
     "end_time": "2020-04-04T23:56:42.023580Z",
     "start_time": "2020-04-04T23:56:39.136392Z"
>>>>>>> 0c5561a74d1bcf6e1c90df8bbfa2f3b5ccc9c264
    },
    "autoscroll": "auto",
    "options": {
     "caption": false,
     "complete": true,
     "display_data": true,
     "display_stream": true,
     "dpi": 200,
     "echo": true,
     "evaluate": false,
     "f_env": null,
     "f_pos": "htpb",
     "f_size": [
      6,
      4
     ],
     "f_spines": true,
     "fig": true,
     "include": true,
     "name": null,
     "option_string": "evaluate=False",
     "results": "verbatim",
     "term": false,
     "wrap": "output"
    }
   },
   "outputs": [
    {
     "name": "stdout",
     "output_type": "stream",
     "text": [
      "+-----------+\n",
      "|       name|\n",
      "+-----------+\n",
      "|      Jacob|\n",
      "|    Michael|\n",
      "|    Matthew|\n",
      "|     Joshua|\n",
<<<<<<< HEAD
      "|Christopher|\n",
      "|   Nicholas|\n",
      "|     Andrew|\n",
      "|     Joseph|\n",
      "|     Daniel|\n",
      "|      Tyler|\n",
      "|      Emily|\n",
      "|     Hannah|\n",
      "|    Madison|\n",
      "|     Ashley|\n",
      "|      Sarah|\n",
      "|     Alexis|\n",
      "|   Samantha|\n",
      "|    Jessica|\n",
      "|  Elizabeth|\n",
      "|     Taylor|\n",
=======
      "|      Emily|\n",
      "|Christopher|\n",
      "|   Nicholas|\n",
      "|     Andrew|\n",
      "|     Hannah|\n",
      "|     Joseph|\n",
>>>>>>> 0c5561a74d1bcf6e1c90df8bbfa2f3b5ccc9c264
      "+-----------+\n",
      "\n"
     ]
    }
   ],
   "source": [
    "# top10_2000 = TODO:\n",
<<<<<<< HEAD
    "\n",
    "top10_2000 = top10_2000_m.unionAll(top10_2000_f) \n",
=======
    "query4 = \"SELECT name FROM new_view WHERE year = 2000 ORDER BY n DESC LIMIT 10 \"\n",
    "top10_2000 = spark.sql(query4)\n",
>>>>>>> 0c5561a74d1bcf6e1c90df8bbfa2f3b5ccc9c264
    "top10_2000.show()"
   ]
  },
  {
   "cell_type": "markdown",
   "metadata": {
    "format": "text/markdown"
   },
   "source": [
    "\n",
    "### Do it again, complying  with DRY principle\n",
    "\n"
   ]
  },
  {
   "cell_type": "code",
<<<<<<< HEAD
   "execution_count": 16,
   "metadata": {
    "ExecuteTime": {
     "end_time": "2020-04-05T18:27:45.159340Z",
     "start_time": "2020-04-05T18:27:45.091303Z"
=======
   "execution_count": null,
   "metadata": {
    "ExecuteTime": {
     "end_time": "2020-03-09T13:24:57.142207Z",
     "start_time": "2020-03-09T13:24:57.139678Z"
>>>>>>> 0c5561a74d1bcf6e1c90df8bbfa2f3b5ccc9c264
    },
    "autoscroll": "auto",
    "options": {
     "caption": false,
     "complete": true,
     "display_data": true,
     "display_stream": true,
     "dpi": 200,
     "echo": true,
     "evaluate": false,
     "f_env": null,
     "f_pos": "htpb",
     "f_size": [
      6,
      4
     ],
     "f_spines": true,
     "fig": true,
     "include": true,
     "name": null,
     "option_string": "evaluate=False",
     "results": "verbatim",
     "term": false,
     "wrap": "output"
    }
   },
   "outputs": [],
   "source": [
    "# TODO:"
   ]
  },
  {
   "cell_type": "markdown",
   "metadata": {
    "format": "text/markdown"
   },
   "source": [
    "\n",
    "\n",
    "Name portfolio through ages\n",
    "===========================\n",
    "\n",
    "1. Compute for each year and sex the number of distinct names given that year.\n",
    "\n"
   ]
  },
  {
   "cell_type": "code",
<<<<<<< HEAD
   "execution_count": 17,
   "metadata": {
    "ExecuteTime": {
     "end_time": "2020-04-05T18:28:40.221234Z",
     "start_time": "2020-04-05T18:27:47.429715Z"
=======
   "execution_count": 59,
   "metadata": {
    "ExecuteTime": {
     "end_time": "2020-04-05T01:44:08.738198Z",
     "start_time": "2020-04-05T01:44:08.708989Z"
>>>>>>> 0c5561a74d1bcf6e1c90df8bbfa2f3b5ccc9c264
    },
    "autoscroll": "auto",
    "options": {
     "caption": false,
     "complete": true,
     "display_data": true,
     "display_stream": true,
     "dpi": 200,
     "echo": true,
     "evaluate": false,
     "f_env": null,
     "f_pos": "htpb",
     "f_size": [
      6,
      4
     ],
     "f_spines": true,
     "fig": true,
     "include": true,
     "name": null,
     "option_string": "evaluate=False",
     "results": "verbatim",
     "term": false,
     "wrap": "output"
    }
   },
   "outputs": [
    {
<<<<<<< HEAD
     "name": "stdout",
     "output_type": "stream",
     "text": [
      "+------+---+--------------------+\n",
      "|  year|sex|count(DISTINCT name)|\n",
      "+------+---+--------------------+\n",
      "|1930.0|  M|                4541|\n",
      "|1935.0|  M|                4145|\n",
      "|1903.0|  F|                2083|\n",
      "|1956.0|  F|                6885|\n",
      "|1892.0|  M|                1260|\n",
      "|1995.0|  M|               10327|\n",
      "|1966.0|  M|                4536|\n",
      "|2006.0|  M|               14032|\n",
      "|1970.0|  F|                9350|\n",
      "|1889.0|  M|                1111|\n",
      "|1924.0|  M|                4970|\n",
      "|1973.0|  M|                5876|\n",
      "|2008.0|  F|               20457|\n",
      "|1911.0|  M|                1999|\n",
      "|1951.0|  M|                4251|\n",
      "|1921.0|  M|                4986|\n",
      "|1934.0|  F|                4973|\n",
      "|1898.0|  M|                1289|\n",
      "|1910.0|  M|                1839|\n",
      "|1953.0|  F|                6499|\n",
      "+------+---+--------------------+\n",
      "only showing top 20 rows\n",
      "\n"
=======
     "ename": "TypeError",
     "evalue": "'Column' object is not callable",
     "output_type": "error",
     "traceback": [
      "\u001b[0;31m---------------------------------------------------------------------------\u001b[0m",
      "\u001b[0;31mTypeError\u001b[0m                                 Traceback (most recent call last)",
      "\u001b[0;32m<ipython-input-59-7664f8188024>\u001b[0m in \u001b[0;36m<module>\u001b[0;34m\u001b[0m\n\u001b[1;32m      1\u001b[0m \u001b[0;31m# nb_names_year_sex = TODO:\u001b[0m\u001b[0;34m\u001b[0m\u001b[0;34m\u001b[0m\u001b[0;34m\u001b[0m\u001b[0m\n\u001b[0;32m----> 2\u001b[0;31m \u001b[0mdf_sp\u001b[0m\u001b[0;34m.\u001b[0m\u001b[0mname\u001b[0m\u001b[0;34m.\u001b[0m\u001b[0mshow\u001b[0m\u001b[0;34m(\u001b[0m\u001b[0;34m)\u001b[0m\u001b[0;34m\u001b[0m\u001b[0;34m\u001b[0m\u001b[0m\n\u001b[0m",
      "\u001b[0;31mTypeError\u001b[0m: 'Column' object is not callable"
>>>>>>> 0c5561a74d1bcf6e1c90df8bbfa2f3b5ccc9c264
     ]
    }
   ],
   "source": [
    "# nb_names_year_sex = TODO\n",
<<<<<<< HEAD
    "#df_sp.show()\n",
    "\n",
    "#valcumSum = df_sp.withColumn(\"cumulativeSum\", SELECT (df_sp(\"name\"))\n",
    "            # .over( Window.partitionBy(\"sex\").orderBy(\"year\")))\n",
    "\n",
    "query6= \"SELECT year,sex ,count(DISTINCT name) FROM  new_view   GROUP BY year,sex \"\n",
    "nb_names_year_fem=spark.sql(query6)\n",
    "nb_names_year_fem.show()\n",
    "\n",
    "#query7= \"SELECT year,sex, COUNT(DISTINCT name) FROM  new_view WHERE sex='M'  GROUP BY year,sex \"\n",
    "#nb_names_year_mal=spark.sql(query7)\n",
    "#nb_names_year_mal.show()\n",
    "\n",
    "#nb_names_year_all = nb_names_year_fem.unionAll (nb_names_year_mal)\n",
    "#nb_names_year_all.show(30)\n",
    "\n"
=======
    "query="
>>>>>>> 0c5561a74d1bcf6e1c90df8bbfa2f3b5ccc9c264
   ]
  },
  {
   "cell_type": "markdown",
   "metadata": {
    "format": "text/markdown"
   },
   "source": [
    "\n",
    "1. Plot the evolution of the number of distinct names as a function of `year`.\n",
    "Use some aesthetics to distinguish sexes.\n",
    "\n",
    "\n"
   ]
  },
  {
   "cell_type": "code",
<<<<<<< HEAD
   "execution_count": 18,
   "metadata": {
    "ExecuteTime": {
     "end_time": "2020-04-05T18:29:42.049695Z",
     "start_time": "2020-04-05T18:28:59.558322Z"
=======
   "execution_count": null,
   "metadata": {
    "ExecuteTime": {
     "end_time": "2020-03-09T13:24:58.841340Z",
     "start_time": "2020-03-09T13:24:58.838607Z"
>>>>>>> 0c5561a74d1bcf6e1c90df8bbfa2f3b5ccc9c264
    },
    "autoscroll": "auto",
    "options": {
     "caption": false,
     "complete": true,
     "display_data": true,
     "display_stream": true,
     "dpi": 200,
     "echo": true,
     "evaluate": false,
     "f_env": null,
     "f_pos": "htpb",
     "f_size": [
      6,
      4
     ],
     "f_spines": true,
     "fig": true,
     "include": true,
     "name": null,
     "option_string": "evaluate=False",
     "results": "verbatim",
     "term": false,
     "wrap": "output"
    }
   },
<<<<<<< HEAD
   "outputs": [
    {
     "data": {
      "image/png": "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\n",
      "text/plain": [
       "<Figure size 432x288 with 1 Axes>"
      ]
     },
     "metadata": {
      "needs_background": "light"
     },
     "output_type": "display_data"
    }
   ],
   "source": [
    "# TODO:\n",
    "#plt.plot(nb_names_year_fem,x=nb_names_year_fem.year ,y=nb_names_year_fem.count)\n",
    "#plot0 = pd.DataFrame(data =, columns =[\"plot\"])\n",
    "#plt.clf()\n",
    "q= sns.lineplot(data=nb_names_year_fem.toPandas(), x=\"year\", y= \"count(DISTINCT name)\")\n",
    "plt.show(q)\n",
    "\n"
=======
   "outputs": [],
   "source": [
    "# TODO:"
>>>>>>> 0c5561a74d1bcf6e1c90df8bbfa2f3b5ccc9c264
   ]
  },
  {
   "cell_type": "markdown",
   "metadata": {
    "format": "text/markdown"
   },
   "source": [
    "\n",
    "\n",
    "Assessing popularity through time\n",
    "=================================\n",
    "\n",
    "1. For each year and sex, compute the total number of births\n",
    "1. Plot the evolution of the sex ratio over time\n",
    "1. For each year, sex, and name compute the percentage of newborns\n",
    "given that name for that given year.\n",
    "\n",
    "\n",
    "> Use `Window` functions.\n",
    "\n"
   ]
  },
  {
   "cell_type": "code",
<<<<<<< HEAD
   "execution_count": 48,
   "metadata": {
    "ExecuteTime": {
     "end_time": "2020-04-05T19:26:48.450588Z",
     "start_time": "2020-04-05T19:26:36.761543Z"
=======
   "execution_count": null,
   "metadata": {
    "ExecuteTime": {
     "end_time": "2020-03-09T13:24:59.635054Z",
     "start_time": "2020-03-09T13:24:59.632434Z"
>>>>>>> 0c5561a74d1bcf6e1c90df8bbfa2f3b5ccc9c264
    },
    "autoscroll": "auto",
    "options": {
     "caption": false,
     "complete": true,
     "display_data": true,
     "display_stream": true,
     "dpi": 200,
     "echo": true,
     "evaluate": false,
     "f_env": null,
     "f_pos": "htpb",
     "f_size": [
      6,
      4
     ],
     "f_spines": true,
     "fig": true,
     "include": true,
     "name": null,
     "option_string": "evaluate=False",
     "results": "verbatim",
     "term": false,
     "wrap": "output"
    }
   },
<<<<<<< HEAD
   "outputs": [
    {
     "name": "stdout",
     "output_type": "stream",
     "text": [
      "+------+---+-------+\n",
      "|  year|sex|  total|\n",
      "+------+---+-------+\n",
      "|1930.0|  M|1097274|\n",
      "|1935.0|  M|1041103|\n",
      "|1903.0|  F| 261971|\n",
      "|1956.0|  F|2007432|\n",
      "|1892.0|  M| 122036|\n",
      "|1995.0|  M|1903185|\n",
      "|1966.0|  M|1783729|\n",
      "|2006.0|  M|2053406|\n",
      "|1970.0|  F|1748175|\n",
      "|1889.0|  M| 110580|\n",
      "|1924.0|  M|1132783|\n",
      "|1973.0|  M|1559244|\n",
      "|2008.0|  F|1888607|\n",
      "|1911.0|  M| 225970|\n",
      "|1951.0|  M|1882982|\n",
      "|1921.0|  M|1101463|\n",
      "|1934.0|  F|1044109|\n",
      "|1898.0|  M| 122690|\n",
      "|1910.0|  M| 194213|\n",
      "|1953.0|  F|1880924|\n",
      "+------+---+-------+\n",
      "only showing top 20 rows\n",
      "\n",
      "+------+------+------+---------+\n",
      "|  year|     M|     F|sex_ratio|\n",
      "+------+------+------+---------+\n",
      "|1880.0|110491| 90993|     1.21|\n",
      "|1881.0|100743| 91953|      1.1|\n",
      "|1882.0|113686|107847|     1.05|\n",
      "|1883.0|104627|112319|     0.93|\n",
      "|1884.0|114442|129020|     0.89|\n",
      "+------+------+------+---------+\n",
      "only showing top 5 rows\n",
      "\n"
     ]
    }
   ],
   "source": [
    "# TODO:\n",
    "\n",
    "df_births = df_sp.groupby(col(\"year\"), col(\"sex\")) \\\n",
    "         .agg(fn.sum(col(\"n\")).alias(\"total\")) \n",
    "#df_births = df_sp.groupby(col(\"year\"), col(\"sex\")).pivot(\"sex\") \\\n",
    "        #.agg(fn.sum(col(\"n\")).alias(\"total_births\")) \n",
    "                \n",
    "df_births.show()\n",
    "\n",
    "df = df_births.groupby(\"year\")\\\n",
    "            .pivot(\"sex\") \\\n",
    "            .sum(\"total\") \\\n",
    "            .withColumn(\"sex_ratio\",fn.round(col(\"M\")/col(\"F\"),2)) \\\n",
    "            .orderBy(\"year\").select(\"year\",\"M\",\"F\",\"sex_ratio\")\n",
    "            \n",
    "df.show(5)"
   ]
  },
  {
   "cell_type": "code",
   "execution_count": null,
   "metadata": {},
   "outputs": [],
   "source": []
  },
  {
=======
   "outputs": [],
   "source": [
    "# TODO:"
   ]
  },
  {
>>>>>>> 0c5561a74d1bcf6e1c90df8bbfa2f3b5ccc9c264
   "cell_type": "markdown",
   "metadata": {
    "format": "text/markdown"
   },
   "source": [
    "\n",
    "\n"
   ]
  },
  {
   "cell_type": "code",
<<<<<<< HEAD
   "execution_count": 28,
   "metadata": {
    "ExecuteTime": {
     "end_time": "2020-04-05T18:36:01.533606Z",
     "start_time": "2020-04-05T18:35:54.390176Z"
=======
   "execution_count": null,
   "metadata": {
    "ExecuteTime": {
     "end_time": "2020-03-09T13:24:59.913962Z",
     "start_time": "2020-03-09T13:24:59.911037Z"
>>>>>>> 0c5561a74d1bcf6e1c90df8bbfa2f3b5ccc9c264
    },
    "autoscroll": "auto",
    "options": {
     "caption": false,
     "complete": true,
     "display_data": true,
     "display_stream": true,
     "dpi": 200,
     "echo": true,
     "evaluate": false,
     "f_env": null,
     "f_pos": "htpb",
     "f_size": [
      6,
      4
     ],
     "f_spines": true,
     "fig": true,
     "include": true,
     "name": null,
     "option_string": "evaluate=False",
     "results": "verbatim",
     "term": false,
     "wrap": "output"
    }
   },
<<<<<<< HEAD
   "outputs": [
    {
     "data": {
      "image/png": "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\n",
      "text/plain": [
       "<Figure size 432x288 with 1 Axes>"
      ]
     },
     "metadata": {
      "needs_background": "light"
     },
     "output_type": "display_data"
    }
   ],
   "source": [
    "# %%\n",
    "# TODO: plot sex ratio\n",
    "\n",
    "p= sns.lineplot(data=df.toPandas(), x=\"year\", y= \"sex_ratio\")\n",
    "plt.show(p)\n",
    "\n",
=======
   "outputs": [],
   "source": [
    "# %%\n",
    "# TODO: plot sex ratio\n",
>>>>>>> 0c5561a74d1bcf6e1c90df8bbfa2f3b5ccc9c264
    "# %%"
   ]
  },
  {
   "cell_type": "markdown",
   "metadata": {
    "format": "text/markdown"
   },
   "source": [
    "\n",
    "1. Compute for each year, sex and name  the `row_number`, `rank`, and `dense_rank`\n",
    "of the name within that year and sex category, when names are sorted by increasing popularity.\n",
    "\n"
   ]
  },
  {
   "cell_type": "code",
<<<<<<< HEAD
   "execution_count": 32,
   "metadata": {
    "ExecuteTime": {
     "end_time": "2020-04-05T18:39:56.230419Z",
     "start_time": "2020-04-05T18:39:50.307941Z"
=======
   "execution_count": null,
   "metadata": {
    "ExecuteTime": {
     "end_time": "2020-03-09T13:25:00.180831Z",
     "start_time": "2020-03-09T13:25:00.177889Z"
>>>>>>> 0c5561a74d1bcf6e1c90df8bbfa2f3b5ccc9c264
    },
    "autoscroll": "auto",
    "options": {
     "caption": false,
     "complete": true,
     "display_data": true,
     "display_stream": true,
     "dpi": 200,
     "echo": true,
     "evaluate": false,
     "f_env": null,
     "f_pos": "htpb",
     "f_size": [
      6,
      4
     ],
     "f_spines": true,
     "fig": true,
     "include": true,
     "name": null,
     "option_string": "evaluate=False",
     "results": "verbatim",
     "term": false,
     "wrap": "output"
    }
   },
<<<<<<< HEAD
   "outputs": [
    {
     "name": "stdout",
     "output_type": "stream",
     "text": [
      "+---------+----+---+------+----+----------+----------+\n",
      "|     name|   n|sex|  year|rank|dense_rank|row_number|\n",
      "+---------+----+---+------+----+----------+----------+\n",
      "|     John|9655|  M|1880.0|   1|         1|         1|\n",
      "|  William|9532|  M|1880.0|   2|         2|         2|\n",
      "|     Mary|7065|  F|1880.0|   1|         1|         1|\n",
      "|    James|5927|  M|1880.0|   3|         3|         3|\n",
      "|  Charles|5348|  M|1880.0|   4|         4|         4|\n",
      "|   George|5126|  M|1880.0|   5|         5|         5|\n",
      "|    Frank|3242|  M|1880.0|   6|         6|         6|\n",
      "|   Joseph|2632|  M|1880.0|   7|         7|         7|\n",
      "|     Anna|2604|  F|1880.0|   2|         2|         2|\n",
      "|   Thomas|2534|  M|1880.0|   8|         8|         8|\n",
      "|    Henry|2444|  M|1880.0|   9|         9|         9|\n",
      "|   Robert|2415|  M|1880.0|  10|        10|        10|\n",
      "|   Edward|2364|  M|1880.0|  11|        11|        11|\n",
      "|    Harry|2152|  M|1880.0|  12|        12|        12|\n",
      "|     Emma|2003|  F|1880.0|   3|         3|         3|\n",
      "|Elizabeth|1939|  F|1880.0|   4|         4|         4|\n",
      "|   Walter|1755|  M|1880.0|  13|        13|        13|\n",
      "|   Minnie|1746|  F|1880.0|   5|         5|         5|\n",
      "|   Arthur|1599|  M|1880.0|  14|        14|        14|\n",
      "| Margaret|1578|  F|1880.0|   6|         6|         6|\n",
      "+---------+----+---+------+----+----------+----------+\n",
      "only showing top 20 rows\n",
      "\n"
     ]
    }
   ],
   "source": [
    "# TODO:\n",
    "\n",
    "window = Window.partitionBy('year','sex')\\\n",
    "    .orderBy(df_sp.n.desc())\n",
    "\n",
    "rank = fn.rank().over(window)\n",
    "dense_rank = fn.dense_rank().over(window)\n",
    "row_number = fn.row_number().over(window)\n",
    "\n",
    "\n",
    "dd=df_sp\\\n",
    "    .withColumn('rank', rank)\\\n",
    "    .withColumn('dense_rank', dense_rank)\\\n",
    "    .withColumn('row_number', row_number)\\\n",
    "    .orderBy('year', fn.col('n').desc())\n",
    "dd.show()"
=======
   "outputs": [],
   "source": [
    "# TODO:"
>>>>>>> 0c5561a74d1bcf6e1c90df8bbfa2f3b5ccc9c264
   ]
  },
  {
   "cell_type": "markdown",
   "metadata": {
    "format": "text/markdown"
   },
   "source": [
    "\n",
    "\n",
    "\n",
    "Evolution of top popular names through the century\n",
    "==================================================\n",
    "\n",
    "\n",
    "1. For each sex, select the ten most popular names in year 2000, and plot the proportion\n",
    "of newborns given that name over time. Take into account that some names might have\n",
    "zero occurrence during certain years.\n",
    "\n"
   ]
  },
  {
   "cell_type": "code",
<<<<<<< HEAD
   "execution_count": 55,
   "metadata": {
    "ExecuteTime": {
     "end_time": "2020-04-05T19:41:20.547966Z",
     "start_time": "2020-04-05T19:41:04.606490Z"
=======
   "execution_count": null,
   "metadata": {
    "ExecuteTime": {
     "end_time": "2020-03-09T13:25:00.429980Z",
     "start_time": "2020-03-09T13:25:00.427263Z"
>>>>>>> 0c5561a74d1bcf6e1c90df8bbfa2f3b5ccc9c264
    },
    "autoscroll": "auto",
    "options": {
     "caption": false,
     "complete": true,
     "display_data": true,
     "display_stream": true,
     "dpi": 200,
     "echo": true,
     "evaluate": false,
     "f_env": null,
     "f_pos": "htpb",
     "f_size": [
      6,
      4
     ],
     "f_spines": true,
     "fig": true,
     "include": true,
     "name": null,
     "option_string": "evaluate=False",
     "results": "verbatim",
     "term": false,
     "wrap": "output"
    }
   },
<<<<<<< HEAD
   "outputs": [
    {
     "name": "stdout",
     "output_type": "stream",
     "text": [
      "+------+-----------+---+-----+-------+--------------------+\n",
      "|  year|       name|sex|    n|  total|          proportion|\n",
      "+------+-----------+---+-----+-------+--------------------+\n",
      "|1988.0|  Elizabeth|  F|20036|1913203|0.010472490373473175|\n",
      "|1988.0|     Taylor|  F| 2796|1913203|0.001461423591746...|\n",
      "|1988.0|      Jacob|  M|15872|1913203|0.008296035496494622|\n",
      "|1988.0|   Nicholas|  M|25291|1913203|0.013219193154098127|\n",
      "|1988.0|      Sarah|  F|28366|1913203|0.014826445494806353|\n",
      "|1988.0|     Andrew|  M|35738|1913203|0.018679669643001814|\n",
      "|1988.0|    Jessica|  F|51538|1913203|0.026938071913957903|\n",
      "|1988.0|     Alexis|  F| 2902|1913203|0.001516828062678...|\n",
      "|1988.0|   Samantha|  F|20699|1913203|0.010819029658640511|\n",
      "|1988.0|     Hannah|  F| 5559|1913203|0.002905598621787...|\n",
      "|1988.0|    Michael|  M|64133|1913203|0.033521272964761185|\n",
      "|1988.0|Christopher|  M|52996|1913203|0.027700144731113218|\n",
      "|1988.0|    Madison|  F|  823|1913203|4.301686752529658E-4|\n",
      "|1988.0|      Emily|  F|15870|1913203|0.008294990129118551|\n",
      "|1988.0|     Daniel|  M|34694|1913203| 0.01813398787269307|\n",
      "|1988.0|     Joshua|  M|42649|1913203| 0.02229193661101305|\n",
      "|1988.0|     Joseph|  M|29003|1913203|0.015159395004084773|\n",
      "|1988.0|      Tyler|  M|13340|1913203|0.006972600398389507|\n",
      "|1988.0|     Ashley|  F|49961|1913203|0.026113799737926397|\n",
      "|1988.0|    Matthew|  M|45868|1913203|0.023974455402798345|\n",
      "+------+-----------+---+-----+-------+--------------------+\n",
      "only showing top 20 rows\n",
      "\n"
     ]
    }
   ],
   "source": [
    "# TODO:\n",
    "df_popular=dd.where('year=(2000)') \\\n",
    "          .where(\"dense_rank<=10\")\n",
    "#df_popular.show()\n",
    "df_ov= df_popular.select('name','sex')\\\n",
    "     .join(df_sp,['name','sex'],\"left\") \\\n",
    "     .join(df_births.where('sex=\"M\"').select('year','total'),'year','left')\n",
    "df_ov=df_ov.withColumn('proportion', df_ov['n']/df_ov['total'])\n",
    "df_ov.show()\n",
    "#top10_2000 = top10_2000_m.unionAll(top10_2000_f) \n",
    "#top10_2000.show()\n"
   ]
  },
  {
   "cell_type": "code",
   "execution_count": 56,
   "metadata": {
    "ExecuteTime": {
     "end_time": "2020-04-05T19:44:38.065145Z",
     "start_time": "2020-04-05T19:44:37.782174Z"
    }
   },
   "outputs": [
    {
     "name": "stdout",
     "output_type": "stream",
     "text": [
      "== Physical Plan ==\n",
      "*(13) Project [year#7883, name#10, sex#12, n#7881, total#5674L, (cast(n#7881 as double) / cast(total#5674L as double)) AS proportion#7897]\n",
      "+- SortMergeJoin [year#7883], [year#13], LeftOuter\n",
      "   :- *(9) Sort [year#7883 ASC NULLS FIRST], false, 0\n",
      "   :  +- Exchange hashpartitioning(year#7883, 200)\n",
      "   :     +- *(8) Project [name#10, sex#12, n#7881, year#7883]\n",
      "   :        +- SortMergeJoin [name#10, sex#12], [name#7880, sex#7882], LeftOuter\n",
      "   :           :- *(5) Sort [name#10 ASC NULLS FIRST, sex#12 ASC NULLS FIRST], false, 0\n",
      "   :           :  +- Exchange hashpartitioning(name#10, sex#12, 200)\n",
      "   :           :     +- *(4) Project [name#10, sex#12]\n",
      "   :           :        +- *(4) Sort [year#13 ASC NULLS FIRST, n#11 DESC NULLS LAST], true, 0\n",
      "   :           :           +- Exchange rangepartitioning(year#13 ASC NULLS FIRST, n#11 DESC NULLS LAST, 200)\n",
      "   :           :              +- *(3) Project [name#10, n#11, sex#12, year#13]\n",
      "   :           :                 +- *(3) Filter (isnotnull(dense_rank#5478) && (dense_rank#5478 <= 10))\n",
      "   :           :                    +- Window [dense_rank(n#11) windowspecdefinition(year#13, sex#12, n#11 DESC NULLS LAST, specifiedwindowframe(RowFrame, unboundedpreceding$(), currentrow$())) AS dense_rank#5478], [year#13, sex#12], [n#11 DESC NULLS LAST]\n",
      "   :           :                       +- *(2) Sort [year#13 ASC NULLS FIRST, sex#12 ASC NULLS FIRST, n#11 DESC NULLS LAST], false, 0\n",
      "   :           :                          +- Exchange hashpartitioning(year#13, sex#12, 200)\n",
      "   :           :                             +- *(1) Project [name#10, n#11, sex#12, year#13]\n",
      "   :           :                                +- *(1) Filter (isnotnull(year#13) && (year#13 = 2000.0))\n",
      "   :           :                                   +- *(1) FileScan csv [name#10,n#11,sex#12,year#13] Batched: false, Format: CSV, Location: InMemoryFileIndex[file:/opt/polynote/notebooks/babynames_short.csv], PartitionFilters: [], PushedFilters: [IsNotNull(year), EqualTo(year,2000.0)], ReadSchema: struct<name:string,n:int,sex:string,year:double>\n",
      "   :           +- *(7) Sort [name#7880 ASC NULLS FIRST, sex#7882 ASC NULLS FIRST], false, 0\n",
      "   :              +- Exchange hashpartitioning(name#7880, sex#7882, 200)\n",
      "   :                 +- *(6) Project [name#7880, n#7881, sex#7882, year#7883]\n",
      "   :                    +- *(6) Filter (isnotnull(name#7880) && isnotnull(sex#7882))\n",
      "   :                       +- *(6) FileScan csv [name#7880,n#7881,sex#7882,year#7883] Batched: false, Format: CSV, Location: InMemoryFileIndex[file:/opt/polynote/notebooks/babynames_short.csv], PartitionFilters: [], PushedFilters: [IsNotNull(name), IsNotNull(sex)], ReadSchema: struct<name:string,n:int,sex:string,year:double>\n",
      "   +- *(12) Sort [year#13 ASC NULLS FIRST], false, 0\n",
      "      +- Exchange hashpartitioning(year#13, 200)\n",
      "         +- *(11) HashAggregate(keys=[year#13, sex#12], functions=[sum(cast(n#11 as bigint))])\n",
      "            +- Exchange hashpartitioning(year#13, sex#12, 200)\n",
      "               +- *(10) HashAggregate(keys=[year#13, sex#12], functions=[partial_sum(cast(n#11 as bigint))])\n",
      "                  +- *(10) Project [n#11, sex#12, year#13]\n",
      "                     +- *(10) Filter ((isnotnull(sex#12) && (sex#12 = M)) && isnotnull(year#13))\n",
      "                        +- *(10) FileScan csv [n#11,sex#12,year#13] Batched: false, Format: CSV, Location: InMemoryFileIndex[file:/opt/polynote/notebooks/babynames_short.csv], PartitionFilters: [], PushedFilters: [IsNotNull(sex), EqualTo(sex,M), IsNotNull(year)], ReadSchema: struct<n:int,sex:string,year:double>\n"
     ]
    }
   ],
   "source": [
    "df_ov.explain()"
=======
   "outputs": [],
   "source": [
    "# TODO:"
>>>>>>> 0c5561a74d1bcf6e1c90df8bbfa2f3b5ccc9c264
   ]
  },
  {
   "cell_type": "markdown",
   "metadata": {
    "format": "text/markdown"
   },
   "source": [
    "\n",
    "1. Use `explain()` to determine the joining strategy used by spark.\n",
    "\n",
    "\n",
    "Plot  the popularity of each of the top ten achievers from year 2000 with respect to time\n",
    "==================================================================================\n",
    "\n",
    "\n"
   ]
  },
  {
   "cell_type": "code",
<<<<<<< HEAD
   "execution_count": 70,
   "metadata": {
    "ExecuteTime": {
     "end_time": "2020-04-05T19:53:54.651651Z",
     "start_time": "2020-04-05T19:53:51.307392Z"
=======
   "execution_count": null,
   "metadata": {
    "ExecuteTime": {
     "end_time": "2020-03-09T13:25:00.680650Z",
     "start_time": "2020-03-09T13:25:00.677469Z"
>>>>>>> 0c5561a74d1bcf6e1c90df8bbfa2f3b5ccc9c264
    },
    "autoscroll": "auto",
    "options": {
     "caption": false,
     "complete": true,
     "display_data": true,
     "display_stream": true,
     "dpi": 200,
     "echo": true,
     "evaluate": false,
     "f_env": null,
     "f_pos": "htpb",
     "f_size": [
      6,
      4
     ],
     "f_spines": true,
     "fig": true,
     "include": true,
     "name": null,
     "option_string": "evaluate=False",
     "results": "verbatim",
     "term": false,
     "wrap": "output"
    }
   },
<<<<<<< HEAD
   "outputs": [
    {
     "data": {
      "image/png": "iVBORw0KGgoAAAANSUhEUgAAAcAAAAGbCAYAAABTbEBHAAAABHNCSVQICAgIfAhkiAAAAAlwSFlzAAALEgAACxIB0t1+/AAAADh0RVh0U29mdHdhcmUAbWF0cGxvdGxpYiB2ZXJzaW9uMy4xLjEsIGh0dHA6Ly9tYXRwbG90bGliLm9yZy8QZhcZAAAgAElEQVR4nOzdeVhV1d7A8e8ZOMwiqCg4T+CIIJPziIKG4BhZWqaplWlplprXq1aW9ZrdqzezzFu3WzaYI2qZlmZqmZo5grMiMsooBzjjev9AzwU5TIoMuj7P4/PI3nvt/dv77LPXWWuvQSGEEEiSJEnSQ0ZZ3QFIkiRJUnWQGaAkSZL0UJIZoCRJkvRQkhmgJEmS9FCSGaAkSZL0UJIZoCRJkvRQqhEZ4MaNGxk7duxdp1+9ejXz58+vxIhKtmvXLvr27Yufnx9nzpypkmPOnTuX999/v1L2denSJSIjI/Hz8+Pzzz8vVxpvb2+uXr1aKceXiqqO+0mquCNHjhAaGlri+vj4eLy9vTEajVUY1YMlISEBPz8/TCZTlR2zRmSA9+rZZ59lyZIlwP2/Ed955x0WLFjAsWPH6NChw305xv30ySefEBwczLFjx3jyySeLrR8/fjzr16+/L8eWD4niavv9dLcuX77Mc889R7du3QgKCmLSpElcunSpyDafffYZPXv2pGvXrsybNw+9Xm9ZFx8fz/jx4+nSpQthYWEcPHiw3GnvRkBAADt37rT8PWDAgGLHfJCUp1Byr8+KO6+hp6cnx44dQ6VS3fU+K6rWZ4BV/TBNSEigbdu2VXrMylTb43/QlPZ5PCg/FKydx82bNxkwYAA//PADBw4coHPnzjz//POW9b/++isff/wxn332GXv27CE+Pp4VK1ZY1r/88st06NCBQ4cOMXPmTGbMmEF6enq50tZEVVnqkQoRFdC/f3+xevVqMWTIEBEQECDmzp0r8vPzLeu/+eYbERISIgIDA8XUqVNFUlKSZZ2Xl5f4z3/+IwYMGCCCgoLE0qVLhclkEkIIsWHDBvHYY49Ztn3jjTdEnz59hJ+fnxgxYoQ4fPiwZd2KFSvE9OnTxcsvvyz8/PzEt99+K1asWCFefvllIYQQffv2FV5eXsLX11f4+vqKQ4cOicDAQBEbG2vZx40bN4SPj49IS0srdo4mk0l88MEHol+/fqJbt27ilVdeEdnZ2UKn0wlfX1/h5eUlunTpIgYOHGj1Gl24cEFMmDBBBAYGisGDB4vt27db1u3Zs0dERkYKPz8/0adPH7FixYoiaQ8fPiyioqKEv7+/6NOnj9iwYYMQQog5c+aIRYsWicmTJwtfX18xevRocfXq1RI/p927d4uhQ4cKf39/MW7cOHHhwgUhhBDjx48X7dq1E506dRK+vr7i0qVLRdItX768yPrFixdbPrt169aJQYMGCX9/f7Fo0SJhNpst6davXy/CwsJEQECAmDhxooiPj7ca152fzZ9//lni9RZCiGvXrgkvLy/x9ddfi549e4qePXuKTz75pMTzLus6lfe+8vX1FeHh4eLSpUti9erVolu3bqJPnz7i119/tWyfnZ0t5s2bJ3r27Cl69eolli9fLoxGoxBCiCtXrognnnhCdO3aVQQFBYkXX3yxWKwl3U/9+/cXH330kQgPDxcdO3YUBoNBXLhwQYwbN074+/uLoUOHit27dxc554ULF4pJkyYJX19fERUVJVJSUsSbb74pAgICRGhoqDh9+rTV67Vo0SLx9ttvF1k2depU8emnnwohhEhKShIvvPCCCA4OFv379xf/+c9/LNsdP35cPProo8Lf31/07NlTLF68WOh0Ost6Ly8v8cUXX4hBgwaJ/v37l/iZ3ZaRkSG8vLxEenq6EEKIWbNmiffee8+y/uDBg6JHjx5CCCEuXbokOnbsKG7evGlZP3bsWLFu3boy097p1VdfFWvXrrWc7+24hRDi6tWrIjAwUJhMJvH777+L3r17CyGEmD17tvD29hadO3cWvr6+4uOPP7bcqxs3bhR9+/YVQUFBYtWqVSWe75w5c8Tf//538cwzz4guXbqIAwcOCJ1OJ5YuXSr69u0runfvLhYsWCDy8vKEEEKkpaWJKVOmCH9/fxEYGCjGjh1reX6W9Vz++eefRUREhPD39xdRUVEiJibGsi4hIUFMmzZNBAcHi6CgILF48WJx4cIF0alTJ9GuXTvh6+sr/P39i8Vf0rPi6NGjYuTIkaJr165i5MiR4ujRo1bPv7RraDAYhBBCjBs3TixfvlxERUUJX19fMXXqVJGeni5mzZol/Pz8xMiRI8W1a9cs+yzt2VuSCmeAjzzyiEhISBAZGRkiKipKLF++XAhRcJMFBQWJU6dOCZ1OJ15//XXx+OOPW9J6eXmJcePGiYyMDHH9+nUxePBg8e233wohimeAmzdvFunp6cJgMIi1a9eKHj16WD7QFStWiA4dOohdu3YJk8kk8vLyimSAd15EIYRYuHChePfddy1/f/bZZ2Lq1KlWz3H9+vUiJCRExMXFiZycHDFt2jQxe/bsIudx5coVq2m1Wq3o06eP+O6774TBYBCnT58WQUFB4vz580IIIX7//XcRGxsrTCaTiImJEd27dxe7du0SQggRHx8vfH19RXR0tNDr9SI9PV2cOXNGCFHwZQkKChLHjx8XBoNBzJo1S7z00ktWY7h06ZLo0qWL2L9/v9Dr9eLjjz8WISEhlofTuHHjLNfdGmvrvby8xJQpU0RWVpa4fv26CA4OFr/88osQQohdu3aJkJAQceHCBWEwGMQHH3wgoqKirO7b2mdT2vW+vf3MmTOFVqsVsbGxIjg4WBw4cMDq/su6TmXdV506dRL79u0TBoNBvPLKK6J///5i1apVQq/Xi2+++abIg/z5558XCxYsEFqtVty4cUOMGjVKfPXVV0IIIWbOnClWrVolTCaTyM/PL5LR3unO+6l///4iIiJCJCQkiLy8PKHX60VISIj48MMPhU6nEwcPHhS+vr7i4sWLRc755MmTIj8/X4wfP170799fbNq0SRiNRrF8+XIxbtw4q8c+fvy46Nmzp+VBmpaWJnx8fERqaqowmUxixIgRYuXKlUKn04m4uDgxYMAAsW/fPiGEECdPnhTHjh0TBoNBXLt2TYSFhVkyztvnNWHCBJGRkWF5iJdm165domfPnpa/hw0bVuQBlpaWZskgf/zxRxEWFlYk/eLFi8Xrr79eZto7rV+/3vIs2Lp1qxg4cKDlB8v69evFs88+K4QQRTJAIQo+p8L34e17df78+SIvL0/ExMSIjh07Wn583mnOnDmia9eu4siRI5b7ZMmSJWLq1KkiIyND3Lx5U0ydOlUsW7ZMCCHEsmXLxIIFC4Rerxd6vV4cPnzY8iO0tOfy6dOnRbdu3cRff/0ljEaj2Lhxo+jfv7/Q6XTCaDSKYcOGiSVLlgitVlvkXr3zmWzNnc+KjIwMERAQIDZt2iQMBoOIjo4WAQEBVq97adewcAYYEhIirl69KrKzs8WQIUPE4MGDxYEDByzf0blz5wohyn72lqTCVaBPPPEEHh4e1K1bl+eee47t27cDEB0dzahRo+jYsSMajYZZs2bx119/ER8fb0k7efJk6tati6enJ08++STbtm2zeozIyEhcXV1Rq9VMnDgRvV7P5cuXLet9fX0JCQlBqVRiZ2dXZswjRoxg+/btiFvDnm7ZsoWIiAir20ZHRzNhwgSaNm2Ko6Mjs2bNYseOHeWqjtq7dy+NGzdm1KhRqNVqOnToQGhoKD/88AMAwcHBeHt7o1QqadeuHY888gh//PEHANu2baNHjx6Eh4djY2ODq6sr7du3t+w7JCQEHx8f1Go1ERERxMTEWI1hx44d9O3bl549e2JjY8OkSZPIz8/n2LFjZcZfmsmTJ1OnTh08PT0JDg4mNjYWgK+//popU6bQunVr1Go1zz77LDExMVy/fr1c+y3P9Z42bRoODg54e3szcuTIEu8bKP06lXVfBQQE0Lt3b9RqNWFhYWRkZDBlyhRsbGwYOnQo169fJzs7mxs3bvDLL7/w2muv4eDgQL169ZgwYYLlu6BWq0lISCAlJQVbW1sCAgIqdK3Hjx+Ph4cHdnZ2HD9+nNzcXKZMmYJGo6F79+7079/fciyAQYMG0alTJ2xtbRk0aBC2trYMHz4clUrF0KFDS7xXfHx8cHZ25rfffgMK7p2goCDq16/PyZMnSU9P54UXXkCj0dC0aVMeffRRduzYAUCnTp3w9fVFrVbTpEkToqKiOHz4cJH9T5kyhbp165b5HU1KSmLx4sXMnTvXsiw3NxcnJyfL387OzgBotVq0Wq3l78LrtVptmWnvFBQUxNGjRzGbzRw+fJhnnnmGP//8E4DDhw8TFBRUaux3euGFF7Czs6Ndu3a0a9fO8j2xZuDAgfj7+6NUKtFoNHz77be89tpr1K1bFycnJ6ZOnVrknkpNTSUhIQEbGxsCAgJQKBSWfZX0XP7mm2+IioqiS5cuqFQqRowYgY2NDX/99RcnTpwgJSWFV199FQcHh7u6Vwvbu3cvzZs3Z/jw4ajVasLDw2nVqhV79uy5632OHDmSZs2a4ezsTJ8+fWjatCk9evSwfEdvNxwr69lbEnVFA/Lw8LD839PTk5SUFABSUlLo2LGjZZ2joyN169YlOTmZJk2aFEvbuHFjS9o7rV27lu+++46UlBQUCgU5OTlkZGRY1jdq1KhCMXfp0gU7OzsOHTpEgwYNiIuLY+DAgVa3TUlJoXHjxkXiNBqNpKWl0bBhw1KPc/36dU6cOFHkJjKZTJbM9vjx4yxbtozz589jMBjQ6/WEhYUBkJiYSLNmzUrcd/369S3/t7OzIzc3t8T4PT09LX8rlUo8PDxITk4uNfayNGjQwPJ/e3t7y8MkISGBt956i3feeceyXghBcnJyketYktKu92133jfnzp0rcX+lXaey7qt69eoVSevq6mp5IX/7IZ6bm0tKSgpGo5FevXpZtjebzZY4X3nlFf75z38yevRoXFxcePrppxk9enSZ18La+aakpNCoUSOUyv/9VvX09Czyed4Zd3nvFSj4cbh161Z69uzJ1q1bLQ2jrl+/TkpKSrF7+fbfly9fZunSpZw6dYq8vDxMJlOR7/+d51GS9PR0Jk6cyOOPP054eLhluYODAzk5OZa/b//f0dERR0fHIutur3d0dCwz7Z2aNWuGvb09MTExHD16lGnTpvHdd99x6dIlDh8+zPjx48s8h8IKX3t7e/tSr33h65Oenk5eXh4jR460LBNCYDabAZg0aRL/+te/mDhxIgBRUVFMmTLF6r4KP5cTEhLYvHkzX3zxhWW9wWAgJSUFpVKJp6cnanWFswGr7nz23I7lXp49ha+nra1tifd2Wc/eklT4zBMTEy3/T0hIwN3dHQB3d/civ/pzc3PJzMwskmkkJiZaXvgXTlvYkSNH+OSTT/jss89o27YtSqWSwMBAS+kNKPLL504lrbv9RW/QoAGhoaHY2tpa3e7O80hISECtVhd5yJTEw8ODwMBAPv30U6vrX375ZcaNG8cnn3yCra0tS5YssTyAPTw8OHHiRJnHKIu7u3uRDEIIQWJiYpmZ993y8PDg2WefLfNGA+ufTWnXOykpCSi4b1q3bm1Zb+2+KUt57qvyatSoERqNht9//93qw6NBgwa8+eabluM+/fTTBAYG0rx583Ltv/B1cnd3JykpCbPZbMkEExMTadGiRYXjtiYiIoLw8HBiY2O5ePEiISEhQMHn2qRJE3788Uer6RYtWkSHDh147733cHJy4rPPPivSSvLO87AmKyuLiRMnMmDAAJ577rki69q2bcvZs2cZOnQoALGxsdSvXx9XV1fatGnDtWvXyMnJsZT0YmNjLRloaWmtCQwMZOfOnRgMBho2bEhgYCCbN28mKyurSC3M/eTq6oqdnR3bt2+3+l11cnJi7ty5zJ07l3PnzvHUU0/RuXNnunfvDpT8XL79/bzz+gIcO3aMxMREjEZjsfu4rM/OGnd3dxISEoosS0xMpHfv3hXeV0WV9ewtSYWrQNetW0dSUhKZmZmsXr3acpOFh4ezceNGYmJi0Ov1LF++HB8fH0vpDwp+gWdlZZGYmMjnn39uSVuYVqtFpVLh5uaG0WjkX//6V7Ffe6Vxc3NDqVRy7dq1IssjIiLYvXs3W7duZfjw4SWmDw8P5z//+Q/Xrl1Dq9Xy/vvvM2TIkHL9SurXrx9Xrlxh8+bNGAwGDAYDJ06c4OLFi5Zzc3FxwdbWlhMnThSpyhs2bBgHDx60VP9lZGSUWHVVmiFDhvDLL7/w22+/YTAY+Pe//41Go8HPz69c6evXr1/s2pXmscce4+OPP+b8+fNAQeu+77//3uq21j6b8lzvVatWkZeXx/nz59m4caPV+6Ys93pfFebu7k7Pnj1ZunQpOTk5mM1m4uLiLNXZ33//vSXzdnFxQaFQFCnBVYSPjw92dnZ88sknGAwGDh06xM8//3xX18CaRo0a0blzZ1555RUGDx5sKen6+Pjg6OjIxx9/TH5+PiaTiXPnzll+pGm1Wktp7OLFi3z11VcVOm5OTg6TJk2ia9euzJ49u9j6yMhIvvvuOy5cuEB2djYffvghI0aMAKBly5a0b9+eDz74AJ1Ox65duzh79qyln15paa0JCgriiy++sJQegoOD+eKLL/D39y+xSX5FvydlUSqVjBkzhrfeestS+5GcnMyvv/4KwJ49e7h69SpCCJydnVGpVEUyqZKey2PGjOHrr7/m+PHjCCHIzc1l79695OTk4OPjQ4MGDXjvvffIzc1Fp9Nx9OhRoKBWITk5udTuI3deg759+3LlyhWio6MxGo3s2LGDCxcu0K9fv3KlvxdlPXtLUuFvZXh4OBMnTiQkJIRmzZpZfln06NGDF198kenTp9OrVy+uXbtWrPP2wIEDGTlyJMOHD6dfv35Wq4V69epF7969CQ0NZcCAAdja2parKuU2e3t7nn32WcaOHUtAQAB//fUXUPALoUOHDigUilLruUeNGkVERATjxo1j4MCBaDQaFixYUK5jOzk5sXbtWnbs2EHv3r3p1asXy5Yts9xECxcuZMWKFfj5+fHBBx8wZMgQS1pPT0/WrFnDp59+SlBQEMOHDy/1/UFJWrVqxf/93//xxhtv0K1bN/bs2cPq1avRaDTlSv/kk0+yc+dOAgMDLaWY0gwaNIhnnnmGWbNm0bVrV8LDw9m3b5/Vba19NuW53kFBQQwaNIgJEyYwceLEIlWP5XWv99Wd3n33XQwGA0OHDiUwMJAZM2aQmpoKwMmTJxkzZgx+fn4899xzzJ8/n6ZNm97VcTQaDatXr2bfvn1069aNxYsX8+6771pKxJVh+PDhnDt3jsjISMsylUrF6tWriY2NZeDAgXTr1o2//e1vlh8Nc+bMYdu2bXTt2pUFCxZUOEPetWsXJ0+eZOPGjfj5+Vn+3S5B9OnTh2eeeYYnn3ySfv360bhxY2bMmGFJv3z5ck6dOkVgYCDLli1jxYoVuLm5lSvtnQIDA9FqtQQGBgLg7+9Pfn5+qc+JKVOm8OGHHxIQEMDatWsrdO4leeWVV2jevDmPPvooXbt2ZcKECZZ31FevXuXpp5/Gz8+PqKgoxo4dS7du3SxpS3oud+7cmTfeeIPXX3+dwMBABg8ezMaNG4H/fcZXr16lf//+9OnTx/LjtVu3brRp04ZevXoRHBxsNd47nxWurq6sXr2aTz/9lODgYD755BNWr15t+Vzu5zUs69lbEoWoQB3QgAEDePPNN+nRo0eFA/T29ubHH38sdzXQ/TBv3jzc3d2ZOXNmtcUglV98fDwDBw7k9OnTlfaeQiru8OHDvPLKK+zZs+euqr6k6nUvz+WH3UPzVImPj2fXrl1s2rSpukORpBrDYDDw+eefM3r0aJn5SQ+dKh0J5sUXXyQ0NJSoqCiuXLlSbL3JZGLx4sWEhIQwaNCgIsPsrFy5ku7duxMZGUlkZCSLFy8u93H/8Y9/MGzYMCZNmnTXVVGS9KC5ePEigYGBpKamMmHChOoOR5KqXIWqQO/Fk08+yahRo4iMjGTLli1s2LCh2GDMmzdvJjo6mjVr1pCZmcnw4cNZt24dTZo0YeXKleTm5jJnzpyqCFeSJEl6wFVJCTAtLY0zZ85YmimHh4dz5swZy9h9t+3YsYMxY8agVCpxc3MjJCSkzI6MkiRJknQ3quQd4O1+aLebFKtUKtzd3UlMTCzSQigxMbFIR0oPDw9Lc3KA7du3s3//fho0aMD06dPL3bTfbDaj1WqxsbGR7zkkSZLKSQiBwWDA0dHxrrvy1GS1phHMY489xrPPPouNjQ0HDhzg+eefZ8eOHSV2bi1Mq9WWOnqIJEmSVDIvL69iw889CKokA7w9FJfJZEKlUmEymUhJSSnWD8vDw4OEhAR8fHyAoiXCwkNx9ezZEw8PD86fP1+usfpsbGyAgg+xvP3hCjt16hSdOnWqcLrqVNtirm3xQu2LWcZ7/9W2mMuKV6/Xc+7cOcsz9EFTJRlgvXr1aN++Pdu2bSMyMpJt27bRvn37Yh0kw8LCWL9+PYMHDyYzM5Pdu3fz5ZdfAgWjItweIuj2YMstW7Ys1/FvV3tqNJoSh0Ary92mq061LebaFi/UvphlvPdfbYu5PPE+qK+OqqwKdNGiRcydO5dVq1ZRp04dy+DJkydPZsaMGXTu3JnIyEiOHz/O4MGDgYJZAG53W1i+fDmnT59GqVRiY2PDu+++W6RUKEmSJEkVUWUZYOvWrYv067ttzZo1lv+rVKoS+/cVnm1AkiRJku7Vg9esR5IkSZLKoda0Ar1fDAYD8fHx5Ofnl7iNWq2+q5kZqlNti9lavHZ2djRp0uSBfQEvSVL1eugzwPj4eJydnWnRokWJL3pvT/1Sm9S2mO+MVwhBWloa8fHx5W7sJEmSVBEPfRVofn4+9erVe2BbOdVWCoWCevXqlVoylyRJuhcPfQYID24T39pOfi41U77JyNJjh1hz5kR1hyJJ9+ShrwKVJKl0Qgj2J13HRWNLG5e6mMyCTZcvADDeuwN2KvkYkWonWQKUJKlUpzPSmP3bL0z+5Ue2X72Es0bDsu59ATiSklRGakmqueRPtxrG29ubmTNnsmvXLjIzM3n11VcJDQ0F4OWXX+by5csYDAaaNWvGW2+9hYuLC4cOHWLJkiX4+Phw/Phx1Go1ixcvZu3atZw/fx4PDw9WrlyJg4MDer2e999/n8OHD6PX6/H29mbRokW1qsGMVLVOpKUCsDigB13qFww+0a2hBw5qNfsS4+nl0aQ6w5OkuyZLgDWQk5MTGzZs4N133+XNN9+0LJ8/fz4bN24kOjqaNm3aFBlE4OLFizzxxBNER0fj6+vLtGnTmDdvHjt27ECpVLJ9+3YAPvnkE5ydnfnuu+/YunUr7u7ufPzxx1V+jlLtcTL9Bh4OjoQ1a4mHgxMANkoVPRp68mvidcxVM6WoJFU6WQKsgYYOHQqAr68vKSkp6HQ6bG1t2bJlC9HR0RgMBnJzc2nRooUlTcuWLWnfvj0AHTp0IC4ujkaNGgHQsWNHrl69CsDPP/9MTk4OO3fuBAoGu23Xrl0Vnp1U25xKv0GXesWHHRzSrBX17R3IMxpxlH01pVpIZoA10O3BaW/Pn2g0Gjl58iRfffUVX3/9NW5ubkRHR/Ptt99a0hSe5UKlUhUZ4FalUqHT6YCCBg0LFy6ke/fuVXEqUi1nFoJn2nXG09Gp2LpeHo3p5dG4GqKSpMohq0BriezsbJycnKhbty56vZ4NGzbc1X4GDBjAZ599Zulfl5OTw8WLFyszVOkBolQoiGzZhkD3RlbXp+XnsfPalaoNSpIqicwAa4nevXvTrFkzQkNDGTduHB06dLir/UyZMoV27doxevRohg0bxuOPPy4zQKlE+xOvczDpeonrf7x2hb8fPkBibk4VRiVJlUNWgdYwZ8+eLfHvf/zjH1bTBAcHs3HjRsvfI0eOtLQcBZg+fbrl/zY2NsycOZOZM2dWVsjSA+yzs6dQKBT0aGS9qjPIvWBS68MpyUS0KF5NKkk1mSwBSpJkld5kIjYznc5u9UvcplUdF9xs7TiSKvsDSrWPzAAlSbLqXFYGBrOZTqVkgAqFgiD3RvyRkoSQ3SGkWkZmgJIkWfV7cgIAPm7Fu0AUFtCgERm6fC5mZ1ZFWJJUaWQGKElSMUazmc2XL9DN3YP69valbhvk7kFUa285JqhU68g7VpIkq17o5EdDB4cyt2vo4MCsLgFVEJEkVS6ZAUqSVIxaqSSsWfknIk7Pz+ffsScxCcG5rAxGtGxDePPWxbYzCTMqhax4kmoGeSdKklTEtZybvH7ktwr17TuTkcb6S+fYePk8mTodbxz9nS/OnSmyzcZL5wjfsYmkXG1lhyxJd0VmgDXMgAEDCAsLIzIy0vIvPj4eb29vtNqCB8fkyZOJi4u7q/0fOnSIkSNHVjhdTEwMO3bsKLKscEzSg2PrlQv8cO0y6gqU1Ho28uTLgUPZF/kYXw96hJAmzfnPudOk3xpxKDlXyzt/HSZdl089O7v7FbokVYisAq2BVqxYgZeXV4nrC88CUVViYmLYu3evZaBuqXqcy0ynjYsrAkGWTo/bfchMfktOxK++Ow3sy37/d5tCoaCNi6vl79cDe5Co1eJmZ4dJmHnv+BFsVSq+DgnHRqmq9Jgl6W7IDLAWGjBgAKtXr6ZevXpMnDjRsjwxMZHhw4fz2muvMX/+fOLi4orNHQgFg2u/+uqrnD59Gnt7e5YuXUqbNm0A2LRpE+vWrcNkMuHk5MSiRYtwdXVlxYoV5OTkEBkZSWBgIH/7298A+O9//2t17kKp8l3KzuSZvT/yeNv2aI0Gfk2MZ55fMK62tmTp9ZzOuMFTXh1RKBR3fYwMXT7nszJ4rkOXe4pVpVDSxMkZg9nEqJ1bSc7L5YVOvrjbO/DWn7/T3NmFJ9q2v6djSNK9khlgIabDpzD+cbLYcqXJhE51b79a1UGdUQV2Kte2M2bMKDIjROFhzgqrV68eW7ZsAeDMmTNMnz6dcePGATB79myaNCmYqPT9999nzZo1zJ49GygYXu1vf/sb7777Lps2beLVV19l48aNHBenMTsAACAASURBVDlyhO+//54vv/wSjUbDL7/8wmuvvcbXX3/NjBkz2Lt3LytWrCgSw+25C48ePcpLL70kM8D7JN9kZP4f+3GwsWFMay9S8nL5Pu4yMw78bNlGAQxq0pzGjs78FH+Vvp5NUSsr9pbjz9RkAPxLGPy6opQKBd0benJdm8PYNu1RK5Uk5+bya+J1RrfywvYev1eSdC9kBlgDlVUFeqfExERmzJjBsmXLaNasGQDbt29n586dVucObN68OUFBQQBERkayYMECcnJy+Pnnn4mNjWXMmDFAwdRJ2dnZpR67pLkLpcq19/o1LmVn8V73vtSzs6eenT3fDArnUnYWWoMBO7WKTm71cbLRcCk7i9f+2M/igB4VaskJcCQ1GQe1mvZ13SolbpVCybyuwUWWjfPqwAv7f+Kn61cZ2qxVpRxHku6GzAALUQV2slpK02q12Ds6VkNEZcvJyWHq1KnMnj0bPz8/AI4cOcL69ev59ttvrc4dWBIhBKNGjeLFF18s9/GtzV0oM8DK90dKEnU0miKDUt/OCO/U3NkZW5WKMxlpFc4Ap3TwYXDT5hUuOVZEQIOGeDg48uO1KzIDlKqVbAVaixmNRmbMmEFkZCRhYWGW5WXNHRgXF8eRI0cAiI6OxsvLCycnJwYMGMCWLVtISioY2NhkMnHq1CmgoKrz5s2bVXRmUmFCCA6nJhHQoBHKcrzfUymUeLm4cjYzvcLHcrW1w69+w7sJs9wUCgWDmjTnj5QkSytRSaoOsgRYAxV+Bwjw5ptvWt3uzz//5LfffiMtLY2tW7cCMGzYMJ566ik2btxIaGgorq6uBAQEcPLk/95tenl5sX79ehYtWoSdnR3vvvsuAIGBgbz00ks899xzmEwmDAYDYWFhdOrUie7du/Pvf/+biIgIgoKCLI1gpPtPAC/7BOBSgZJ1u7pubI+7hFmIcmWaAPsS4tmfFM+Lnf1xtLG5y2jLJ7RpC766EEtMZho9S5hqSZLuN5kB1jA///yz1eWF5wUsvE1MTIzV7d955x0crVTbBgcHWzJLayIiIoiIiCi23NnZma+//rrEmKz9LVUOpUJBv8ZNK5TGu64b6y+d41rOTZo71ylzeyEEu69f5VByInP9gsvc/l61cXHlh0dG43SfM1pJKo3MACWphvv24lk8HBzp7dGk3Gk6udWnt0cTjGZzqdvdyMtjf9J1Nl4+z9nMdB5p1qrcJcZ75WRjg9FsxmA2Y6+WjyKp6sm7TpJqMJMw89GZ4wxs3KxCGWDLOi4s69632HKzEBxPS7G855t5cA/nsjJoVceFOb6BVdooJcegZ9TOrbR1cWVqxy6lTrwrSfeDzAAlqQaLzUgnx2AgoEHF++Xlm4wkarW0rONiWfZp7Ck+jjnBxtAIGjs685KPP842NrR1cb2nDvR3w8lGw5PeHfk09hTP7N3JmFZezPYNrNIYpIdblbUCvXz5MlFRUYSGhhIVFcWVK1eKbWMymVi8eDEhISEMGjSI9evXF9vm0qVLdOnShXfeeacKopak6nU4taBF7t1kgP888SfP/LLTMlO7WQi2XLlAYINGlu4T/g0a4lXXrcozv9ueaNuerUOGM6hJczZfucBNvb5a4pAeTlWWAS5cuJDHH3+cnTt38vjjj/P3v/+92DbR0dHExcXx448/8s0337By5Uri4+Mt600mEwsXLiQkJKSqwpakanU4JYm2Lq53Neand103cgwGrmsLZnU4r8slOS+XiBata9TktQ5qGx5r0w6D2cwvideqOxzpIVIlGWBaWhpnzpwhPDwcgPDwcM6cOUN6etF+Sjt27GDMmDEolUrc3NwICQnhhx9+sKz/+OOP6devX5FRTSTpQZVvNHI8LZXAuxyWzLtuweDUt/sD/pGTjYNaTR/P8r9LrCodXevxtHcn2lXSCDSSVB5V8jMwMTGRhg0bWkYLUalUuLu7k5iYiJubW5HtPD09LX97eHhYOmXHxsayf/9+Pv/8c1atWlUVYVe5MWPGoNfrMRgMXLlyhbZt2wLQoUMH3n777Qrty2g04u3tzYkTJ+TILLWUUqHgjcCeNHVyvqv0revURaNUsvnKBQLcG3Es9yYhzVrUqNLfbQqFgmc73tsA3JJUUTXvm2CFwWBgwYIFvP3225ZM9G7cHtWkMLVaXa457api3rvPPvsMgISEBMaNG8e6devu+fharRaj0Vju7Y1GI+pqapJu7Rz1ej1Hjx6thmjK537HVgfIIpW7PcrIug34JiWJeT/vZKSrO011php7Pc1CcDAnCxeVms4OTsD9v773Q22LubbFW5mq5Enn4eFBcnIyJpMJlUqFyWQiJSUFDw+PYtslJCTg4+MD/K9EmJqaSlxcHFOmTAEKhvoSQpCTk8Mbb7xR7jg6depUrDQUExNjtcN4YVqttsxtKpO9fUEDhdvHTE5OZvbs2Wi1WvLz8wkJCWHWrFnk5eUREhLCli1bqF+/oAn5okWLaNy4MY8++qhlH7a2thw/fpwlS5aQl5eHo6MjCxYsoGPHjly9epWxY8cybNgwDh06xBNPPGEZDLsqlXSNNRoNXbrUzJLB0aNH8ff3v2/7X3PmBL713e+6ChTAH/C9Hkc7VzcSYs7e13jvlRCCZbu34aa0Y4K//32/vvdDbYu5rHh1Op3VgsODokoywHr16tG+fXu2bdtGZGQk27Zto3379kWqPwHCwsJYv349gwcPJjMzk927d/Pll1/i6enJoUOHLNutXLmS3Nxc5syZU6lxmo7uwXh4d7HlSpMZnereXpeqA0NQ+fe/q7QuLi589NFHODg4oNfrefrppzl48CA9evQgIiKC9evX89xzz5GTk8MPP/zA999/XyS9Tqdj+vTp/N///R/BwcH8+uuvTJ8+nZ07dwIF72i7du3KvHnz7ukcpcqTpdOxNvYkk9v73FMGCNC/ccEMIQmVEdh9pFAoGNK0JR+eOc7RW9MySdL9VGWtQBctWsQXX3xBaGgoX3zxBYsXLwZg8uTJlnEqIyMjadKkCYMHD+bRRx9l2rRpNG1asSGgHkQmk4mlS5cybNgwRo0axcWLFy1DoD3xxBN89913mEwmNm/eTL9+/XB1dS2S/uLFizg4OBAcXDDEVe/evYGCQbEBHBwc5Dx+NcyRG8kIIKiS5uWrLR5r044mjk689ech9GWMYiNJ96rKXva0bt3aar++NWvWWP6vUqksGWNppk+fXqmxWY7v399qKa26p0Nau3Ytubm5bNiwAY1Gw7x589DpdAA0adIEb29v9uzZw7p161i6dGmF9+/g4FDZIUv36HBKYsG8fK71qjuUKmWnVjPPL5hp+39ih8qG7tUdkPRAk9Mh1QLZ2dk0aNAAjUZDYmIie/bsKbJ+/PjxvPHGGzg4OFjenxbWunVrcnNzOXz4MAAHDhwAsEyeK9U8f6am4Fff/b7Oy1dTBbg3IqJ5a3LNZksn/nxT+RtySVJ51YpWoA+7p556ihdffJHw8HAaNWpEt27diqzv3r07arWaxx9/3Gp6W1tbVq5cWaQRzIoVK7CRI/HXSBm6fK7mZBPe/OGdLPYlH39+PnIYhULBe8ePcDYznQ/7hKBSPHw/CKT7R2aANVCTJk2KNPpp2rQpGzduLHH7uLg4DAYDjzzyiGWZWq0uMj1Rly5drM4K37x5c0uJUKoZ7FRq3grujZeLa9kbP6AcbWzw1BS02G7v6sa3F8/y9YWzjG3TDq3BgLNGU80RSg8CmQHWcu+//z6bNm1i7ty5ssP7A8JerWZgY1k9fduQpi3Ze/0aq0//xU/xV3G20fCPnv1JytNiFoLGjnc3UIAkyfqEWm7mzJns27ePoUOHVncoUiX5LPYUvycnVncYNYZCoWCuXzCONjbEa3MY1LQ5AO8c+4MJe34gx2Co5gil2kpmgJJUg+QbjXwcc4I/ZT+4Itzs7Phy4CNsGBxBePPWKBQKHmvTjmy9nlPpqdUdnlRLyQxQkmqQUxk3MAlBl/oNqjuUGqeenX2Rd3+d3RqgRMHJtBvVGJVUm8kMUJJqkOM3UlEAPm4yAyyLo40NrVxcOJkuM0Dp7sgMUJJqkL/SUmjtUle2ciynzm71OZ1xA/Ot/oKSVBGyFagk1RAmYeZU+g2GNG1Z3aHUGn09muKgtkFnMmFfTbOYSLWXLAHWMAMGDODcuXOVus/4+HjLOKBSzSUE/K1rN4a1aF3dodQa3Rt5MqNzV5n5SXdF3jWSVEOolUoGNmle3WHUOnE52WTo8ulSz726Q5FqGVkCrKH+/e9/M2rUKIYPH05UVJRl9geAY8eOMXbsWCIiIoiIiGD//v0AnDhxgqioKIYNG8ZTTz3FiRMniuzz9owSw4YN48iRI1V6PlLZdsVf4af4q9UdRq3z/vGjvP3nH9UdhlQLyRJgITdPbSP75NZiy00mE5n3MBM9QJ3OETh3Ci/39sOHD2fixIkAHDx4kIULF/Ltt9+SmZnJCy+8wMqVK+natSsmk4mcnBz0ej0zZszg7bffpnv37vz888/MmDGDH3/8EYDMzEzatWvH3LlzOXToELNmzWL37t1oZGOLGuOLczE422hkKbCCOterz8HkBG7q9bLxkFQhMgOsoU6dOsVHH31EVlYWCoWCK1euAPDXX3/RunVrunbtChRMIeXi4sLZs2exsbGhe/eCCWSCg4OxsbHh8uXLODo6YmNjQ0REhGWdnZ0dly5dol27dtVyflJROpOJ81kZjGvbobpDqXVudxl588/fmdSuM151H94xVKWKkRlgIc6dwq2W0rRaLY5VOB+g2WzmxRdf5IsvvqBjx44kJyfTp0+fKju+VPXOZWVgEoKObg/X/H+VoWuDhjzl1ZH1l86yN+Eac3wDGdnKq7rDkmoB+Q6whjIajXh4eACwbt06y3JfX18uXrzIsWPHgILq2aysLFq2bInBYOD3338H4I8//sBoNNKyZUGTeoPBQHR0NABHjhwhPz+fVq0e3ul2apoztzpzd3jIJsCtDEqFguc7+bIlbDivdAlkaDN5X0vlI0uANYzRaMTe3p4ZM2YwevRo6tatS2hoqGV93bp1WblyJUuXLiU3NxelUsmcOXPo0aMHK1asYMmSJeTm5mJra8s///lPyzu+unXrEhsbyyeffALA8uXL5fu/GuR0RhoN7OxpYO9Q3aHUWnU0toxuXVDyS9Dm4GZrh53sHiGVQt4dNUhKSgparZaGDRsyefJkJk+ebFk3depUy/+7du3KN998Uyy9j4+PZXnhatvC8wvOmTPnfp6CdJfCmrYgoEGj6g7jgZChy2fcTzsIadKceX5BKBSK6g5JqqFkBlhDfP7556xbt445c+ZgZ2dX3eFIVaxHo8bVHcIDw9XWjtGtvPjPudM0cnBgYrvO1R2SVEPJDLCGePLJJ3nyySerOwypGiRoczielkrPRp7U0chJjSvDsx27kJqfy0dnTlBXYysbxUhWyUYwklTN/ryRzKIjB8nU66o7lFolz2jkcvZNq+uUCgXzu3ajZyNPlh0/wrnM9CqOTqoNZAYoSdUsPicHJQo8HKquq01tlm8yAXAjX8fjP+4jJj3T6nZqpZJFAT3wcHDkys3sqgxRqiVkBihJ1ey69iaNHByxUd7baEMPg6/OXWLcrn1k6HS42WoQwIenzpa4fR2NLd8MGsbgpi2qLEap9pAZoCRVs+vaHJo4OVV3GDXemtPn+OeJGNq61MFercbRxoaXunTgj5QbHE4ueVJctVJJvsnIqlN/cV1rvcpUejjJDLCGGTBgAOHh4ZjN5iLLzp07x/z588scxHrlypW88847FT7uuLGP89PWbRVOJ927eG0OjR1lBliWTZfi6NGoAUu6dcXu1ti8I1o1o5GDPR+eikWUMilulk7PtxfPsvz40aoKV6oFZAZYA+Xm5rJly5Ziy5csWUJAQEClH0+YzWAygU6PyJcNMaqSSZgZ0qwl3dw9qzuUSmEWgn8eP8PFrMotaelMJtJ1Ojq5uaIs1K/PVqXimQ5tOZORxcGklBLTN3Rw4Jn2ndmfdJ1fE+MrNTap9pIZYA30wgsv8K9//Qu9Xl9k+fjx49mzZw8AN2/eZN68eQwbNoyIiAhef/11y3bJyclMnz6dsLAwpkyZQl5eHlDQOX7evHmEh4cTHh7OmjVrChJo80AACgUi8yZbt25lzJgxDB8+nOHDh/Pbb78BBWOULlq0iLCwMCIiInjsscfu/8V4wKkUSmb6+NOvcdPqDqVSJOXm8dX5yzyxa1+l7jclLx+Ahg72xdaFNWvME16taFzGeL2PtWlHS2cX3jt+hHyjsVLjk2on2Q+wkOTYbSTHFp8OyWwyobzH6ZAatougYbvyTYfUqVMnOnbsyFdffcVTTz1ldZu33noLBwcHtmzZglKpJD39f828T506xeeff07Dhg2ZNGkS0dHRPProo6xatQqz2Ux0dDRarZaoqCi8vLzo7dUBlAoUTg5gMNKzix+PdO+NIl/H5eREnp45g1/27SM2NpZDhw6xY8cOlEolWVlZ93RNJEjNyyVbr6dFnTqoFLX/9+jtjMq/QT2EEJU2CouDWsXUjl50cHMptk6tVDLdp32Z+1ArlbziG8jzv+5m69WLPNrau1Jik2qv2v+Ne0C99NJLrFmzBq1Wa3X9nj17mDRpEkplwUfo5uZmWderVy+cnZ1RKBT4+PgQFxcHwG+//caYMWNQKBQ4OTnxyCOPcPDX/WA0gUoJGhvQ2HDt3AWeefEFwidPYNbf/8aNG2mkXr5K06ZNMRqNzJ8/n82bN9//i/AQ2H71Eo//tB3drab9tV3qrQzwZd+OlToEWT07O55u35aWdZytrjcJweZLcexPSC51P/4NGtLWxZX4HNkYRpIlwCIatgu3Wkqr6umQAFq1akXfvn359NNPK5zW1vZ/o4moVCp0uoL3esIsEFk3EWYzilsZJwYjKBWgVKJQKFC4uTD77TeYM2cOg0JDMZlM+Pr6osu6iXurFmzfvp1Dhw5x8OBBli1bxqZNm2jQoEGlnPPDKP7WoM0OapvqDqVSJOcWVLfbqlSsPnWWka2b425/70P7nc/MJltvwN/d+mwZSuDr85dx0djQy7Nhqfv6tH+o7HIiAbIEWKNNnz6ddevWWS0F9u/fn7Vr11pavqXfSMOcmV1qS7jufl3ZsGUzIieXnJwcdmzfTg8fX3C0t/xaV9iouanV0rR5wazkGzduLHgXaTSSlpJCXl4evXv3Zvbs2Tg7O3Pt2rX7cOYPj+vamzR5gFqABjdswGzfjigU8HnsBWbt/4Nlx05xJKXkbgrl8d3FKyw4dKzE9QqFgiHNG3M8LYPrObml7stGqUIIQbYceeehV2UZ4OXLl4mKiiI0NJSoqCjLDOeFmUwmFi9eTEhICIMGDWL9+vWWdRs2bGDYsGFERkYybNgwPv/886oKvdo0atSIyMhIMjMzETm5RTK3efPmodVqCQ8PJyIigg/++U+4mVtQnWmF0Bt4buwTCAHDxozmscceY1hoGL2Dggve/RUyb948nn/+eUaMGMG1a9eoW7cuAIlX43j66aeJiIggIiKCPn364Ovre/8uwEMgXptDEyfr1Xq1Udu6dRjdpgWejg7M8uuIrUrFjqvxzNp/mJRbpcO7kZybTyOH0kuSYc0aowB2xl0vc39T9u3i9SO/3XU80gNCVJHx48eLzZs3CyGE2Lx5sxg/fnyxbTZt2iQmTpwoTCaTSEtLE7179xbXrl0TQghx8+ZNYTabLf/v16+fiImJKdex8/PzxZEjR0R+fn6xdWfOnCkzfU5OTrmOc7+Yc7TCFJcoTJnZ/1uWdVOY0jKF2WwWZpNJmK4lCVNcojBn3RRCFI/ZlJouTNeShDk7p2C73Hxhik8SptT0csVgSkwVpuQblXdSdyjpGpfn86kuR44cuaf0+UajCN7whVhz5kQlRVS6e423PHbFXRfHU9OKLLueoxU9vtsu3jlasfMsHG/UD3vFnINlx//snoNi7M69ZW637K/DotemdUJr0FcoprJUxTWuTGXFW9qz80FQ7hJgZmYmy5cvZ/LkyTzxxBNF/pUlLS2NM2fOEB5e8H4tPDycM2fOFGm5CLBjxw7GjBmDUqnEzc2NkJAQfvjhBwCcnJws1XT5+fkYDIYHYp4vIQQiKwehN5S8PvtWFWhuQQMDYb61TJsH2VrIyQUhQAGiUAlQ5OUX7DsnF/J04OwAjvagVCDSs8AsipX+SmRvCzoD4gFprFET5Bj0+NV3p61L3eoOpdL88/gZoq8UrRb3dHRgnn9notq2vKt9CiFIzs2jkX3xLhB3GtDEg0vZOSUOkn1bP8+m6M1mDiUn3lVM0oOh3I1gXn75ZfR6PUOGDMG+HDdiYYmJiTRs2BDVra4EKpUKd3d3EhMTi7ReTExMxNPzfx2CPTw8SEpKsvz9008/sXz5cuLi4nj55Zfx9n4AmjEbTYjsHDAaUdQreBAKkwmMJhS2moJMz2gCW01BR3WDsaDhihBgoy5Iq1CAnQbMAgr1bxIZNws6uAMoCro5KJRKhIN9QaZpoy7Ybzko7O0KMt08HZQ305RKVc/Ong/7DKruMCqN0WzmRr4OdyvPh/AWBf0cxV10jcg2GMgzmWhYRhUoQEhTD1rVcSLlxk/cSIPAlsOtbtelXgPqaDTsT7pO/8bNKhSP9OAodwZ47Ngxfv/9dzSa8j0w74eBAwcycOBAEhISmDZtGn369KFVq1blTn/q1Kliy9RqdYldDQorzzZ3Q6UzoAFEns5yDE1OHiq9EaNGjcJkBpUSvb0GO50efdZNlEYTSqUCnZMdmuxclCYzOo0alc6AymBEq9WiEAJMJoz2Gkw2aoRCgcgvKEEqVApsAYNGjSm39AYDhdkpFZhyctErSm5ocy+sXWO9Xs/RozV3+Kp7iS3HZMRBqSoyssn9dj+vZbrRhADyUpI5ml+8BBanM/Df1CymNKxLA5vyPXqOHj1KltGEr4MtIiWJozczykxjNOuIjnsXO1UdlOklDzDQVGnDsYTrHKVyr0lNvl+tqW3xVqZyZ4De3t4kJSXRrFnFfy15eHiQnJyMyWRCpVJhMplISUnBw8Oj2HYJCQn4+PgAxUuEt3l6etK5c2f27t1boQywU6dORboIAMTExJTZxeF+doMw5xdM5aIQAgcbG1CrC0puNmpUBiMIULi54OBojzlXh43BWFAidHbAwckJYWcPej129nZwU4vQGXCwtyf/Zg4ANo4OaKw0QxdOjtgpK9YGyqwzosrNx8HBodKrn0u6xhqNhi5dulTqsSrL0aNH8ff3v+v0Lx3YQ7Zex7/7h1ViVCW713jLcuJGOlxLJbC9N/6N3Iutb5aXzz++38NhlR0L/K1/plqDgficXLxdXYrEO6ACceyI3cZpw6O0MvxE5y4d0Kit11j1jNFwKCURv65dK+1HyP2+xpWtrHh1Op3VgsODotxPwG7duvHMM8+wevVqvvvuuyL/ylKvXj3at2/Ptm0Fgy1v27aN9u3bF6n+BAgLC2P9+vWYzWbS09PZvXs3oaGhAFy8eNGyXXp6OocOHcLL6wGY5VmnB9tbfcDy9AVVjAIUrnVQNKqPwrUO3Kr6UdjbWlp5Km4NCaVQq1A43OrGoL7Vt8loQmm8NZi2jfX+ZYoKZn4ACjvbgqrXEt5XSuVnFoKT6am0dXGt7lAqze1RYKxVgQI0sLdjROvmfH81nrhbP9AK05tMTNt3iHXnLxVZnqXXk603lNrFp7BzCd/zwolARp+YTHL2pRK3m9S+Mx/3HVylJXCpZil3CfDIkSM0bNiQAwcOFFmuUCgYPXp0mekXLVrE3LlzWbVqFXXq1LHMWDB58mRmzJhB586diYyM5Pjx4wwePBiAadOm0bRpQRXGN998w4EDB1Cr1QghGDduHL169Sr3idZEwmgEkxmFs2NBY5d8HSiVllFZFAoFOBX6iOztICunIKOzVoWkvrXMaEJhMhV0cFdVYk+X2+8L8/XlfncoWXcpO5Mcg4Eu9R+cQQTc7e0Y1qJJqd0Vxnu3ZvOlONbGnGdxkJ9luRCCd/48RWxGFk96ty6S5r+xF/nmwhV+GRFGWVnVjZtxJN84xFMZE9ApGxKXcZ6mbh1L3F4Igc5swk4lxwR5GJX7U//vf/97Twdq3bp1kX59t1kGZKagcczixYutpn/ttdfu6fg1ku5WScpWA2ZzQYtOAGfrVYwKGzXCyQGFrY31KkhLCdCI0mQGG3WlVlUqVEqERo05Xw/2ApWm6L6FEJjyBEobBUob+au6NMfTUoGCxhgPCp/6bvjUdyt1m3p2toxu3Zwvz10iokUz/N3rYRKCtWfOsf1qPJPat6WNSx2OpNywZHbJefk0tLcrV0ntyJUtNMppiq1Jia1JSUxcEkGtrW8rhCDyh8309WzKy10qf5YVqear0M+erKws9uzZQ3JyMg0bNqR///64uBQfnFYqH6HTF5TSbNQohK2lu8POX3/ho1ujvOh0Ojp27Mh7770HgNK1Ton7UyiVCKUScbsEaGdrdbsBAwawevXqu6tCtrPFcFONKdWMXX0lKtv/PZQM2QJDjkBlC3b1ZQZYmhNpqdS3s8fT4cEZBebqzRzs1eoyhz4b792awyk3qGdnS1JuHnN/O0psRhahzTyZ1KEt8347ytnMbP7mXnCvJ+fmWZ0F4k5CCP68uo0+ItKyLCGu5HQKhQJ3ewfOZ5XdsEZ6MFWoFejUqVNp1aoVnp6e7Nmzh7feeouPPvoIPz+/sncgFafTg0aDQqFAaGxAqSAlI53FS5awadMmPDw8EEIQExNT/n2qVZi0uahQoChnS7uKUNhqUGVrMSk06NLN2DVQolAVPEyUNgoUKoFJJxAmgUIlM8HSBLt7PBB9WW97/fBxHNRqVvYJLnU7F1sNnw3shUKhQGcyYa9S8WawHwObFFyP4IYN+CUhmWRDQaOo5Nw8/N3rl3n8NO01svNT6JyUHgAAIABJREFUaZnTETRK0JvRpLuV2vXCy8WVH65dqdSZK6Tao9xPyLfeeouFCxfyyCOPWJbt2LGDN998kw0bNtyX4B5kwljQmlPhWNCnTqFQgJsLaSmJqNVqy/BjCoWCDh06AAV9MS9fvozBYKBZs2a89dZbuLi4cOjQId588006derEmZMnmfHURLRaLf+N3oLBVNAvcM6cOXTv3t1y/O+//54FCxaQmprKxIkTGTduXPkCt9WgUmRiZ5eLTudAfqoZpY0Cu/oK1A4KFGol+almjPkCG0f5QCnJ4sCe1R1CpUvJyyeoHBkVYMlsbFUqVvXtViTz6daooFo4Jk/HQKOJ5Lyyh0EDuJZ2EoA6ic6oOtZBdyqdrjlnydH1wNnO+iDabeu6suHyeRJztXg+QGOySuVT7gzwypUrDBkypMiy0NBQFi5cWOlBVZe489u4er74TOy3u2/ci+ZtI2nWtmAkHJGXj0jPBgUFI6zcorC3o30XH3x8fOjXrx/BwcF07dqVyMhIXF1dmT9/vqXl7Pvvv8+aNWuYPXs2ABcuXOD111/Hd958RFYOGVlZhI9/HKVKxaVLl5gwYQL79v1vktL8/Hy++eYb4uPjGTZsGCNGjChXVw9jrgC1Iyp9HrZuTuizBUrN/zo4K21AqQJTHthU7QQatYbWYMBOrXog5v+7zWg2k5aXf1czP9xZ8vJ0dKCZkyNn8nRkGwx4OtrTpV7Rd4siV49x70XUod4objX0iks/SV1jA1TpAmV/R8ypGbhrGxGfcZ72HtYzQK9brXDPZWbIDPAhVO4MsHnz5mzfvp1hw4ZZlv3www+WVppS+YicXERGdsF7PzfXYtWUSqWSVatWce7cOQ4fPszu3btZu3Yt0dHRbNmyhejoaAwGA7m5ubRo0cKSrnnz5vj5+SFuDTh8NSmBV5a/Q3JyMmq1mhs3bpCammqZumjo0KEANGnShDp16pCUlETr1iW0FijEmCNQoEFl0qKyU2BvV/ThpVAo0LgWVItK1n14+i/2Jlxj65ARD0wT/PR8HWbAvRwltfIIbtSATReuUEdjw5eD+mCv/t/3xLj3IiI9F+PP5zFfuIFmWk8UKiVx6SfxMfYBQNnKCZt4Z1z/asa431PZNFSPy/+zd+bhWVRn//+cmXnW7DuBEEhAdsIuoCJKQXGNC9BqXRGr1da3ra32V23FVtva6ltbX/uittbXUldQEaRWAVEQENn3LQvZ9/XJs87M+f0xISEkQIAEQ8jnurhI5jlz5sw8k7nn3Oe+v3cbkcsDIqNxqioV/tMX6u7h3KXdBvAXv/gF999/P//85z/p3bs3hYWFHD58mAULFnTm+M4qqRdc2zRLO5qOSoSXpomsrQeHDZEQe8I1h0GDBjFo0CC++93vcvXVV7Nw4UI+/PBD3nrrLWJjY1m6dCnvvPNOU3u3u1GerPFB8bOnf83/e+wxpk+fjmmajBo1qqkuILSuGWi0Q+PTDElMHewOE0LyuOsmRwfG9NCa7ZXl9I+I6jbGD5pzAJNOUSbxeHwrJZnN+VZVh6ONn6zxEVq0HdvNGdhuGknovZ2Yh6sxUt0U1xxkhmcOKKD0c2NPiSL6Kw+K38M7h3K5d3jroC+nprHyujlop5EX28O5T7u/9bFjx/Lpp5/y3e9+l+HDh3PbbbfxySefMHbs2M4cX7dC1jdYAtTREcc1fqWlpWzd2lz3rKSkhKqqqqYq7tHR0QSDweOvuzamQtR7PKSkpABWKalgMHjq4zVbJh4bfut3xd6YZG+ax9031GDirzAxgp0jm3au4gmFOFRbQ0Y3Sn8AqyL7oOhIksM6xgCOjo/lR8mxOI9ZejDzG5WTUmNQL7RUqcwD5RTV7MOUOomVySipboRdQUm2ZqMT/FW8cygHT6htAQdNUTCk2e5E+x66D6cUJhgVFUVmZubJG/bQCqkbUN8AbifiBHqquq7zwgsvUFhYiNPpxDRNfvSjH3HzzTdz8OBBrrzySmJiYhg/fjw7d+5stb9QFEiK4+Gf/pQHHniAqKgopkyZ0hRU0150nyRQZWKLENgiBNKw1v8UDRRVIMES3z6Oq1NRBaGQib9corkFih0Um2iVO3i+sauqAhPZrfL/AEbFx/L69Ckd2qfaxkuimVcNApSUKIRDQ/SJwjxYTl5aDjbdjqNIQ7nUWssTyZYxHlaXxWcRMSzOOsydQwa26vPrshJ+sXENL116BemRPWld5xMnNID33HMPf//73wG49dZbjztr+de//tXxI+smSCnBH7CqNkgQUSdeaO/Tpw8v/eVvGD5wxIsW1/z5559vc5+JEyfy3nvvNf0u7DauvfZavv3tbzdt+8lPftL086pVq1rsv2rVKkuJptGlaRqSYI2JEBCql6gOgRmSSAPssQocqaJ1ghmg6hS4khSCdRK9QYIXQOKMU1Cd568R3FFZjoJgRGz7oiXPFXTTPCtuRDOvGtErEuGwHl3KBfEY2wrJq9jJmPrLECGJOroxgjrOjqmZ9PbYGR8fzpsHcpgzsH8LlypASng4dcEgX5UV9xjA84wTGsAbbmguJTJ79uxOH0x3RFZUW9JhqoKIjUJoJ550SykJ1ja6YqTgpNpPHUSwWqI4QHNDsEYiTXAlKkjTWtNT7JZRUzSBDDQO6gQGEEAoAke0wB5lGU9T57w2fgA+PcSIuHjCjqPReq7yxMZtFDV4+ce3Ok+eUEqJmVeDOrxX0zbbdcOx3ZRB3r//wrdLH0RE2VAuaJwBKgIzUSXBk8z0pCC9whPxG0YrA5jsDic1PIKvSou5ZeCQTht/D12PEz6Nj474TE9Pb1OVf8eOHR0/qm6CNAzL+IW7T7judzRm4zKFPVoglDMzFscGqRhBSahOYo9qKVUmDYnuk9g0ASZIHeyRLdsIIRBH7pYjb/pm+9ZMjuyraM3jOF9dof+VMa5brjWVeX2EneTl7owxJdq0gSh9mt35wqFR4ckjUFtPUmEv1MtiWvzd2PpEEL+zN6VmFo+PP37txYmJySw9nEXQMLCfYcpTD+cO7fZZ3H333W1unzdvXocNptvRqPUp3M52q0wYPuvhqDkFoXqTUP2JZ1lmo/Fq66EaqLLW8Y58JlQwAhJ/uYkRaG6vNwa3qE5rxqm6QAs/wXiV9s0A20L3yqZE+fONgGFgdlPFkTKfn8R2yJWdCUJVsM0YjDosqWmbKU0KXn6PudvmohgK6oUt8wW1vhFE++OoKsvDlJKPcgtYkV/Uqu+JScn4DYMdVeWdeg49dC1OagBN08QwjKY1ItM0m/7l5uaecYJ4d0YGgpYL094+d5eUljFTHQKhCswQBOskwVoTU5dIU7aIzJRSNhk53dvaoCiaFcyie6zvTlGtdTmhQKCy2QgaXqutYrPcRvZI5cQP6VOcAR6N6rIMcaj+/DOA7+ccZMayd6kNBk7e+BzCkLKxEnzH5AAe9zhZFRhZlS22rTnwTyqDhSR4YxDxNpT+7hafKwOs9CUlJ4QAPsjJ43927iN0zMvb2PgkXKpGvqd1Id8eui8n9VkMGzbM0qqUskmS6wiKonD//fd32uDOeY7S+jweUlpuScXWuNamCrTGv2FblEBKCHkskWkAzSVwxFr9hTwSMyjRXALN1foYtkiBqVtGVPdKbFEKmlPgSLDkygLVJs44BSMosUWIds9MhBBWhXnTPOUlSiEEtnBBsNbSDD2fcga3V5YTYbMTZW9bpPxcpdIfwJCy0w2g/u99SE8A5dFpFNceZH/JWlbsXsCM1FmIAqA+C/9/ZaFNG4iWOcJSJuoXhqmYxJREEzL83D1kID/58mtWFhQzM7VPU99hNhufXDurx/15nnFSA7hy5UqklNx+++0sXLiwabsQgtjYWJzOzr3pz1WkaUJIh8gTJ9CbQZqNmxucCc2TckUVOOMEpm6VGZLQtC4X8piE6izjZ4+xjJepW8Emig3w2DFt4IgR+MqsBPYj6iyKKnDEHjGCzYb1lFDEac0ArfMUhOqPVI44fwzg3urKbhf9CZYKjAKdagBlnR/jYDllI4Is+s+NVHjyAOgXN4oJUbci1+xHnRBtLaJrzX9Dwq4Q7G2SUjOA0rpsJvcaRozDzsbS8hYGEMCuqpaXC9mtZOp6OD4nNYB9+vTBMAxSUlJISEjAfoIcth6O4sj630kKx+oNEiGs2Z6iWcagtraWKVOmMGfOHB5//HEUTaBEHBW0Iq3UAqGAPap55hassWaELy18kYa6Bv7fr36OUATOeAWpg3pUUItqb3SHqiD106jfpyintQYIlptVC7OMoBmS50XtQE8oRLG3gRv6t85DO9cZEhPFFzdddfKGZ0DoiywwTN5xvEKkI5Wpg+9icK+LiXQlEPq8nJARje3GkYjo5lqZMqAjHBrqgAh6r+nPgUqrOO7o+Fi2lFe1OkZOXS33ffEpj42dyNTePRKP5wPtes1RVZWCggLM03zgnY/II8orjet/wToTb7GBr9wkWGsFpkizcc3PLbCFNdfWW7ZsGaNGjeKjjz5qU8FFCIEzQcGZqLQoOWSPEQjVkixDaY60VDSB6hSYZku1C0UTTWWMThlFgDz9+8EWJrBHivNGMzSnvhaA9MhTEyQ4V9AUpdPyAGXQIPj5AfbHHWDapT/k/stfZULaDUS6LDEBWR4ATSCimo2fvikf/y8/Rtb4cA9NQjNteA+VATAmIZYSr4/iBm+L4/QOC8erh9hW2RMIc77Q7jv2wQcfZP78+RQWFmIYRotgmPMBKSWGv+1oyzYJBMFus5RZAFu4sIJbsFyewRrLLamolkvwaBYvXswDDzzA4MGDWblyJQAvvPACP/nJT7j33nuZOXMm991/H4Ggpb9YX1/PQw89xNXXXMW9D99JYWk+aLJpv4ceeoi5c+dy9dVXU1dXR3Z2NvPmzePmm2/m+uuvb5JVe+utt3jyyScBK71l8ODBTWku8+fP5+23324epKKctgsUQKgCW4SCUEQrybXuSKXPh0NVGdANC0gv3J/FT9Zu7LT+jY15qD7J9vS9jE69utXnsjyAiHe0SH9Q+sdCUCf04W60gVZhXSXX8spM65PMgqmTiT/GZetQVYbFxLG9oqzTzqWHrkW7E3cef/xxAJYsaS4XdCTP7JQKtnZh9mcvY19W63JIpmEgpII0QGicvNCrlBAMgaogURGqYMjATAanW0LbwVqTkMcKfHEmtYy43LdvHzU1NUyaNIny8nIWL17cVIZq165dLFq0iIiICO655x6WLl3KnDlzePHFFwkLC+Pjjz+mqqqKm266ienTpzf1uWPHDt577z1iY2PRdZ27776bP/7xjwwYMACPx8PNN9/M6NGjmTx5Mq+99hoA69evZ8yYMWzYsIGMjAzWr1/P3Llzm89RUZqTFs8A3ScJVpsQ3r3XXC7r05fPes9BOVvKBmeRfdW15HkaOq1/zxCVTwYtJ3nshWhK64hqszyASGgZWKTEh6FdPhD90wNol6bTENlAZJGVIB/vcrYyfkcYHZfIwoN78Ol6q4T5Hrof7f6Gj8xEzktMYXn7BJYRVKyfzVCjOLTWqNgiJeh608xIChWpA6LlDOdIdKbUW9dCW7RoEZmZmQghuOKKK3jqqacoLS0F4JJLLiEy0nqbzcjIIC/PCgT46quvml5QYmNjmTFjRouZ6qWXXtpURzA3N5esrKwW0mihUIjs7GxmzJhBIBCgpKSE9evX8+Mf/5gFCxZw3XXXNRXhbeIMgmCORrFjXTuPjZBqWkV1u2GeHNBtAyvKTrMOYHv5qmQpW3tv5ZH0X7f6TEqJrAigDmotMahdORj9q8OEFu/An2KQfLAf9b4KIlzxfFFUytriUn4xLqPFPqPjE/i/A5JdVRVMSOzVqs8euhftNoB9+lgRU6ZpUlFRQXx8PEo3KyEyOP3aplnaEaQp8ZYa2MIUNLfAX25ij1bQPRIjaAWwgBXEouoNUNeAiApHulz4y62ozWM1PYUQOGJbG79gMMiyZcuw2+1NM+1QKNSk83lsCaOjyxudiKNLOUkpiYmJaTGTP5pJkybx2WefUVlZycSJE/nNb37D6tWrmThxYot2QlFa6IeeLooqcMQp+Kt0gjWSUL1EcwpsUd3LEH53xUfM6NuPuwaP+KaH0uGU+fyMiY89ecPTILS/hPDl5YwcfxkxYb1bN/Do4DdbzQABhNOG7aqhhN7ehmtyb9x7bBzctYFRE66l0NPAhzn5zBt6QYsE/oy4BByqSlGDp1POp4euRbstmMfj4ZFHHiEjI4NLL72UjIwMHn30Uerru3fiqFAERASwRVhRmq5eCmrj35ojRsGZoCA0K68NXwAcNkK4CVRbFRPs0W0/yNvatnLlStLS0vjiiy9YtWoVq1at4tVXX+X9998/4RgnTZrUZCSrq6tZsWLFcdumpaXhdDr54IMPmrZlZWXh8Xia+nrllVcYM2YMYJXBeuWVV5g8efKxJ2D93wFrwKpdQEQQR6yCogmMYPP1MY1zf32wNhDgUF0NWjecARpSUt6JM0Df7lxG541gUN+2NUbNcitITMS3nVupXpiKOiWd6AlWLcCaDYeQUjI2waoQv6WiZTRouM3Oyutmk5nW/aJ1e2hNu/8in3rqKXw+H0uXLmXHjh0sXboUn8/HU0891Znj6xqI5geyEJZGpyNeWGV+bAJngsAZK628P5cTw2+5R4/V0zwZixcvbqG/CjBmzBhM02TjxuMHGTzwwAPU1dUxc+ZMHnroIcaPH3/ctpqmsWDBApYvX851113HNddcw5NPPtkUbTpp0iQKCwubDN6R3ydNmtSyozNQgznu2FxWyoYzwbpmRkCi10uKVp56LcOuRHa9VcOuO1YaqG5Mgk/ooErwx2IUVlPpriQ6so3ZH40RoIDSxgwQLK1Q+7dHow2KpSHZT0puKgXVuxkYHUmETWNLeWWrfWxKYz5gN9Rs7aEl7XaBrlmzhhUrVuBqrPiclpbG7373O2bMOL7AbHfmWJemEvQjAeFy4IpQkKY8ZTHrv/3tb21ub2tG98Mf/rDp54iICF544YUWnzc0NLRqd4T+/fvz8ssvt3mspKQk9u/f3/T71VdfzdVXt468azaAHR8FfOTaHqkhWLw6RMwIDVfSuTmDyq6zUiAGdMMUiGiHnX9On0Kss3PUbZQSH6VhZfR3J7X5+REDeLwZIDRGcG84THhfN2Eb+/HZluX0nT6C0fFxbClrbQC3V5bxs/Vf8NxFlzGyGwoX9NBMu58oDoeDqqqW7oLq6uqexPhGpC8ANq2p3NGZVnLo8pyBIHZ7EUKgugSqA/I+DJyzVRSy6moI02wkutwnb3yOoSkKF0RHEtcJBlAJmthroTS8jChX2wbQrAhghmssXeinurzte1EIgfF1PuSWABKxtQFvsJbxiXEUNHhb5QP2D4/Cp4f49+Hsjj6lHroY7TaAs2bNYu7cubz55pt8/vnnvPnmm9xzzz3MmTOnM8d3TiB1A4IhRCe5gbokneACbQuhQMpMO55ck8rNeqceq7PIra8jPTKqWwX1HGFdcRnPb99D0DA6vG9HteX6ron2YNfarjThz/dTZdqor5YUHDr+/aFdmg41PowEL4NLRvN1zvtMS0nmf6dOapUSEeVwMCOlP8vzcvCEzm33ew8npt0u0O9///skJiaybNkyysrKSExMZN68ecyaNaszx3du4LMS0ulkMeAuxVmYAR4hbqxG5Rad8q914sZp55wh+cvF07pdBYgjrCsp46PcAv4rY2iH9x2MsrF+8l48UW0b14piA1EcIBQXRq9UBVU7wX0xMhllQBxaXg3JDX34eOs7XDzwVhIag2GOZfaAQXyUl83yvBzmDBjcEafTQxek3QZQCMGsWbN6DN4xSF1H1nks1RfbeZQ4e5ZmgGC5kwfe4UT3WSkXuk82lm86NwyhpijEOTu3Vt43xZ6qWobEdM7s1nCq7EzcSdRx1v/qKwySdB33ODcDbmh9fUMBSVGuQeoglZ3rdXyxwxidsxa0KibuupytFy5Hd1/Ef/KKeGLCqBbnMDQmjuExcbybtZ9Z6YNQzrGXrh7axylFFSxatIi7776ba665hrvvvpt33333nF2X6QiklMjKWpAgYrtfhN+JEEKAEMgz0AM9FVSnwBGjYAYl+/7Xx+EPgufEvbehtIiH1q6i1Os9eeNzjKBhcLC2juGxnRPcE7Onjph8J67CWW2u7/WLs2aGtmTL8xL0S0LB5nti+5dB1i4LUFclcYcLsivcVAwegIiGYWVj8CzNotTr4+O8QnLrW+f9fXvgYFLCIqjvcYN2W9ptAP/whz/wyiuvMGPGDB555BFmzJjBq6++yh//+MfOHF+XRtZ5rLW/2Mjza/Z3BEXAWc7TU+yC2NEaVdt0ytZ1/TXBbRVlbCovIaobBosdrK0nZJoM6wQDKE1J4pYaBhZmoOePZd1yf4uc0IBPEixsjABNcFBXZfLui17yD1r3RGWJwf6tOoNGa0TFKQwabSNtmMb6YBrmT79F3YggF+6+lNRDOQB8XVbRagxX9k3jTxdf3u3qN/bQTLsN4Pvvv8///d//ceuttzJ16lRuvfVWXn311aYE7PMNKSV4fOByINzd0711UhTljCpCnC7Jl9mIHqZS8O8g1bu7thHcW11FemQ0zm6oK7m7qhqAEZ1hAKu8qCGJR+sNQlJTIdm7qVl79uCOENuXWCIcSoKD8GiBZoeKYqviydergrjCBKMuaX7xyLjYhiEUdn5tEnfdYOrdlcR86aF3mItNbaRDABjSZGNZMZ7Qmeve9tD1aLcBDAsLayGpdWRbeHhrDb7zAt0A00R0cPj3tGnTOHDgQIf1t3LlSp555pkO668FijgrQTDHIhRB/1kOwvoqZL8VoGZP1zSCUkr21lQxNLpzZMK+aaYkJ/HEhFEkdHDwlzRM9OWWwP7+hA8ZcnkBfS9Q2bkhhM9j3W+F2QYJBKwSSBEaiiKI76VQUWxSmG1QWWyScbEN+1EFl8MjFQaN1sjb6Sf0ly9R3A3ElMVyYVwcm8oqCbVxL++truKHa1exuiivQ8+xh65Buw3gnXfeyQ9+8AO+/PJLsrKyWLt2Lf/1X//FXXfdRX5+ftO/84Zg4xuhvbU6fVfiW9/6Fo8++mjndH6GJZHOBNUhuOBOJ2F9FLxFXbMkV7G3gdpggKExbUcanuskh7m5ql9KhwTAhJbswjhYjtRNQq99jbExj/3DaimM3kf/C8IZP83OJdc4cIUrBHySymKTmFAAkdLsfYlLVqgpNzmwVSciWpA+rPWse8REOwPHO1EvTCXcI7AbGhMDEq+us7WNIrnDY+JICQvn47zcMz7HHroe7fbLPP3004BVeeBo1q9f3ySHdqLSSDk5Ofz85z+npqaG6OhonnnmGfr379+ijWEYPPXUU6xZswYhBN/73veYPXs2AC+++CLLly9HURRsNhs//vGPmTJlSrtPtKORgaClh9lJa39lZWU89dRTFBUVEQgEuOaaa7j//vsxTZNf//rXbNiwAbvdjtvt5q233qKyspKHH36YykrLlTN+/HieeOIJ3nvvPVavXs1f/vIXwApkev311wGw2Wy89NJLREdHc99991FdXU0gECAjI4Mnn3zy5CIHHVQS6XRRnYJB9zgRjV/BmQpzdzR7q63vYmhM95sB1gVD/HN/Ftf0S6F/5Jl5gaQ3iL7yILa4MOgXi/QE0G4cya7iHBJq7iDKlYimKrgHWu/rqxb7wZTY6wKIC63gsw83BqksNbFLGDbBRlikQGmjbJnDJRh7mQOzdCDmlzlIpZ7eBSYvfmsSo+JjWrUXQnBl3zRe3beTcp+XhG4oZnA+0+6n9759+87oQE888QS33normZmZLFmyhF/96ldND+IjLF26lLy8PD755BNqamq44YYbmDx5MikpKWRkZDB37lxcLhf79u3jtttuY+3atTidHed+2Xx4GZty2qgHaBooyjGly4Mhq4zPofbNAMenZTKu37Unb9jIo48+ygMPPMCECRMIBoPcddddjBw5kpiYGL766quml4HaWktma+nSpaSmpjbV8ysuLm7V51dffcVLL73EG2+8QUJCAg0NDWiahqqqPPvss8TExCCl5NFHH2Xx4sXccsstJx5kB5VEOhOOpEJUbA5RvcNg4B2Ok9drPEtc2juF1y6fycCo7ieBtreqhn/uz+LCxPgzNoDG5gIwJUpqNMKuYv/BJUgEvBBNuFtHU5tfxAJ+SVWpSYwZQBiSz6psuHeHcDlgV6XJ5DCBHpJExKgnOCL4XGFUumKJ9dWi5SiMSzz+LH1m3/78fd9O/pOfy22Dhp3RufbQtThlccWioiK2bt3a5gP2eFRWVrJnzx6uvdYyANdeey179uxpJa22fPlyZs+ejaIoxMbGMn36dD7++GMApkyZ0qRDOnjwYKSU1NTUnOrwOwhp1f7rpHJQR8Svn3rqKTIzM5k9ezZlZWVkZWXRt29fdF3nsccea1HRYdSoUXzxxRc888wzfPbZZ03X6mhWr15NZmYmCQkJgLWG63A4ME2TV199lczMTK6//no2bNjQriLHQlGgsSTSN41QBXWHDPKXB7tMhXmbojI0Jg7bsS9P3YDdVTUIYGgHpP/oX+UhkiMRfa0XBaEqlBaYCMMN8btbtHU4BbMecHPpeOs73uy34bDB1OE2wsIF+b0FfQac/HqHRSrU9e6FikF0URi5tfU8/OXXZNe2rm6TGhFJRmw8r+zdQZXff8bn20PXod0zwLKyMn7yk5+wbds2oqOjqampYdSoUfz3f/83SUltJ6oeobi4mKSkJFTVujFVVSUxMZHi4uKmQq1H2vXu3az6npycTElJSav+PvjgA1JTU+nVq2MLVo7rd22bs7SGhoaWNfV8fmRFDSIhpsODYKCx4oQQLFq0CJut9Qzzo48+4quvvmLdunU8++yzvP/++4wZM4b333+fdevWsWTJEhYsWMDbb7/druMtXbr75irEAAAgAElEQVSUzZs3869//Yvw8HAWLFhAbm5uewZq/W+aoH6zD/m40RreQoOydTq6R9J/luMbTZQ3peT/fbWG6/qlc0lyyjc2js5iZ1U1/SLCCW/j/jwVzNJ6ZG4V2g0jWrivS/IMJDruhNbRmQ6XwFvoRRGC/iPcTBxkjeGqsTbeWhtke67B6LSTP9qUjGQKC+voXQee0kq+LC5jZGwM6VERrdr+buKlrCstIrbR49TV3O09nB7tNoDz589nyJAhvPzyy7jdbrxeL//93//NE088wYIFCzpzjC3YuHEjf/7zn3n11VdPed9du3a12qZpWlPlhBNxdBubN4AGeHUdGjo2AtE0Tfx+P6NHj+bFF1/k3nvvBaCkpKTJXamqKmPHjmXUqFGsWrWKgwcPUl1dTWJiIpdddhnDhg0jMzOT+vp6AoEAuq7T0NDApEmT+PWvf831119PXFwcXq8XVVWprKwkMjISIQQlJSV8+OGHDBs27KTXRTV07ECgzoNhP/O10LaOFwwG2bx5c/s6SAJGxFK9K4Hq4nq4qABsnRsgc7yxlYYCrC7Kp28ghKuotFPHcCq0+1qegJAp2VxawaRw1xn3l7C5mngBexzV6Ef1lbuvHz5HNsJntDqGlBC+y4HqttPftY/Nm62EeE1CrKs/C1cbVBflEuk88fp0g3RTEzuQ3nU5lK7dRGp8BP85lM1Ib22b7fsAmyo2sbSmAp80+HZs2y/gHXGNzybn2ng7knY/tTZv3syf//znphmJ2+3mkUceaVcgSnJyMqWlpRiGgaqqGIZBWVkZycnJrdoVFRWRkZEBtJ4Rbt26lZ/97Gf89a9/JT09vb1Db2LEiBEtqqoD7N27t1V6x7EcOwM0G/xg1wgLP/F+p4NpmkRHR/OnP/2J3/3ud3znO98BLHfl008/jcfj4Ze//CW6rmMYBpdddhmTJk3i/fff57XXXkNRFEzT5Be/+AURERE4HA40TSMsLIypU6dy//338+CDDyKEwG63s2DBAubMmcOaNWu4+eabiYuLY8KECQQCgZNeFykl0hvArhsoMWfmCjv2Gh/BbrczatSo9nc0Hqp36uQtUxiUNqpTSyht3ryZcePGtfnZssNZUJTDVaPHMaCLrAGeaLynwlcl5QQPl3JDxnDGJSeeUV9mvwbMURWMmtivaZsekuz/vAFPxGbG9RvJuMEtx7xhX5DY+j0Eh0Ry8aSWz4EBg00+2RbiogtH4jiJB0APST7cUomuVRFfYWfmpHRe2XOA1GHDT5jasW7nFv51cC/XjxjNJcl9WnzWUdf4bHGy8QYCgTYnDt0G2U5mzJgh9+7d22Lb3r175fTp09u1/2233SY/+OADKaWUH3zwgbzttttatVm8eLGcO3euNAxDVlZWyilTpsi8vDwppZTbt2+XU6dOldu2bWvvkJvw+/1y06ZN0u/3t/psz549J93f4/E0/WzqujTyi6VRVXvK4zgZpaWlcuzYsdLn851xX0ePuTMxa+qlkVcszWDojPo53njb8/20hR4wpZRSGiFT6n7ztMd1IjZt2nTcz57atF5O//AdaZidc+zT4UTjPRUqfX75Xlau9IX009rf1A0ZeHebNHIqj9smOz9bPvbmDLkt7+NWnxXl+GXDvZtkcEXJcfcPhrzykzVPyNyCNSccy6Y3S6X3wcWy8ofL5eHaOjnx3WVy4f6sE+4T0HV564pl8spli2RtoOUzpaOu8dniZOM90bOzO9Du1+N58+Zx11138eyzz/LGG2/w7LPPMnfuXObNm9eu/efPn8/ChQu58sorWbhwIU8++SQA9957Lzt37gQgMzOTlJQUrrjiCubMmcODDz5I3759AXjyySfx+/386le/IjMzk8zMzBaFW88Wsqbe0v4M71j1l9dff5077riDRx99tEMjWzudxusgG7qW1qVqF0gpyXk3wKHX/RiBsxsYs62yjFFxCd1SRDnW6eDG9H44tdNb99VXHsRYnYVxsLX82BECaiG6VkG0q7WbMbHeCkRRUtpOSdi04yXW79rGx/u/z0dr/g+P9/gu6LHfTiDkBKcucWQXMCwmmi+LT+yytqsq/y9jLNUBP5/k9dQMPJdptwt0zpw59O3bl2XLlrF//34SExN57rnnmDx5crv2HzBgAO+++26r7a+88krTz6qqNhnGY1m8eHF7h9ppSH8AvH6IDEOc4eL/sdxxxx3ccccdHdrn2UCoKtLlhAYfMjLcigztIgghiBmukfOOZQQvuNOJYu98g1Tl95Pnqef6/gM6/Vhnm6IGL4sO5TLngjR6nYYEoFlaj758L8qo3thmDGqzzfqPA1RivbAkRKa1+GzljiDpOzwkAUpK6+NX1WazedcrDLngLjRtBMX+Oaz88nGun/5ym0ErQgiYlIZYnUPow3089fCV7VK2Sfj6FfoGovhw6ypuSIpHi0hox9n30NVo19PKMAweffRRxo0bx9NPP80rr7zC008/3W7j1x2QpomsqgNNRUScp/Jvx0GEu6x8QG/XCxGPzdBIm+PAc9ik4D9nR9U/0m7ntctnckVK2skbn2OsLS7ljYM5bcqGnQxpSkL/2gJ2Ffu3R7fZJhSU5OzRqa3z4tbicNsjmz4LhCT/2RoiUOBHRNsQYa3f37/e/iI2zc3EjNu4bKSDOv0ickpqKS7b0ubxAj7J0twL8NnsxJZK4vKqsCkK+gnOz7N/BZ5dS5jp8NLLV8zh128jUH7oFK9GD12BdhlAVVX58ssvz+uwX1nnAcNAxEYhlPP3OrSJww42DVnf0CVyAo8lNkMjcbJG+Qad+tyOr1x+LJqiMDQmjiR391MNWVdcTmp4GH1PIwDMWJeDmV2J7aYMRGTbs6zyQgMpoVr9kmh7y/SRrTk6gRAk2k0Ib238/IEacvJXM3zQHJyOaKYOt+G0QZVxL7sPvNPm8RwuQWScwqG0IYBG1efb+ef+LL7zyeeYx7mXXf0mEnPR97jnhp/xm6vuwmZzEarKPaVr0UPX4JS0QF944QVC56EquqIbUO+FMBfC0f3K2pwpQghERJglEO7vmpXPe8+wY48RVGzqfOHs57Zv4t95OZ1+nLNNdSDAlvJKLjrNyE8R6USd0Bd1Yupx25QVmAgFioxVRNv7Nm03TMnaPTqJUQK3lAhH60dXYcnXgKRfHysy3e0QXD7SRq1+EWX+S4/7ctYrVSXb6IVXRFNT3kAvt4sCj5cvi8tatZWmgeqMIPaS+xCKhhnTn0NXP0/YoG+d4tXooSvQ7jXAhQsXUlFRwT/+8Q9iY2MRQjQlg65evboTh/jNIqXE1uAHVUFEt06Q7aERtxNq65H1DYgOrg7QEah2weB5TmyRnTt79+k6i7MP4O6GklkfZOcRNE0y0/qevHEbqBm9UTN6n7BNVamJOzqAqXiJOsoAfrQpRH6FyR2XO+CgAW24P4vLt2LTwkiMG960bcZoG3U+yeUjrjquB2vYBBuHduqUJ0XQp8BGwuZcMj02nt++hwlJ8TgbRR70+jIK/nkHCTN/SVj6xQD8Jz+X3239ir9fYiN572KEbXibx+iha9JuA3jeFr71BVAMExEXfdYCPGpra5kyZQpz5szh8ccfB+CFF17A6/WeUWWHzMxM3n777U6JMhVCQHgYsrYeGQwhumCVDHu09f015BsUfxai/2wHmqtjDeLuqgoMKRkdd2b5cV0NU0qW5OQzMSmetMhTexGUNT5CS3dju244Ivr4gTNSSqpKDRxJ5QBNM0DdkGSVGFw8RGPcAA2fz0CJa63AdNHYhxk5+BYUpfmxpiqCORc7CIYa2HXgP6T1u5awY7w4YZEKF4zSyFvbm34yn9CGLB4kjJ8HA7y+cz/fG229zNRtfw/DU4E9pnkGO61PX57b/jXLcvYzZ9ObuGKHIydPO6+Xi84l2v1EHz16NOvXr+fxxx/ne9/7Ho8//jjr1q07tSTlcxGHnWCEC1xnryr0smXLGDVqFB999BHBYMcFbixZsqRzUyzCXSAEsqauS64FHiFQLak9aHDwNT+m3rHj3FReioJgZFx8h/b7TaMIwSuXX8SPRp36zDb06QGMTflI/eSBM1d+14WevBKHFkaYFodpmGiq4IfXOJnZTyNUb0LABGfrR5eiqERFtD07LSzZxutrBrJwZdtpCyMm2kmYHImhmhxylqCFDJ7bEWLOq/uoWPg1ZoOXuu3v4U6/GFtM8zEi7Q6m9Unlk9IKXBfdh718Kw37Pm3nlenhm6bdBnD+/Pls2LCBxx57jEWLFvHYY4+xceNG5s+f34nD++YRqoJh087qG93ixYt54IEHGDx4MCtXrmyzzcsvv8ysWbO48cYbuf/++ykvt96aH3vsMX77298CUFFRwbRp05qErQcPHkxDQwOmaTJ//nxmzpzJ9ddf36Q2c6YIpdFNHAhB/cnl5b4pYjM00r/twFtgUrSy9Zr26YppSyn5rCiPMQmJhNu611qxbpokuJynPvszTIzNBaij+qDEnzhwRghBRLRCSXATKe4MfDuTWfNbH2WVBpoqOPx2gB2/92HUGdTlSgo/DVKzV0dKyf7spSxdcR+BYGsxa4D+KRcRF1bA3qJkSqt9rT53ugVjp7uQ/R3E1fdl4x3lBOdNIGtgJO6v8vF+shKjoZKocd9ute8NaRfQoIfY1Osi9Mj+lK/4PXpD2xXme+hatNsFunLlSj799FMiI62w5IEDBzJq1CiuuOKKThvc2WZZwccsyft3q+2GaaCeoaJ/ZupVXJsy86Tt9u3bR01NDZMmTaK8vJzFixdz1VVXtWizZMkS8vPzeeedd1AUhTfeeIPf//73PPfcc/zyl79k9uzZZGRksGjRIu655x6GDh3a6hhtlVTqEMJc4A8iaz3WbDAYAtNEREciOql24ukQM0IjfoJB6ZoQkQNVIgeoSENStkGneFWQhEk2+sw4NSOWU19Hbn0dcwYM7qRRfzPsqqzmFxu28IeLxjPkFCXvzAPl4Amgjutz0rZZO0NUl+hE7ruMgeWZaIZGcQSYjXFV/W924C0wEP80CfoVSj4PIVQY9pCLvMK1VNflYre1naIkhODGyb3566c6b39RyEOZbc9kA0lxJGfpfHDon1xy452MG92X4P5DFK76EbaYVLQNTkK7d6PNHIrQrPnD6LgE+kdEsuRwDg8OvQtt09NUrHiGXpl/OKVr1cPZp90zwPj4eHy+lm9OgUCgqbROD6eHaRr4GsowdOuvfNGiRWRmZiKE4IorrmDHjh2UlrZUpli1ahXr1q3jxhtvJDMzkzfeeIPCwkIAnE4nzz//PI8//jiRkZF897vfbXXM45VU6giEEIjYSFAVSzXHH4RgCFlWaQkJdCFSrrbjjBcU/NtyM3sOmxQsD6K6BSWrQ5SuO7WI57SISP5x2Uymp/Q7eeNziHcO5dIQ0k8v9WFrITg0lKEnr9xSsD1EaI3BkJKbKXRorEn3M/H7Lnr1tl4+I9JUEieoCCDxMgdjnnAz9PsuHLFWBGhKr4kn9NQM6jeaflEbyCrvy+GytmeKer9wBNA/51r2FX8BwOYwOz+Nvx3bjPngC6F/vJ/g/6xF1lv3sxCCB4eP4c7BwzHCkomdPA8hNKRx/kXMn2u0+5U8MzOTefPmcfvtt5OUlERJSQn/+te/yMzMZP369U3tzuXk+GtTZrY5SzueUPOZYugBGuoLMIwAphnC5khg2bJl2O12liyxCvOGQiHee++9FvtJKfn+97/PrFmz2uw3KyuLsLAwysvL0XUdTWv5NUdERLRZUqmjXmaEokBiHBgG2G1gGMiKGmR5NcTHIM7ieuqJUO2CAbc78eRYuYER6SqD73MSlqKQ/VaAgo+CqHaIH3/igJ5QnUnFZh3VKRg8Jhb1LKjNnC3KfH5WFhQze2B/wk5xBi9NibGzGDUjGWFv24NiBCSheokzXsFTJomR8EnfL7nqqv70q6gnIaploVrpb8zjdKooNoGrl6C8ch9Jh+8hKerkM++bL7mAP33kZ+mGWn5wfWt3btLFETS8LRhUfgm7Nx4kbrSXpJgYSpUIXi6TPDF3IvrIPEJvbCHwx8+w3zcZpU8Ul/a2chY3F5USPfmeniCYc4R239FvvfUWQKvSR2+99VbTZ0KI465Z9dCSYKAer6cQEGiai1DQwxdrd5CWlsabb77Z1G7r1q08+uijXHfddU3bpk2bxuuvv86MGTOIiooiGAySnZ3NkCFDyM/P57e//S1/+9vfeO2113j++ef56U9/2uLYVVVVqKrKlClTuOiii1i9ejX5+fkdOpsXmgpHtCI1DRJjkWVVyKoaSIq3Pu8COOMUnHHNjpDwVGtcabMdZAUDmI1pg7UHdGp2Gyg2SJxswxGnQMjazwxB0QrrbT//0wC9JtvpPc3WZSrTnwmLs3IxpWT2gP6nvK9QBM7HpiMDbedehjySPf/jI2CHPrdKaiRkD1hMQ+T/MjxlNTsqdrfeyW8F0oijgmAKijfiDPQn8OUQvCMN3MnHv7dSkwcxPSOfXrFtz9IVu4oyIJyEfC87sy9nVbZkzEU6tw8ewD/2HeLqfilMmJCKkhhO4OUNBJ5bjf0Hl6Cmx5HnqeOvZfn81jeERJeLhv0rUF0xuPpNOIWr1sPZpN0GcNWqVZ05jvMGKSV+bzl+XwWq5iQsIgVD99NQX8CiRe+0MHQAY8aMaaoQP2LECABuuOEGampquO2225r6vOWWW0hPT+fHP/4xDz/8MKmpqTzxxBPMmjWLCRMmMHXq1KY+i4uLW5RUuvTSSxk9um1pqo5CKArERSNLK5GVNZAQA42Ff7siik0w8E4HjZKUBKoktfsNdJ+kfKNO5EAV8tIIjZDYYwVbZ2fz6c585ouplKwO0ZBvkH6Ls8PTLM4mfsPgg+w8pvROok/46anaiHAHIrzljD8Qkny6NYj9c51oD3yeCMqK1fTiMpxx+dx54Z+xqc2FZ/OzPiIU9GCzhROvN96njmYjV1q5Hc/Qz4k7MJ7sNwIMecB1wut+zYVWFGd+0ToS40fisLecCdoGhhN1sJ5618/IcCUzdNLjpJuRfFpQxB+27mLhjCk4+sXifORyQh/tReljrYvaFZV9Pi+v7tvFz0eNpfKLF1FsLlLuXIhQus76dw/N9HwrZ5mArxK/rwK7Iwp3eDJCKAihIhC88Jff4w5LarXPihUrWm276667uOuuu1ptX7RoEWC5bd1uN8uXL2/67Ej1jOHDh7dyq54NhE2D2EhkZS2ysAwEyDB3lxUYEEJA43M0cZKNxEk2gnUmRStCVG7RIbUB1RGFEIJ11YVEpmoMnRpGxeYQ+cuC+MtNwlNVqnfpRKSraO6ON4a6V+I5bKA6BBHpHTOrNoMSBBR6vVwQFcl3Ljh1TVMZMgg8swrtyiFoE5rTBhr8kpf+40fLMbm4BqqHKfRN/5Ci3aXAVO668jFsR7mQq8p2sPmLXzX9nuQbz2juQ7iaz/WKKX/A66+AcQ72/83P/pd9pH/biavX8UMcckuK+cd/Chie9C+mX/RjYqMHWuP2SvQNVvDTdzY9zKErv0AIQWWe5EfpGfx0xwZe35fFvcMHIaJc2G8da+0X0OnlDuPiiCiWHs7i9kHDiJv6Q0qXPEr1hn8Qe9G9p3wNe+h8egzgWUSaBn5fJTZbOO7w3k2zH0VR0WxuQoF6aMMAAk2qO0cwTQOQLZJ+zwWE2wWKYgXGhHTweEFV4BxxF9ojFfrf5KDvNXa27dqHYuuDbpocqqvhprQLAIgfZyN6iIYWZp1T/rIgqhMumOvEHtn8UJZSUrZOJ26MdsrGMVBtcuBvfoI1jVNUBQbPcxLe7/SMoBmS5C0NWrNcj0SxQ+IkB3+ZNhHlJIVl2+xvXxmypJ7SgIpWY2KY0DtWwRuQBOtMptZAeJpC3JUHWLn6j4wZcguTezlbGD+AnH3voNnC+daNb+P3VnDonVcBqPNmE4OVg6woKuHuJOgHrimfE9g4mcJPFQbe7sTwS6Sk1YzQbk+ixriGQ5W1VC+/hfEZ9zF20D34/+RDltqRziCmrYbS8kJKD65h/adj0Wwu7h02jAlJLSNhjf1lBF9aj+PHU5kZGc8Gbz0v793BrydMp2HYVVR/+Qrufhfi7NPNc6bPQbpO7ZrzgECgBikNnO74Vq4/mz0C0ww2RYMeTTBQR13VQYIBK3JNSklDXR511VnoIV/TNsM4O9UOzhThdCAiwxGxUeB2Ims9qKHO1+jsSFRH8/eX56kjYBgMio5p2nbE+AH0n+UgWCs58Dc/FVtCFH4atGZZgCfXYM//+Kg9oFP+dYgDf/dRtLLt79FfYZL3YQBpSFSnILy/Qu/pNi6424k9SpDzTgDdd3o5jLmLA1Ru1okcYPUZNVilfE8QU7H6O9V6ivqWAnyajef2RPDbRT6eec+HxydJiFK4d4wdRUC/Gxy8t+U3RLmTuH7iffQd2PJlzgjVUZizgtQLrsUdnkxs4khGjPwBAFs3PU3AX83mna/w0aofIKWJ11PE/oLHyUu8mfLY31Bfm0vVTp0dv/OS846fhvxmIfTesQpj0lTKg7cQFXcLm3a8hHd3FWa2ATcV4QvfgKoE2BD/IQc+e4SJ0yxdUNfGRJSscAyj+XoofaNBgr4mmyhN49aBQ/lPfi6rCvNImPFztMhelC59DCPQduRpD98cPQbwLCGlScBXiWZzo9lar6dojesQwWDdUftIfN5yGuoLMKWOr6EEKU30kAdd94GUeOoO4/dVUV+bQ131IUJBz1k7pzNFCIGIiQSbhs3js3IGz0H21VQBMCQ6ts3PIweqXHC3k5BHcnhxkJIvQtQeMBBC0OsyG4oGh/4vQN4HQUL1skmv1F9ukrcsQH2uQeEnQfYt8FG9UydQI9FcgrTZTpIvtxM5UCX9Ow4i0lTEKf5FH1HCSZpio/8sO2lzrD4Tb1Z5qM8aXj+Qhb/cZMfvveQvDxCqO7maiwwZ6NuL2RWZyPRxDm6/zMGdlzs4EkQaN8JGxs/dGBG1lNVlMz7+PnatseFraNm3p+pLTDNE2pDmaGebtPKQ/WYVu75+nsOFawjpXoRQKMlfC0D66Osor/iMFYtvYsuue6HvNmr2Gexb4Gf/33xW8rwpmXOJg+gwhT2V89BNN/ttH+B+Phx1gokcZGIzHKRXZJCY8yPM1V9w9e0u+g5U2b42xD9fqqGixDKowm1HHZ+CsSkfJWByz9ARjI1Pwq/rKI5wkq57GsURjlFffmpfTg+dzrnlPzuHCfprME0dd3jbYsCqakPT3Pi95YQC9aianVCwASkN7I4obPYIGuoLCPhrCAZqUBQb4VH98NTm4WsoQVFsCKES8FVhs5879QqFokB8DLK0wkqTSIpFaOfWbXlFSn8GR8WSGh553DbhqSojHnajeySOOIGiWUYurI/K0AddVG3XcScruFOUJu+AJ9eg/Cud8vU6KBCRrpB6vaNF1OoRwlJUwmZZ7s9grYkt8sQBRrpPkrckQLBOMvheJ2F9VML6NLtPd1fVEFRMhsdGo9ggZrhG2Xqd8q90bBECMyCJHa3R95rWKS3mnlKUoM7uuF7MzbDhOMqF6i0xccYJVIegvOIwAKJqOAf26Iy8qFl4QJoGnsrPiU8eT2R0enPnjWkQ/TNuZO/ev1PuEIwbaa2vleSvJSwihRETfsSAYd+htOBLygo3cPjwDxkz62lc1dMpXRMia2GA4T924YgQzHYovFOsMLR6MUNvsEEYvPV1OpF9r2T6lloGV2YQ5R9PZFYiNjsMHvIF5ZFplG+PYL+3mngsyTvt0nSM9YeJPuTBdpHKX6d8q+n6O3uPJOWuN7tswNf5zLn1pDkHkdLE11BGwF+FprnRbMfPJwyL7EsoUEsgUIMebMBmD8dmj2wyaJrNjb+hFInEHd4bVbUTEd0fPeTFZg/H76vE7y3HMCw3qmnqgEA5QxWbzkZoKoEIN856r2UE46K7pJj28dAUhQFR0SdtZwsT2MJaPwRVhyDhwtbnGz/BRniairfYJDJdbeFWPR6BKpO9L/pOqGQjTUnOWwHqcwySptjABI65RXZV1iCAEbHR2G0K/Wc5SL7cRun6EIZPomiCmBHW4yNYa5UwskU0poUU1UK4g6u/07uF8TN1yaHX/ISlKgy41Ul5fS4AvrJ44pIVHM7mtuXFmzBClaQPeaTl2AMGCAhEuKl32kEG6ZM4Hl33UV78NWmDb0IIgTs8mbQhs+g/+CY+X3oXe7f/iRmzppIw0UXtPgPVKQhUmvi2GMzTIarIQXD/YXbt+wMF8hkqAmn0TyhgcMU41oxcxIw1DxBaHyBrz2+IM0wW9H2M4pJELuwTx6GdOkPGRaMMSiBhawXmNQ0ocWEY0uR/dm0jzuHktkHDCFZk05C1hpiJd570e+zh7NDjAu0EDCNIbdVBair2UlO5n4C/CoczhvDI1BO+BSqKisMVS2R0OlFxgwmL6IPdEWG5CoXA5U5CIlEVO3ZHVOM+GnZHJEIoOBzRgCDgr0HKEPXV2dRVH8TXUNYYNNN1kaqCiI8B00SWVmLW1GHW1iM9XozdXbfatiklP123mtWF+Z3SvzNeIXak1i7jB2CPsQxTyeoQOe/60b2t1+4KPw1Rd8gg9To7fWbY28xX3FlZTXpUBGG2ZsPsiFNIvdZB2mwn/W50EN5PRZqSrIUB9v/NT7DWcmHarhqK88kr6ZfUvK+/wiT7rQChekn8BMtwltfn4JDx1JZr9O7f0gKXF28EVJJSLmk5ML8JDoX8kvVozmicBtQWb6GieBOmESCpb8v2QiiMnPQwfl8F65fcSaChgJgRGrZwgbu3SvKlGuHFkmCfalZtu4tc/y5ui3yWB65ysjMqElfASYGZj+xtoi8xGDNnMVFx6YyrX8uaolK2bvey5fMg77/kY0+/EdT1CkPYrHNREBQ1eHhpz3YO19fh2b+Cqs//gq9ga7u+yx46nx4D2An4veVIU8fhisXpiiU8so/Gx9AAACAASURBVJ+V8nCG5ZQ0mwt3WC/cEb3bNKSKasNujyDor0EPWDNFzRaG31dBfU02Up58/eabRDjsiF4J4HZZBYjrGiCkE3r7Y6TP/00Pr02KGjysKSmkNtg1ZN6EEKRm2km+3EbVDoPdf/axb4EPM2QZwrxlAUq/CBE/QSN+QtuzbFNKdlVVMzI2ps3PWxxPEfS91k6oXrJvgZ/sV2v54oUGli+21nN9pSY57wbY/Wcf9VkGvWfYrBxKoKw+l15YWsLJxxjAytKt2N2paLaW5ZOk30A4Va6d9r/cdtPHDE2ZzoEd/yB77zuompP4XuNajTE2IYMIRxwVtVlse38u3urmYsVxaQFsBlQ3RJNQ+hxm4FIY9i0G9VaZdkscuhAMKZpL/pQ9yGITdUcMI67/K1e4qtAMk+eKtxEcFSIsEfbn2vnCPREvdqRpRW3/bNQEnKrG01s2EDn+NtSwOKrWLmg1xh6+GXoMYAejh7wEA7U4XHG4wpJwhSVhs5+ajNq///1vbrjhBjIzM5k5cyYPP/xw02cOV2ybQTRHsDtjkNJASkl4VD/CI/sSHpmKaYbweytO+7zee+89cnJyWvz+0EMPnXZ/x0OoCkpcFCI5AdEnESLCoMGH/vGXHX6sjmB/YwDM0RGg3zRCEfSebmfo9524kgSKjaaZoOYSJE7W6Hvt8YW+64MhBkVHMi4x7rhtjia8n8qguU4ccYLovVu4IHsT9lrreLpXUrNXJ+FCjRE/cZF8mb3p5a28PpdI/2TsTohNan4UGXqA6vLdOMIuaHWshqoSvLIa3bCinzMm/hRF0Sgt+JKE3hNR1dbn5Snfi62uEgR4TC873r8HX20+UpoUvWupWBmD9+H2pRAuE/lk43x2H1iEyUb8gyLIqAyyJXopIl1h8w4vs5bXMF//OYYxkoKGPvx/9s4zsIoqbcDPzNya3PTeExJSaKE3adI7ImJDXQXZYkd3XXat+NndtWFXFBugKB1BRHqHhBIISSjpvSc3t8/M9+NiBGmhiOjm+ZXMnTnnTH3P+563fFRRx4dSDb1v0KLKAunzKrD/3xqU4noCjUYe6tSN/dWVLC8pxrfnHdgK9mArPtCia9vKr0urALwMKIqMy2lFlp1Ym8oRBQ16Y8s+Hr+koqKCWbNm8e6777J06VJWrVrFtGnTWny8RuuB0SMErT4EjcadTUOrM6HTeWO3Vp8WKuF0mFsUPrF48WLy8vIu6FwuBUEjucsraSSkPqnIW9NRSq4+L7rsulokQSDe+/xrgFcaj3CJxKlGEqcZ0fm4X/XwITqixuqbnXDOhI9ex/PdezEgNKzFfXlGSrQdL2O01rI90J+w0W7t0hQrkjrTg+hx+uY1QgCnbKfGXIx/u6P0H2dAFH8eT23VQRTFeUYBaKmrwkotWo17Emj0DKZd13sACI3qf8axeQW3o9ukLwmJ6IvTYEBrDERVZARBJMA5GjXISXC3TLxNN9F/wijCQ7qTteYg+xbuRg7UY3JqacxwMq19Do/41RIiFXNzsjf3dzTwUg8X7w0LpdYm80xGFUEpxcT390a1umj4cA+bl1oYGhxL18Bg3j20HzVlHKLRh9rtc1p8bVv59Wh1grkEVEXGbqvBZq1BVX9eY/MwhV2040lVVRUajQZfX/cHVRAE2rVzl2555JFHyM3Nxel0Eh0dzfPPP4+Pjw87d+7kueeeo1OnTuzfvx+NRsOsWbOYM+dpjhw5QlhYGK+//irQyMb1q3j/w3nY7XZcLid33Dae4cMG4eUTy5133U2HDh3Yt28fFRUVjBo1ir///e98++23HDx4kGeffZbXX3+9uSq92WzmoYce4siRI3h5eTF79myCgoLIzs5m1qxZWK1W7HY7N9544xmz1rQUzaj+yPuycH6zBt29tyBIV8+8Lbuuhjbevuikq9vR6EKoszv4YqNMRZ3K+J46usVLLfJglHfkoQC5kRFcF+X+tAiCgHAGZbPaXIiKQlhQCKHRvzB/lrnXyH4pAJ0uK7LFit7TB+GkeI82KTdi9Aw5owCsL92Ld2hnTMEpxKVMZsfaGYQNfgwPv1gAPO8IQ61XqE37Do/YnnhHdmGIx+tkbrKBS6KkQsVTqGZY9t2Utg2lrf+bDDhsJyF5BLGJ7v7qzLUkGbPIqEniPZ2WfwUIBN+YCh/vQp9+nO1KAnf07sqqwizQ6vHtdiu1O+fiaqpG43lxE+VWLg+tAvAkVhTsZVlB2mnbFVlGPO0DpyK7bKiqgiBKiIKGnxJHuvP+nfrBGB/djbHRXc47huTkZDp16sSgQYPo1asXXbt2ZcKECfj5+fHYY4/h7++ONXvttdf48MMPmxNdHzt2jJdeeolnn32WWbNmce+997Jw4UJCQ0OZPn06q1evYdyYQcS3aeSTOW9h9Awk//hebvvTffTu1R1BKEBVFUpLS/nyyy9pampi6NCh3HDDDUyaNIklS5YwdepUrr32WsBtAs3IyGDZsmWEhYXx+OOP88UXXzBjxgwiIiKYO3cuOp2OpqYmJk+eTP/+/YmPj7+wG3ICwdOIduJQnF+uwLV6C9oxAy6qncuNoqpk1dVwTej5a939GhzMdyGI0D7q8r3GZbUKT6Sno5c8iPVoy+cb7GzJFLm+j47oIPc7UFQt8+02B6oKY3voSAiTUGUFx/YCsr2D6JRqOkWjOxOVjXl42DpRd6gz9iAV/UmZWqrK0/H2S0DSnLp0UFS6A51Lh8H7VHOzIEqExw4+rY+6wp0cXH4Pbfr/k/CONxISeQ1GzxBys79p3l+KlQCJiJRPka11ABj9dXR9Sosiq3x/pAnrZ0Y61zQxsFLlsH4GvQ65KDZvQ5nlQhQ1ZOTtY7/dRrTxKGZnHA+sK2dAhJGZ7UJpn32UH7KDWVcBHikJSGgxdbsF786TkDyuHrP5/yqtAvCi+Fn4SRoDgnD5Zv+iKPLOO++Qk5PD7t27Wbt2LXPmzGH58uUsXbqU5cuX43Q6sVgsxMbGNh8XFxfXXPi2Xbt2FBQUEBrqrsHWvn178vPz0RsDMDcd4bkZj1BUVI4oQmOjmcoaF97eMrLLxvDhQxFFES8vL+Lj4ykoKDiln5Pp2rUrYWFuM1lqairbtm0DwGaz8fTTT5OdnY0gCFRUVJCVlXXRAhBA6tYO5VgB8o87ENtEIqW0Of9BvzKiIPDugKEo6sVlX7lYVFXluzQna/Y5iQ8VaR+loaRGYc0+B4IAk3rrMV1EEm5VVfl0vQ0aYojqVMXDXQzsOuJixW4n/11qIzlS4m8jDWhEgbomFUWF2SttdIqVuMG/Fl2jjQMJyVyfeP4QlorGPLxsPSg+7IU09OftiuKipvwAUQlj+KXfcm7hejrI/TD4nDnhwMk4bfXkrHsKo28sIcnuBPOiqMG7zTiWHVnLtxvfpM2heOJsKoOmtMUzJAlR97PDzbF6J2+k15BebmNiFyNdf2zCFriMPM0kdrVR6X2sP440K4YeXvTvcC135r/BHGsCAz0yaR/Xn88O1XOXZyAfCJUk12Rg1vRk3VEzN1cW0jaonNf790SxN+GsL0YfnNii+9PK5adVAJ7E2OguZ9TSTq4H6HJasVrKcTkteHpFodP/OomcExMTSUxMZMqUKYwePZovvviCZcuWsWDBAvz9/Vm+fDlff/118/463c92JkmS0Ov1p/xvt9sRBJGX//M+1/TpwovPD0er82TS5D/jcoHJOxoAxVWH7LIjafRIkoQsnz184pd9/LTvq6++SlBQEC+++CIajYapU6dit1+6l6TmuiEo+aU4561EnHk3gqfx/Af9yrS5wmt/Llll3iY7acdkerbVMOZErUJFUSmsUqhrUqlqsHHfaMMpMXgno6oq1Y0qgSfykv6UZzazSKakRqXUWMIQL39EQaB3opbOsRp25LgwnHjEQv1EnrjRiEuBDRluQTw/08GtcYHc+udodC3Ia1rZmIuXayQ+AQKak8ZZevwHXC4LAcGdqaj/eX9ZcVJYuo1u6khE49kFbHnWcqqOrcVSfQSntZZ2o19D0hqpd1iYtfdbtpSVoHim4F2dx7TM4dTqXNyz/X0eje+KRrahM/ixTxzKa2m1eGpFHu7uz/h4E41pxcQUStx8u4WqfCP1nirenyisr34as7aM/okjyN69n42kcmOgnQXjInh/fx1zbLGMSvIhpFzDqHpv5ioV7C7yY8GRPAYdeA175VGipy5E1F/+eqOtnJ9WAdhCZNmBpbEEl8uCgIiHKfxXEX7l5eWUlJTQpYtbEJeVlVFTU4MgCJhMJnx9fXE4HHz77bcX1X5jYyNx8e0xGANI25tFQUEB4HaekU44zTTW5zULxJ/w9PSksbFluQwbGxtJSkpCo9GQk5PDnj17GDt27EWN92QEnRbtlLE4/jsX1/db0V4/9PwH/UrIqsJb5YXcWRLMwPCo8x9wsf0oKnVNKv4mAYsd5qy1caxMYWx3LUNTtc1rc5GBEk/c6MHBfBdz1tr5eK2dacP06DQCsqKydr+T9CNRbC62Um1WsdpVnr/dA51G4O3vbJTVqdgcKp5GlWpdObFeP99/g05gUIdThY4oCuhEGN5FR7cEDVsywzD1jEZsYbaTyoY8/OxtCTgR/lCc9yP5OUuoLdsHgKUoDbxGNe8viVpuGvsN8tpjYDh1DVh22XBaajB4h6M1+mE3l2MK7kBQ4khMQW6ryKK83Wwqy+KutgMZGdIWj7KjeC0OpTxpDZkYeOBIGm3tlTjkvmSLtfQNN/JEn0C8T5RdEnv7EbdaT0btFoKCRlBjVvCqEGi3ZCrpXZayufhV+od0JLMuilnbdrBg3Bge6x0Ivd2ZYpx2BXutg+7GCP60spB30m1c02sa8sJpVG+aTeDQf7ZmivkNaBWALUBVnZjri1FVFaNnCDq976+WXcXlcjF79myKi4sxGAwoisJDDz3EpEmTOHLkCCNGjMDPz4/u3buTkZFxwe0/8sgjzJo1i7eMRjp27EhS0s9VtAVBxOgZgiCImOvzTwmev+mmm3jxxReZM2dOsxPM2fjb3/7Go48+yjfffENcXBw9ely+gqBieBBS387I2/Yi9e2MGBp42dq+EPZVVZJpa8Kl/LqxlQu3OtiZ4+LFOzyot6iU1yn86Vo9XePP/Op2iNFwU3+V+ZscfL7BzrShBj76wU5moUyAh4i3BhLCRFIi3c+vqqpEB0kE+bjNuE2GatblqcR4tVwj8cfJuAgrAj7n3/lEn7W1ZvxdXviHiDjsDaRvegqt3htRUTCpeoJiB2Ku/nl/RXGhF72xyiCcVAvQaasjc+UMtEY/2o1+Ff+YfvjH9Dutzx+KD9DJL5p727njDhu25CIg0XdQH95I6Mi8o1vYW+4F9t7opAMMjPLHSxfcfLz3wHisqw/g2ltKz/uMlGxyUvqdA/9qP8Jy7yIgqS97q/9Cf2qwa4ec5l6vLtqH5ngNEfcO4K/2QH6Um/hnZiOzu91EfdoCFFsjQcP/haj//aQx/CMgqOoVXsD4DbDb7Rw8eJAOHTqcYrYDOHz4cPPa2ZmQZQeNtccRBAFPn5jm0IKrnZPNtheKIjsxNxSgyA48vCLQ6c+e4/Jycbbxnun+qGYL9hc+RIwKQ/uXyb/JzPnlvbtYnneUNeNuxPgr5S7NKZF5+zsbSREi94xym3vtTvWsps2TOVoqo9NAdJDE/jwXsgxq3X66dTs9UPxk5uccZ17OcZaOGdJibc618RjOhfvRPzkcMfj8H/B6SzlvffMcsZUvMPwWAzWVc8lMe5sBo+dweNHdxPS6l6huU9mzZw8dU2KoaSrm+02PMLrnG5ietaO9OQrt4GBsjaUcWn4vtsZSkoY8Q2DCsDP2l9dYyQ3rXueRDmO4Jb4vANXPLcKQNQzju56IJhG7rDB5aRFGbRO1jvep0XgyNLwDT3WZhFHjtv2WPrsBpcKO5/Od8DWFoaoq2w862LDBhT5cId1jKUH1h/m/sffiZQrHLsvoTzjPyVkVON7ZipAYxLaQrpQUKKz1beAfEwyE5yyiZuv7aHzCibxt7hV1jklLSzvnM3Gub+cfgavHn/wqRVFcIGow+cT+boTfpSJK7kTbksbQnID7akIweaAZ0Q8lJw/XsvWov7IW9ktkVWFdSSEdjKZfTfg5XCoLNtsJ9Ba4e9jPz11LhB9AQpjU7LWZGqs5q8b4S25JbMPysUNbLPwA5MxyhEDPFgk/cDvAWPWHSLimCG9/J8cOzSc4og+iwx3c7hXSAQBX0RL2fT2FjMNfoCgOfOQgAASDiL2xjIylf8FhraHDuHfOKvwAfijJQEBgaLi7XVVVkarDUXxqEU3uT+CKY2aqbQqP9ozlrcRuDGnK4seSDKZufJuyE96h+v5h+NkCydu5wz0OQaBvRz292tsYv1alXfYwbsj8O5lfe/LSws3c9NUq0o9uxum0ICUHo725C2pWBdcIRzEGw6A6b7YfceLX927Cb/kAn643IRrPvKYsW+tQTlyfVi4frSbQ86DVeqDVhyFp/nizn3MhihpM3tGYG4uwmEuw22oQRS06ve+v5vhzIUj9uqBW1SJv3INaXo329vEIxitzj/ZWVVBrtzEp8PzeiBeDqqos3uGgulHl/jEGdOcIWv81+r4QjVp1yig5lUh9Ylp8TGVjLi6plpRUf0ryVmC31ZDY6U5MvgkkDvm/ZgHoMEVTWrua2sJ1pFQmomz9FuiF4/BBMg+/jMtWS2LZYIwrj+FK1SB1a3/GGNEfijPoEhBDkNFtyRAEAa/7eqA2uk38Tlnly8x6OgXp6RpsgKBbuUu2EXxoKYvU9tzxw8s8HZ1IStseODR2pJ0W0lOLWZqXyeHaCmqrLXzumMSkox5sinHRIVdkqNKVoYA5y8n8yJl4RtXQMelmYvrFomw8yshpIXy93gN5vxGll4oxsgvGSPe6v7UgDUNEJwRJi8tciag1UvjxTXgmDSFo6KOnnV8rF0+rBtjKWRFECZN3FAZjIKKgweW0nKhJ+NtbzQVRRHv9UDSTR6Dk5ON4Zz5qY9MV6XtXeRkGSaKD8ddZr6lrUtmX62JwRy0JYVcuwN7qcjF82RqW5ha0+BjlaBU4ZaR2IS0+pqIhj/D6e7BV+3L04Jf4BbYnMLQ7WqMfwUmjkbQeHNr3BZnl79GgAX8HmLydNHQ6oQnvz8FU4Uli4yi8O/RHLa/GtWAVru82ndbX0YZyjjdWMCyiY/M2V1M1YpyIJtVt2lyVa6bcInNHOy/U6jJQVZI7T+dvEz7i774eWBWZx44f4Osf/kZW8F6iCtryysrv2VaeT7TJl5s7d0Y/RUdUPRjsAh/EVZPdp5atweVYJBGL7X5kxcG67U9yOHk/QqAnml3HcaXImJokXlmRxZH6WgAc1bmUfPVXSr6+F0d1HkWf3UHN1g8wJQ+jIf0rrAV7WnydWzk/V0wDzM3NZebMmdTV1eHr68tLL710WnyZLMs8++yzbN68GUEQ+POf/8zkyZMB2LJlC6+++io5OTncfvvt53XEaOXy4HaMcTsDOGz1NJmLT5RfujrctjV9UhH8vHHOXYJj9pdop01CDPl1s2v8rX0q18UlUJqVfVnbdZwoTutnEvnHdUb8TFd2bbOgsYlGpwsvbctLUcl7CkErIrYNavExVdU1BNTdT1lBLeaGfDr3/TegcnzrG3hEdiFYjid0aRFdTJ1p32sqdZ55lB76mvKijXiRiu72MSQGjEKIjUQQBVRVxbVwDfKGXYjJcUhtf9ZGVxXuQ0RgcNhP5k+F8jeexcMwGt97h9IkqHx4oJZ2ATq6l+zEsXA2aHQIYTFodAbGiCLJPYZzX8k2PpT6E5ws8261ixf3xqP7dwphwe53Q01SsW2zMjTfxcdtCiiKEHBZOrLaKKMIYYQL79AjLp+QqDbo7tWhemsZ0Kgwq6SGClcFKzfsZ2aXnoyObkPw6KepXPM8hR9PBlXFlDwMXVACTcc2U7HqGSLv/BLpKrDC/BG4YhrgU089xa233sr333/PrbfeypNPPnnaPsuXL6egoIA1a9bw1VdfMXv2bIqKigCIioriueeeu6C8mK1cXrR6LwRBxGGvP//OVxApOQ7dX25EbbLieGkO9pfm4Ppxx6+yNiirCoIgEO55ebW/uiaFN1fYmLfJHS/p7yVeceeevEYzADFeLT83Mc4fzYhkBH3L59LWUnfYiKR1pzwLDOuBtS6ffVmfsWLLP6j8+ENMugA8ut6FqV8/IrvcRvcpS4jt6k6+Lkb4I7aJQjiRbUYQBDQTrkUI9MM5/ztUi7tyiNXlYPHxnQwkCH+X+1NnL8tEW94F7aHuoIWPDtRSa1N4uHsAFB8DnQGpz0gEvRFVdqFUlRD39Xt80XY0N8cNpEovMqtrOn5WDzLf3MWO0qzmMdSNBR+bhmnlwSwrOMidoyWGRnxMua4Kjhrw+C6Z5Ws15CuFfL36RgIqsonWNdDWqy3djBHM2rOdDzIPYGo3msg7vkAf1h7f3ndiCO+IqDUSMuYZXI1lVKx44qqv7PJ74YoIwOrqajIzM5tjwcaOHUtmZiY1NTWn7Pfdd98xefJkRFHE39+foUOHsnr1agBiYmJISUlB8zurFv5HQhBEtDpvnPaGK+54cj7EuAj0/5iKZsJgBJMHrpWbcH60CNV6ecsU/WffHh7Ysu6ymoHrmhT+u9RGRb1C9xY6q/wa5DeaEYEo09mrjfwSTb82aEcmt3h/q8OMsW4AWp9qmszrMXgE4an4cfC7V6gwQERtML7xndE9eDsO75/HIQgiHh4nNDv96WZhQa9De9tYaGjC8fZ8lPJqlm9fTYNiZ/LeJuwvfIRrUxpNe1ais7ZHjFbJKann2yONTGzrRUqAHrWiECEkCu24qej+/Az6e15A/8B/EXwC8Zv3BgV5ufi6nIy3fMeC5OX0qQjju0XrSa84BMACtZyVMdUM6BSCALyftYPBfScR5LGJjQFZmLVO4jNlnt9uodoai+vjfTx0OJfGApnuGV2ZbEplTlYGL+3bhcY/lsjb5hIw4L7mczREpBI4+O9Yjm3BVrSvxde8lbNzRQRgaWkpISEhSCdcgiVJIjg4mNLS0tP2Cw8Pb/4/LCyMsrKyKzHEq4bBgweTk5Nzyrbrr7+enTt3XtFxFBUV0atXr9O26ww+qCg4HA1XdDwtQfD1QjOwO7p7b0FzwzCUnDwc/52Lc+k65P3ZqC7XJbXvUhTWFRfgo9NdVu1s0XYHVrvKg2ONdIj57QRgXoOZcJNHixJ7q3VWHN/sR224sDqNuXmlGJ0JBMc3UFW6B385it1zHiBd3YGnS2TIhHfR3zURweN0j2vV5nZaEQxn/myJUWFop12P2mDG9upc5hXtpp3dQLc/3YEYHoRryY807duIxhqPXJLBC6uO4yM7ubud25yoVBQjBEee0qbg6Y126hNkGTzYITu5yWqjm9mHr9qsI8u3iKnZHXhgyyd8nb2BJcfK2Nq3jJghftwcn8qqwmwKBA+eHHMTMWF6svvWYVIkxh2IJr/xCRaH9cSn3sqg6mIcBoW2hW24I749BknD2Z4u7y6TibxzHsaorlfFWvzvnf8pdergwYOnbdNoNDQ1nd95oiX7XA4URcFqtZ7Sn6Io2Gy2Cx7DpYzZarWetQ1B0GCz1OCSW75W1BLO1JfD4SAt7fQE5edFDx6DOxO8/xjGzemIG/dg9/agpGcylpCLi7PKsjZR57ATa3c1j+mixnYSRfWe7M+LoktYJWV51ZTlXVJz5+Vc4y2tqcFPEFp0TqHbq/HLNpMVaMXp1fLn4EimgkIANiUdu62GMrtIaVgVvoqJSDGUjIoKqKg443gDj0MQkJ65/5xTd82IbhRmpFHkoTDdpwP7asqhV1sMsQa8d+YgIPFZuzCOemiZdWwr9vc3s7d3W1Iaaih1ClSd4fzfbd8LD6eVpJTBHAgJptb5GT8kLOb+Pfdz47FUXpcbMYk6JgZoSd+ZzsQVsVQFN/DsttU8FNyOaboycou38H7ceKYf78CgEhfrw73Y7xvKjYWlzG4bjbbOm7DdEUR2LCA9PZ0Sh50w7VkmW4Vp6HNXIjoasbadDJeQmONSn+HfM1dEAIaFhVFeXo4sy805IysqKpoTKZ+8X0lJCZ06dQJO1wgvlbMFwp8vYPxSgsovFFEUMRqNp/QniiIGg4F169bx2Wef4XS6q23/85//pE+fPoBbc5wwYQLbtm2jsrKSKVOmNK+X/vK3qVOncttttwHw0ksvsWvXLpxOJ35+fjz//PNERERgNLoDrz/44AM2btyI1Wrlueeeo3v37ljwwW6twcPDeEpZmkvhbNdYp9ORmpp68Q2PHorqklGyjiMsWUfc2nSkAd3QjL8WQbywsX+fvgMPjYYpffthkDTnDSJuCUc22wnxkbltZAwaKfaS2jof5xvvB4pCaZOV6PNkgXGlFeHMykcaGE+nQRd2byrED0g/9DG9Q/uRkQ8xDbHE9r0Vx8EleAXFk3zS+H45XkduES5tBd16dD1vP3OkHEIarUwbMB7NCeFgKzXSuNOCispiXz33dfVlYHQ7XIvX4nPQXcslsktvYtqfeo02l+ZyoKCJ+9r3pV9iV57atw5dkUiF3wEcEXXcdjyZDUFOeiQV4aWJp0v7LtjWWnlkd19ec+ygJMWDazBhP/ADN7bx4gc/E333R1ImVPNuGyOv7xMYXZrN8uROxFcbqcttR+wQOy9uWcX1bdrycKeupwlBVVWpbthE/e6lBIcEEzjkHxd0H852jX/JT4Hwf1SuiAAMCAggJSWFFStWMGHCBFasWEFKSkpzaZ+fGDlyJAsXLmT48OHU1dWxdu1avvzyyysxRABWFmSxPD/ztO2yrCBdYg26cTHtGBPdsrWSBx544BRB/VMh2n79+jF27FgEQeD48ePceeedbNr0s+u3zWbjq6++oqioiLFjx3LzzTc3C5WTfxs3bhwTJ07E09OT6dOnN3vULly4MqZ1ggAAIABJREFUkP/85z+89tprANTV1dG5c2dmzJjBsmXL+M9//sOCBQvQSAbsqCiyozl/6NWMoJGQOrRFTIzFtWIj8qY01Hoz2lvHIGhb9go4FZn1xYUMCIvEIF2+1+amfjrMNtBIv10eyCN1DWhEgThvrzMKP9VsQd5zCKlHB9QaG84v0hDjA9BO7HiG1s5NlS0HQ1A51SVpeDhNtAsfhy51HBWGYLTG82jmNhkM59d0bC4He6pymRzXq1n4ARjC2pMxPpbVPzYwPMXETcneCEJXsNlxrf4WJCA44hdtOfnPgU3EeflzS0IqNfZaVpf8yMCgsaTnRzM12sCHpQJzdmhZXlYH17gQDAKGvxuxvWnl4X19KD3SiDokgpguD5C/903u6h1FUY9QbAcclJmdZPb0oOOeeg65KigOdjKoOh7PYg8mxycy/2gWNpeLmV17Ip002RQEgcBrZ6DKTurTFuCZOARj1PknBq2cyhUzgT799NPMnDmTd955B29vb1566SUApk+fzgMPPEDHjh2ZMGEC+/fvZ/hwd76+e++9l6got8fYnj17ePjhhzGbzaiqysqVK3nuuefo3//MVaB/z7z55pskJv5cIuX6668HoLCwkEceeYTy8nI0Gg1VVVVUVlYSFOR2QR89ejQAkZGReHt7U1ZW1lyC6Gy/bdq0iXnz5mGxWHD9Yo3Mw8Ojuf5f586dm+/ZT0kB3FUjrn4B+BOCTov2+qEI/j64lq3HfiQfwccLIdgfzaj+iMFnD2wvbjJj0GgYFtnygO9z4XCpFFcrxIVIeF3BohaqooBKc8C4xeXi6V37sMkyX48chHSSpqHKCnLaIVzLN0CTFfngUdRKPwSTDt3dvRA0FzYp3LfFgfVYb4ISZMqP7sIuiTSmBhAABCeNPv/YbQpCCwRgWnUuDsVFn+CfC+oqTitV1eXMKhAJ7KThw27+zVqVNLQ38uG1qIUC8vZsxDFhzddnbk4apZZG3u13HfWOOp458DJOxYkoD8EhNKD3/I60Hm1QywKYeLwLtVX1qD1lBL2EYYaR6k1mKlZaCFvmhdc9N2Nuc5CCXe/Q+YY+vDOwEyveqyJLpxD0oAe1u+spdKn4+FvZsQdGdOrAXW10fHL8AGXWJm6KT6JPaPgpgjBgwP1Yjm+hYtUsou5agKj97Suk/J64YgIwPj6ehQsXnrb9ww8/bP5bkiRmzZp1xuO7d+9+irbzazAmOvmMWtqVNIGei4cffpiZM2cydOhQFEUhNTX1lDJDJ2uNoiieUsroTKWLiouLeeGFF/jmm2+IiooiPT29ucAunFpiSRTFZgEpSjoEBGTZBi1MgHw1oRnUAyHID+XgUdQmC0p2Ho6DR5GG9EJzTRcEL0+U6jrkDbtRSirBaiMMWOjnBbYslI4KQpvI8/ZzLrZluVi8w8GjEw1EBFzeYHdVVlAOZINOixAcgJpXjLz7IEkFJdjn/Qh6HZqBPXBd04V/pO0nr7GRV9onI5RUItfUo5ZUoOSXouQWgd2BEBeBlByH87utCOHeaMd0R/C6sImPqqocP+REVjzw0njRiAWzEYgKxuUwU5O3GZ/wruhN5wiot8mnVYI4E9srjqAXNXQOiG3eVrvjM97bF8Go+u6M/pMf2pM0bkEQELxFVKMvyoY9OA4dQzOsL+Z2sXxxZC8jIhMxy/ncsPEFbLKd+xIf5NMDVkZE+2MtXEONw0DS+Gf4147tvLi7L2XvpRH6QA8EjUDgYC/2tC3hT+uWMCW0C2M7/5sjGa+Q/cPTdL5xLp1ivRHSRT5fXUgb7yVMyu7BmuBK2sR3Jnc7+JnimTFAxyfZGby8bzdLRl53yrmKOiPBI5+kZMFfqE+bj1/vqRd0X/7X+Z9ygvm909jYSGSk+8P77bff4nA4Lqk9s9mMVqslKCgIRVFYsGBBi44TBBFR0iO7LswD8GpCap+A1D4BALXBjHPJOuQ125B/2IYQHoxaWgmCiBAbjjPIFzPgV9OAerQQx+Z08DYRHB2IGp+I4HthQckuWWXdAScJoeLlF36qimvxWuRtp7rJC4G+NMSEEBQXg1paiWXNNp4uKCTNz4t/Hymi69ZDND9NAghB/kjd2iEmxSG2T3AHnDdakLekI28yI+/QIraJQhrQvTke71w01KhYzdDgv5PwqnIsEoRo4wnwS8BcmUXO2sdJHvnKOQWgapNbpAFurzhC18A4DJLbOafkwPe8lmUgtKE7d2Z7YvQ83WlHrShGbJuMlHodrjXbcM5byaooPY5YievNWv6e/gIhxgBe6vF/bCwUcSgF3JrchkPaG9mqzueaXcuQkxJ4v+EgfzvUkcJF+4me1BmAEZGJfB1zgE+y0xgtJxJz4F8ohRaUDtBtoomDDRbGH43ks6iRBDsKeSbLyUfObXhG9EMtFNHlxLBidALFTWZEQaDc0sQLe3dyX4cuJPj4YYzuTsDgR/BqN+q082rl3LQKwN8R//rXv7jnnnvw8fGhf//++PpeWjHWpKQkRo4cyejRo/Hz82PgwIHs2dOyVEuSRo/LcWU8Y39tBG8TujvGowztg3wgGyUnH6l/N7em6OPF9uJC/rVzMx9fN45kDy+UzGPIaYcIPHgce+Z7iJ1T0AzrgxgSgKqoIMtnXVtUVZV1GU7qLSpTBp4/d6lSUY1aXIHg54MQ4ANGA4Lm7EJA3rgbeds+pEE9kDomopRVIYb4I8RFUpqeTni3bqiqyt9Wb+RQUxOP6I2MHtgLQa8DjYTg64UQGuj+/+RxVDWBTzRidydqeSXUNeI6eBTleKF7LdVw7nMpzXdbI8zG3RTWlqMRoEv3vwLgtLrjgXXGc+dWVW0Kgve5P1mlllryzVVMiu0JwNYDGbywP4gGzwQ+kI0IQQKi/6lapOpyolaXIab2Q+qUiNihLcqRPFYfXEsbi42jRxdRm9LIrG0dCKnKYpHOlx4hPsT5eBDU/m7Sc5fyqXEL/wgazf3x60lo9GbY9zFsMXzPNaOHIwgC01N68uC25awUcxj/SDKOLwXsb9kwvmKg3a0eZH1g5fbSeFaGGimpLeLuY/VUJeazyTOOxhyZxmt0xPq6rS355gYO1VZzx7pV3BifxO2J7QjofivgTvNW/eN/CRr1JKL297M88VvRKgCvMtatW3fatkWLFjX/fd11P5tAHn744bMet3Llymaz7S9/O/n/xx9/nMcff7z5/wcecGfbiIyMPCX28Jf/SxoDDns9iuJCFP8Yj5EYHoQYHgQjT60n90NRHj56HW19/BBEEalLClKXFA5s3EJKnQN5+34cezMR/HxQ680gy+BpRAjyRzvhWsQYtyezzaGyYIudvcdl2kdJJIb/4kOsKG6zbHUdOJzIR/JRjxedPlBJAoMOQa9DTGmDZuxA0GmRN6XhWr4BMTUJzdhBCKKAGBdx2uGCIDC5fVumabX0DQs+vf0zIG/NxfXjEQzPjETwNaKqKvLmdFzL1uF4/XO0UyciBp+agk5VVFBVBEmkNE8GQzVOqQydEzqGjSK2zRAAnFZ3HkzteQQgFhdC6LkF7faKIwD0Ckpgzu48PsnxJFyo4OWBvkRtkZBST588qFUloCqIJxxgBFGgMNyXzEw7D/S4hm+K00hwRdEz6VrW5RRTkWDiocJC5GxPjMC0sH/zcf5TfHnwSaaFPMhbHXcRZDPQcVkAbzvfYNrYv9A7OJoOfiF8krOHccNTMAQYsTxmpvyNDYQ9MYy2dxgoWOpgeJOJJxIdaLN9uGZVDqPHe7LqYDA5u5xEdtWw5bCLib1D+WbYeN4+tI8FR7OYfzSLBB9f7k7uSC97Eeas7xE0OoJGPdVaZPc8/DG+XK1ccSTpJ0cYG6Luj1vE0+JysrmsmLExbdD8ImzCaTKiHdgPzZDeuDanoVbVIfp5I+i1qHWNyFm5ON6aj+aGYWh6dUIjQU2jypjuWoZ2+rmauyrLKBlHcH2/FbW8url9IcgPzdiBiEmxqHWNqNX1YLej2hxgd7hNktv2ouTkIfj7oGTnIbZPQHvL6DOaJZtkhbmHj3JzYhwjo08XjGdDdSm4tucjdghF8HU7WQiCgGZAN4TwIJyfLnULwSljm83KSl4Jjs+XgcUKsVFUmIdR77GZiCYvApVG2nf7OaWh44QGeC4vUNWpoFY7EHqdO8/r9oojBBt8+CxDYG0+9FP28djI7picvlgbLYhJZxCAFe5JhhAc1bxtZcFhJEEgzOTgSFMuT3Z6FDFyOJ+tSifKYqVnZjbO9AMABAB3eXXh06S9HK6awws9/o9/KSt5Y/sgblzTnVekl/n7qH/w55RePLBtGR8c3sk97frg6JiH14Ee1O5Jw697NxLuMKDK4TyYtoRvG4cSZFex7syiMUnLsQw/nL4CO3JcVNQr/Hm4gX937cXNCclsKS3iUG01nQKC8DBE49fnbmq3f4Q+rAM+XW5owR3+36VVALZyUfzk/SnLdrT8cQXg5tJi7LJ8Tu9PweSBdtTp3siaJivOz5fj/Go11sIqTBMH8uA4A9KJBM5KXgly2iHkfVnQZEUICUD7pwmISbFuB5aTBW7EmdfG5KMFOOetRD1WiOb6oUjXdDnrrH9lnZnNBRX0Cw8mwaflRY6VrHIw29H0jT3tNykhGnHGHTg+WYxzziJckSGIMeHIO/Yj+Hghdm1HeWEaWtNKSnyKSTUEY3L54uUT19yG01qLIGqRzjGRUsttoIIYdnaznkuR2VV5jFi5C2urLdzd0Zc/tZ+AKErYP7GBBFL70z95akURCAJCkHtSIKsK3xVk0yckhpXFy/HV+TAyYijf5VWQ22Tnhb4peIzviXKsEMHgNhUHrV7PdccK+TylnPLvPmCGIYW/99jKOzsGMH31tbwgvMi/RsxkTHQyn+akU2iu5/G7+lP72g9UZyzFO/VdJK0RQRIY2nU6ATvsWDXBvBNi5rhczowuRrSBLq6NtbMp18jbq2wkhEr4mTy4o3375nOps9v4yq83MXHFNK6fTVvvUDzj+512zq24aRWArVwUoqhBFDS/a0eYlrC2KJ8gg5HUgJaZCk9G8DSinX4DO7/JZE1lEPe8t4zgnm1xFpahHD7uNnVqNIgd4pG6tkNsF3/BwflSQjTiP6eBzY7gc3ZnnKP1DWxqsDApPuaChB+AfKAUDBrEpDNfA8HfB939U5C37UPel4W8dS9iu3i0t46hiXrWrfovpTQhSQKaujrCUm4+RUh7+scTnDz2nOY6pcT9nInhZ3fz31+RjcXuxzFrO/qaqrizQ0xzm9qJOqQUCTHo9OurlBUg+AUj6NxWjU2luVTamhjnG84Hx7Ywve2fUFUNHx4soEOAFwMj3CEUUrv45jZ0f7udtss0pJa8y9bA/fylNIVJooX7e2/l3W39+evqIewo+o7Hug8mMcmPN7J3cLShmhm3haKuP8ixja+QONRdIECj0dF5qpZdsxu5P9+P40Yn/XdsweuEV/dgQaDSYGJDWBsqO0YwoL0Wp0uloEphR0Muc3MyQUpBE5PIg9+/xXU3RaI7ySO2lZ9pFYCtXDSSRo8sX95k01cb4Z4mkn39L6hC+k8oqsqGQzIrmuKI97fik56H89gR0GkRYyOQhvVB6pR4XgeS8yHodfALp5Vf8taBLDxEgentE8+53y9RFRU5oxSpXQiC9uzON4JOi2ZQDzSDeqDaHaDT4pJtrP5hBmr5g+iNRwiNPQQ1aYRFDzzl2OCkMQQnjTnnOJRSK4gghLivVZNTYWuxhf0VdpqcCmanQkaZA60ymlCDzFOj3JqwanXnyxR9RcTeZ55cKAU5iDFJ7vNVVT7NSSPMw8Tioo+INUVzV8IU5meXUGVz8mzfpDMKakEQ0E24lR5zcjjiWsHymM3cM3YJ1tWvcF/vrTy1rzPd9kbhSM9lYoKJtreN55kD63g4K4t7vGaSsqADVT4bCOwxCACtSaDbAwY++7SYgbkyDimQ9QEOvJRwLJp6whqr0fiYaddRRVEUtmbJLN7hINQvhv9rG4spoJ4PstJ4UxxHgmKkNUT+zLQKwFYuGkljwGWtQVWVy5YS7WpjRqeLS3VWb1H4fIOdIyUKHWMkbh0QgHHE3ag2O0Kw/wVrepdCVm09O8ormeBnwkd3bkF5JnTTe59T+P0SQa9DVRXWb3+aqqp8vGwDULWF6KsLMfnE4h9yavo0W0MJGr0XmnPUuFOKrdR5a5m+phRFVSkzu3Ao4KUV8dGLGJQmZKUcP30Bs0eMwqRzj9cx346c4cL4gieC4XTBpdbXQF0lYv9xAOyuLCKztoJ2ARYONVbzao+30Ys6VuRW0CvEl9TAc2vP9Z3GMPxwIUuce8nMW8V9Y/6Jc80zTO+3Ba0sMqQ0kpn7uyF8UsqMP/VgS0Up32YWMkEORvd9BGo3tXn91uCpY+iUEB5dnsUdJW2ZG5rBwEYzwZb2VPVy8W1jPe+vK+fZshI6hRrx7JrApgKJlbsUdBovBsdei9W4gRf27mT+0LGnrWG30ioAW7kEJI0RFRWbpaq5aO4fia1lxXT0D8Rbd2EamsOl8upSGxa7ys39dfRO1Li1Br0XAle+kOm20go8NBr6e7e8zNFPCKKA1ObCCwxnZC/geMEPdIh5nvwKEZfHYXQNFXQcNvs0r+GMJdPxiehG4pBnztpeU6GVgxoBP72En0GkT5gHA6M86BikB5edjA/v5u7wrkxPupYwkzvOz3XAhWu9E+1o7RmFH4BS4K7nJ8a4E2DMzUnDR6fjQP23TE+8nfa+KRQ2WilpsnNrUgvyEosi3YY9zua1N7Fm/xu0azOSh4Y+RtKGJ9hRupvvI48TYHfxl6zeLPs0kyn39aPJ6eC1yl08mn4N1g/r0E/zRNK4JyptfDy4tXc4L+89iqfWhCkun/gfk3Fs0fBMcgC5sS6qcwsxbMulw7ZcOmglZA8ddie8Il/D/QMGEhOmtAq/s9AqAFu5aLQ6L3R6X2zWKgRRg+F8buy/Iw7XVvPwtg38tV0qdyV3aNEx9U0KBp2AXiswpruWqECJML/f/sMztV1bxsVFUZB56IKPdXyZhtQpHKlj2Gm/FRRvZdeBt3E4zHRKuY2U+IknhJtKYtwYVFVBrb4WFTuSsI/QyH6ERl1zShuqquK01Z4zBKLJ4kJX48CcaOKNwSFIJzQkV1M1AjoErYGjKaNQGyroG+IWZGqTiuMjG0K4iHbS2ScwSn42aLQI4XHsqyphT2URcT4NuJwm7kxwx9btLKsDoGdIy+JutWFxDBa6sVDZyb7jy+kafx0jBz1D4IbHEMvW83liEX0rPRif34kF87fwr6lj+GvjYhZaDjJ5SwdqzfsJeLh7s6n1+oRQOgR48dzuo3xSHMZ9iQ1EHPHEdVAi6qAG0asr6+NqyFJLucYDungK6ESBmeOM+HhrcK06jDoqpUUJC/7X+O3fzlZOYfDgwfTr1++UNGaLFi0iKSmJL774gvnz5zN37txztrFz506mTJlyWcc1c+ZMvvjii1O2CYKAhykMrc4La1MZDtvVVSn+UvjocAbeOh2T45POu6+sqKzY7eCZr61sznRX6ujZVntVCL9iswVVVQkyXnhQtFLeiLw9H7XGAriF1bGCtRSVueNBJUmHVuOJ0RDAlt0v8vniEcz5uh9FZTsx6H1ITbmNkgILVl0OJrmJjr0ePr0PlxXFZT9nCMQ3WyqRVOjW2RdJFDDnrKPw0ynkvz2chv2LAcjwicBHayTFLwKlUMb2uhW1XkX/FwOC7hzONfnZCBHxVDhs/Hv3agINRo42reP6mHEYJfc121VeR4SnnqgLSNqa2u8BQpq0rD0wG5fiRBQ1dB/0LMMCetHWLvNQn88p8SxhcnosP3y6lJm7qngnJY3MqJ3o98djPpx1SnuJfp7MGdqRa2P8eUOTy6Mpu1kfc4i84LkoPgUk+AZgGJLA332DmRkURfXEVHx9tailDSAKrcLvLPz2b+jvAFmxYrXVYrFW09hUSl1DPjX1x2i02LE5Ln9RyuDgYLZs2dL8/+LFi2l/wtX5lltu4c4777zsfV4sgiDg6RWBRutBk7kEp8P8Ww/pkjlUU8WWsmKmJKRg0p671l2jVeXdVTZ+2O+kc5xE57irx6iS32jmljUb+TTr2AUfq6oqrhWZIAqIncJoslSyeuND/LD5UbKOLgUgIrQHE4Z9yHXDP2bMtW8RFdaXlPjr8DAEAiDLKnXlEk36/bQN7YOXT+xp/Tgt544BPF7n4Eimu/hyVKIXluPbKF82E1V24t//XoyRnVFVle0VR+gZnIAkiCg1KkqhjO4uPVKbs69dqi4navExrNGJzNi+AqvLSfdQK5KocGOMO+GEU1ZIq6inZ+iFZV3SxKYwzJVKjVzLxsyPABBFLT2vfYGbhGBEZJ4csoAqj0YGpceyPsBIiKjls/gM8lJmcnj7A9jN1SiVys9tiiJP90pkdGwQYOQb3ybWxHuwy+su9mkXcHN0Fc/GBHLzNhNL32/g+92NEOaFdlTKBY39f4mr5229SlEUlUa7B6K9FkmoRxREJEmHKOiobdIACkHeVgw6T1RUXC4bAu7Z8cVmSJk4cSKLFi1i4MCBFBYWYrFYmqtDzJ49G4vF0lzC6P3332fFihVubczDg3nz5gEgyzJPPvkke/fuRRAEXnvtNeLj46msrOThhx+mqakJu93OwIEDefTRRwF38dnXXnuN3bt343A4SEpK4umnnz5vInBBEPH0isJcn0dTQyEmnxg02gtfb7pa+PBwBj46/Xm1v5IGD5YutmKxq0wZoKNn4uUtEHwpKKrK83sOYJAkxsVFnf+AXyCvP4q8t5i9sZs4tPolVBQEQaJP14fpmHTLKfsKgkBUeF+iwvuesl2SBGztn6C+OpO2Cf88Yz+O82SBeXdfLe2tMqoAdvUYZUv/gS4wgYhbPkDUu+MGD9UW0SY/iLuyr0HtpiJ1kvB43XTWdb+fUEtyqRIEnpQEchtreKHncJ488CBDwwYRYnSvaR+sacTiUuh1gQIQoN21D9J+7V9Yf3gOHaNHEewdi1ZnYsTQNyn67na+8Cxi1rVzeX77Pdy5N5WCrgfZFqTlrrpoXNZ9lL+wjICySeimGNBc606cIIkCj/VIINzTwEeHCtlvScBT8zbdipNZtXAN110fQVGZSJd9ejRLBHaushDZU0vUyEvzNP6j0ioAT+K7/OMszz91tqwCDqeKCmglEEWBn14rRc3C4VIRkBEFF6p60mxN0iEIGpwyiAJMbBPP6Jg2LRpHz549mTdvHvX19SxevJjrrruOQ4dOXb8pb3KxbMli1v74I/Pnz0ejlygsLYUT6wbHjx/npZde4plnnuHdd9/lnXfe4b///S/e3t689957eHp64nQ6mTZtGps2bWLAgAF89NFHeHl58c033wDwyiuv8MEHHzBjxozzjlkUJUze0TTW59NYn4+HZwg6gy9ORyOK7ESn90GUrh4BcTZy6mrYXl7CfR0643kG7c8lqygq6DQCWVV+GLTw5xEGIi9zUutLZdHxfPZX1/JE91QCWhhmoaoqoKIcr8G55CBipzDCRo5HqIoFVFISrsfXu+XloFRVJd+8C2/BddraX/M+ihO9dwQ6j8DTfjti0bCtxMqfJRExSI8ldx2SRwBhN7zZLPwA9q/L5eUtNyJECGAGwUuAFlh804/u5/FOvbC67DzXYwRVzkOYXU3cEvdz9pSdZXVIAnQLuvCqJ2Kb9oyNm8bR6rdYvOER/jzuG7fFxDuSO0d8hH7To8wRc3mk10u8m/EUs9I6cU/vDP6aUMs9rolIzq/wK++G45M4XJur0E5oRPTzQogKY1r7KDoFejFzaxbbXXY8AipIqR7Opt0yA8fp0I3Qs3hVAzW5MscrnNyk6NC0mkFPo1UAngcB0IgKsirhlFUE2W3y1GoERAE0ooBLkVBV+URw+E8fQhGHyy04FRWsdis2ez2CICEAuhNZLyzWKmTFiaLIKIoDRXGv/Y0aNYoVK5azYsVy5s1fQNr+DGTF3bdLUam1yWzbvJHB4ydTI0tYGgTwjKDe7hbCMTExJKekoKgqnTt3Zv369YBbM3z55ZfZu3cvqqpSWVnFgUOHGTBgAOvWrcNsNvP9998Dbo0wOfn08lB2WcbmcuGl0yEKAoqqYnU5cSoKLmMYgqMWS1MZ1qZy3FcArJZKdHpvDMYAJI0BVVVwOpoQJQ0azdVTwyzR15+3+g0hNSCoeZuqquSWK2zNcnIgT+b63jr+n733jrOjrNv/3/fU08/ZXrLJbnrb9F4hBGnSBSkiXVAUv49gAUVUBAXsoigqyAOoFEE6SA+B9BCSkF43yfZ2epl2//44m4QQkGBsP59cr9e+dnfmnjkzZ2buaz7t+swYoTNrQCuTJ1VhaP9ZE0tnLs+dazcyraqck+oPTfIsl+/l6Vc+R29iO9W5wUzt93EqL5jEwIDBwAHH/F3H8erTnUR7zqV/vxUfeI2jtROZcsGTBy33pOSJziCVPklNdwKlvpySGZcTnXguWmg/WaZbcxzz7HA6K1MM/E4twvzwa5Gw8ty5bjGPx9voJyW/PPpsBkfKuGzRzxgUaqAxtt9luKwtzuiyMCHj75sqY/Mv4vg/vsmT1ls8+/oNnDT3ZoQQREoG85lTHqJ0+fe5teNFbpxwO7emvsq1Gwbz9aPz3Ekzt8y7GnN4Avv51Xhbx2HdtRLFvwFiYdSJo5g4tJ6nPzaOp1p7eXpHB1ZBMG5jBd9ubmJSw2t84qhTeXCUwZ2r4wxt9zG15j/nOftPwRECfBdOqh/0vlZaJpPB5w+QzBbf/gHCfoGhFSWtWns9XA+qYwq6JuhNe6RzEkUBQzTjeBqqiJNMN+/bZ3npCBShYDtZbDuHUFQUoSClS77Qy6mnnsw555zDmPGN9OCj4EoSlgtSknc8BBJTsdCwyTrgF1lcJUhP3iFfSGAYBk1Jm4Ijac965C0by/X4/e9/TzKZ5KGHH6bHVrn1pm/DOJrBAAAgAElEQVTRmcqSslyklHzjhm8ydvIU/LqGroiDin5d6bE7ncT2PPqJEBHDZFc6Se6AZrp+woafmLAwzQiKolHI92Dl41iFBJoewHMsPFncxh+oAP79LtPd6RR1wRBTKqsByFmS5Vsc3txo09Yr8ekweYhGbVkxdG5q3n8c+QH8eetOCq7HVyY0HpIYsmWnefbVL5BI7qJx2Dlkc100Teil8hBaD30QXFfSutVAC5bQOOjUj7St5Up+sqKbXXmNz8XvRvSeiphuohgBFGP/fSJtSeKnKTRP4FwpDon84oUc57/yJ3oLOc7u7uDyQJRYpIy2XAeretZw1fDL9n1nvXmbjb0ZLh/90V3IeyEUheln/ISWh89hIc/hvGZz6tG3IYRAUTTOnvZNdrzexYPJt3m58TXmvzmbudurWDCkm683vcFRtTGu/lQJ/j+oBDNz0T45FG/rO7ivLcN9ZSlCwKmGwam6xh7H4881JzIhVcvru+awpvVW/qenH/NGz6W24vD6V/634ggBHiJURVASen8FiIqIQjpfJDwousfCAQj5BKrSv5gOLsuJZwXI4riCBbbnIdQ6SkOCnpTEZwqEUHBchVhFfy668nM0jCwWYqtY2C7k8x6OCwHhMmvWRB7/y8Ocetx0Kioa2N3eS04PkS7kcKVHwZHEfAqqAq6E7XGblq5eArEy2gsKza2tLH/jVU4685M0pxwmzJzDr+++l68OasQ0feSzKdJdexg3cmRRu1K6tKS6sT2FoEwiCzlcrYoy0w8mmKqKIgTd+RwZxyYQqkYRguZ0CkUJY4ai+NwMdiGOqvvwmyXYVoJcthOhGOSVUnS9GG+UyH9pl4nd6RSfeukZLh02lpPrRlAeUdjd5fHoYov+5QrnztGZOEjD1P/zCO+9uHTUUCZXllMXOrQmzqvW3Ut37xZOGn07FQs19PMmoJQdXgPo7lYPPJ288RZDB33/A8ftXPxzepreYOwnH2J3ymZPyuF/34mzocfi48nHOL6zBoGC2nhwDM5+xSLW4ufX81/j2mGnHNJxPbhtNV35LHcNGs/IRS+if6rYAPqFlmKHlONq91u7y9rjSGB6zeG1HVOCYc48+09oj1zAYl7CfOV6jj/m+/uI9suzf8LGF87mW6WPUVZaz0Ubavlr1VMoZgWvtvRQWetn/vCfU7XzPEoGjSI47yxkroC3qxW5qxWZzYHtUB/wcW2NyxMdbWzs7SSvfIJMLM4FS16ntqEChjUc1nn8N+IIAf4DoGsHkmPQJ4D9/wuhAioF28Xzii7RVJ9EkxSSnATXEeQsiUQlbUVIZhWOPe1TRHwqAUWgCR1dKuQ8gSIFivRxwflXkknBJRdfjVA0TF+A2391L5YowUVFJ4NW6MRwmjFUKPWrnHTWuXz/G1/linNPp7KyjEmTRhPWPAK6wic+fRkP3/1zrrv8XKQQSBTOvfSzlA8YSc6RZK0caVchpDiU6kGyuW4SnkVpdBCua5HLd1KwUvg0k9JAFYooWsiOlBQsm7iUmKpOv+hATLV46+lGCE0Pkst0kcu0kXvPd5tNt/HCn68jEKympGIMg0edi+994kUfBVJKhBAUbMnODo+c7XLn6m0MyIxh3bJ6ck0WnzvRx+BqhS+f7qN/+X9WfO9vIec4+DWNKVUf/h3t/R4mj7mC/uXTKH0wg9fRizAO/3w3rd+FpJxoSQea/sGut0K6jW1ODbc93cyedJ9HgDxf7PoZk4wSgm2fQJ1Rijp0f8xPSsm2VAcLyzawceoeZsz78FIVgKSV56FtazimdjCNW1bjGj6UkVMA+GvLK4yOjmBAcL+ltKQtTszUGFFy+GLvSijKqWc/QOGx83lNvsCAB/KMPPkbiJIKFEXhZ8fcw28W38CrQx5gzPKvcdM7F9Dw5bGct+DHPNzSSvmcM2gM/YrdL+UYOfNHREdMRB3eAMMbDvqss4BpqRo+++JqRidm8nZ0PBMHHd4z898KIYuR7/9qFAoF3nnnHRobGzHNAxMCNmzYwMiRfztNOJPJfGgm5EdB1vZoTjoYikBRi7qGAvB5RVJwhEfQJyjzq+iqoD3uUbAlPkOQlS4hQ1DiU1EVgWVL2uJeMR6pCixHUhAunpBU+9IoWChCx2fGUBQVy0qRyrTiSRchFMLBWnxmhL23gRCCrG2zJ5PClRJdUYnqQbpzHggHTbUYFImhCIHjFnBdC9MI4zh5ehM70PUgtpMFKTGMMAFfKboewPNcMo5NazaLJyXVgSAxc3+mQiaTwWdqOE4OgQAhkJ7Dxk1bsHofJ5NuobdrHULoDBh8EoNHn4M/MpR0TpK3IRYUBN7jAnNcSTxTjN81dbq0xz06k5LGASpnzTTpSHjc8sh+yhVCMmmwxlGjdQZUfDgJrFy5kkmT/j6ptH8G1vfE+eLCpVw3cQzH9j9YtWTv8bqeTdOe11m1/l7mTf8WJcGBWL9ejLe5A+PSaagTDr1V0vvB9Rz+91cr8DydU84zqSp/fyEBKSW3PvoHnrFmUhXUubQxRj97F75Xb6B29qUU/lxLMKHiv2k0ItKn7uK5XL/iIV5tLSaFjS+t544ZF+PXPlzi7bcblvHbjcu4f+4nqL/jqyjDJ2Kc9yV2pfdw+muf4ppRV3HBoHOAYgzy5CeXM7UqxrenH7p+6ofdE4VChl88ewbZfC+fe6eGcL/RqBOPRp1yLEJV6WxdwYoHFnLUlrmsn5al4pNDOOe1H+B4Pq4ZNpfGJY8z4PWvw5wMsUs/ZN6yXb784jpaul1uPnEIY8oPViH68OP94LnzvwFHLMB/ETwp8aTE9aA14yAU6BfV+pJoJFnbI2N7aIqgxKcdkLFVGRVIRJ9FdWBcTgKRgCDsEwgFOhLgOQo+3cZvlJLKS3IFCVkoi0j8ZgRND5DP92AaURxUevI5cq5LlT+AArRk06hCoSrgpzWTIe1kqQwE6ciC62psi1v4NYV+IQOtry+gpvkoKxmGoqi4nk0m24HtZPFkMaknX4iTy7YTQSEjImQySYSloRmxfQkSqmaiavsfsrwtkUoYrf67xAR0N8dZudUmtfV6mracS4v5ZTbnTts3PmRa6LrB/LEGc0bpbGx2+e0LRbFuUy/GaAdVKdT3kVssKJg5Nc5dG99mfn01X5s8EU39z3dx7kXOcVjT1cua7l5eb2lnSyJJSNcYXfo+7kI7S0/qLV5f+jw79rxKLt9DKFCNnU1j/XEJ3uYO9AsmHTb5ATy75Bb0/NUEalZSVf6xDxz3yKYUT1uzmW5s5DsnzCdoqAgxGjn0Ybx1GbTWbRgX9NtHfp70+M6qR3m1dR235j7JpPxAYqeED6nIO21bPLhtNXNrBjKkoxk7m0IdV2wT9NiupxAIjqvZ7/7c1Juht+AwveaDC/T/HphmkE8d80t+8fKneXyKxqe2Z5CP/Qp38XNoR51BdPUbTOldxJvVDcxY2p/eht3cNuVsrll6Hz/evJDLp5xGdVMrwVdH0VzeQ8+MNMNKa/d5VN6NoK7y0+MbeXJ7OwPCR7rDvx+OEOAhQNhp7Hgv0rFQA6Uo/uhH6rScdxyaUgVkn4WHgPqwvo/kNEUQMVUi5n6rI+c4OF4xo9Onaeh9Acb3fq6piwPiUpWRoss1my2QKUiyBYlQXVxX0JlQKAt76LrAUiL0pD3yroWCiiZNOgqSkA/qgmE0RUFTFBQEludS6tPQVUHWllieJG155B2JTwPbBdsBTVXQhURVdCKh/ROplBJVDWKatXhSJaI5uC4U7DwJzyPvZlFRIJ9BkRqKYVEZ8JPNK2TykoeXFUlMEX5G1IWYOeZnyJ6nULdtpST4BD5To62zm3ihAtUL46WjSDmVmhKFc2YZ1Fcq1JQoKO+aKBM9m7HsLK/0dtBQoXLtpHH/vyI/gAUt7dy6ci2W6zKyNMaXx4/mY/1rib5PZ4gVa+9iW/P96FqQupppjBh8Gv1rZuK92YS9YTv6uRPQph16icMHoal1CYubn6CibjmfOfHRDxy3tDXHHat6aHRXcXlgEennXiGNpOrU7yNUHWdxD44P/LOKrjspJT9Y+zTP7VnN50cex6wHhoDgkBVO/rh1FSm7wGXDp+A+/wfwh1CGjee+bQ9y3/YHObH2WCr9+zN/l7T1IoBphyh/9lFQHR3KKeO/zF/e+h5LTzqVOfZ52E/+DvvBn0AgTHTmWdRsW8DW7BnU/dnHFi/J1Ip+rOjcze+2vsFDE8q5Phti1iMDuGfLRlYPeYzbJn+Mwf1GH/RZpqpw9tCDZeyOoIgjBHgIEE4Oz7MRioqdbEHJJ1ADJai+ojK8dB1QVAquS8FzCesGgiJZJS2LlrQDUkNRHFzpUhP04dcVdqWS+DSNUtN3kFhtRy5L1rH3/W8oKmHDoMT07SNDx/PoyudI28VxihD0D4XQUEi5Lkkvgat6qEIQ9Bkoto+sJXC9PPF8gYAbxcRAiCKRSgkFGyIBDSkliYyHRENIjY6Et4/kaiOCrbZFV0Ii2J8ZC6Ao7KuJK27TVwri6UDxTT5UohDwl2ClPMjL95RsuVi2QzrTgk81UHWLzuqljC2rYExVhJqwj1AwTFXtBQx5l2fN8xzadr3Oxrd/Q887m3l6YwDPs/GkSzJQwZpAHR1mA82ijI2pLEMzK2m0NzDfV0Nt1WjeWbQIVTUJRuoIRxswfLG+hBwFzy0gFI1AqBrdCBcTgjybfzdOGNCPkSVRyn0+gvqBj3LBSiGEgqb6UBSVqeO/QD5TxdxZZyM6cnjbulH6qYhZA1HqS1AGHL6l09m+igcWXo0iBGfP+QahyHvCDd0Ffv12L0nLY1fSpiEkOGf3j7G6smTxEZt2MULRkFkXd02c5DCI9L2UPLRjCY/sWMqnh8zmougccjsyGOcdmkuut5Djj1vf5pjawYwIRimsW4o6fg737HiQX276HcfVHsO3x19/wDaLW+OMKAlS4vvn1K5OHfgJtrYv44V1dzLo6N/R/9pf4DVtQBk4CmH4GO15LHz0HuwFIzjqmSAPzihHGAaGopPxdL499Vm+u/R4rnl7Br+QLpc5z3GW8TCThh/LmIFTCen/fe7KfwaOEOAhoOArIxwIogiBm+vFTXXgpj16ZYC8I3ELSQpCxRUqIBC4IFVEMekTUKkIKMRMP535HOG+ycqnaXTnc/QU8kR0g5CuYygqPk2jyh+gWJYsyTkOGdumJ5+jpM8P357N0FsoIJGEdANFgIJAEwqW59Hr2gQ1nXJ/CL9a7EYgpcRxQVMDhHUDQxEIBKqy37LcGwu0HEhk+3qpKcX4os8QGFoxIzZiKOTykqipYOrFzFfHBdvdz4Zm31gB6BroavGztD5DN2gK/EZxmVXIEQz4cFwby7awbZeCFUdVXCpi8HTbGv7Suv+afG3UYM4cMZ3V3R1s7O2hK5+jM+/Drf0ClLQzWexisF9lZc7knh6DDtsAG5CSKgE1gz/OlOoLad21gN6u9WQ8G8fOYRXif/NeUFQDz7UAUPUYhe7R1DbMZ8CQj6Mo/5zJMl6wWN8TZ1JlGaaqsiOZ4q+7Wrh45BDqw/sTNDZue4JdLYvo6FpLOttWPF40zmy8k+h2kzHvRLGeeQHSBVAE6rhaRMhEHCb52XaGrWvv57UNd5MyXaYX/kSqZRC8KwyZtjy++UYneddjVKnJkJjOqR2/xZfOUjLzMkomX7DvhdJd1Qu2JDEU6oClHVv5yTvPMrd6BFePOh7nieLLhzr10Kav329aQd5x+Oyo6Xjrl4GVZ8vIgdy56XZOqJ3Pdyd8A1Xs974kCjbrelJcOOKfVzoghODMSd9kd+86/rj0Oj43716iw/d37ROKwpxPXErX7u9Svel47lo5gJvn7uEdu5PjBlRyydCzeWrwCsSDHp5WIKSb3Of4uG/dapR1bzOlcgCzqhr26mLw8QEjjpDi++AIAX4IpJR0OTbtyTgxwySsh/FVRMnaLl1pF0WAJ4qTkJAARWUYU2YI+CO4nsRvdRO0JUIroTqwP5mm0h8gahh05XOkbIuEVUBXVAZHovi0/ZcmoOmU+fy4nof6LksxahiU+vyY6oEJG6aqUqObRIPBA1ymQgj2Ggrvp3KydwwULcK6cmWfJftexEyVRMFG0QWhvnqxYq3w/rHR4N+WmvW9S6TYsSSKomAoQYy9pRBS0tG2gZ/Nnsy25sUs2fJXOrIJNqdddq28k8d2DmZl6Cxe6kihCUGJoWNqBmnbY1rjyTQ2DCXX0cao7Zs5q6SM0SVljCgpO0Dfs27Q8Qcck1VIkk40YRWSOHYG6Gv86xTIZdoo5HtQVROhaDTtWEUm1cyqN25i8+p7GNJ4Af0ajsU8zK4YiYLFL9ZuoC5ocv7QehY0d/L9t9ZiqgqDIxFStk28UOCoWJqetleYNv5qNM1XJL/ud+gXHs+wjjF0zrFxnDz+R9pwkjaizEAdW4PSL4o6oR8i9PdPiFJKkr1bad7xAjs2PUrCirM7pDC85ESyq+uwGw7MrfvJim46sg53HltNY4WP9JYFtC18lLK5n6dk+qUHjHWW9iAqTLIVef6yczk/XfccDaEKvjvxk9AssZ+yUMepKOUfLmXcmk3y6I61nFw/koZwCdaqBchoKT+IP0PMiHL9mC8dQH4Aj2xpxZMwr+6jt4H6KPAbYS6Y8QN+u+BKfvf6Z7ny6LsJmftfRoSiUH7ZF2j74Q+o6jidH7wg+O3HtvFI6wtMqajlSxM+TtvQOHcte52OVCc3ZE4lV72R5lCIN5JJfrx2IQCqEIyMVTK27Igr9L04QoAfAiEEZZpBVkBPIU9PIV/MUpR+NEVlUEzHcl1UoaAIgfBspOeBp6GYKj2FLJ7j4WYTuNleHCOMbYaJmAFUzSDvOiStHKoQRAyTgKaTsPIoQhDUjAMITyJJWnlUoVDhDyClJGUX6CnYqKIYs4sZfhQh0MXBRewfFX+rC7pPE5iaIF5wUUWxtMOvC0z1H6evLt51DoP7zWBwvxlAMaFmw9bH2bH7FT5RbfLlKcexaf3dvL3+boRQkNJjz5uCB1ZVMWbE+dw2/YJD/kzDjFBaOeaQxmbclUycOJG23a+zcdVdrF58K6uX3E44OhDXyeK6FuVVE6keMJfa+mP+ZjkAQE98Gw+vfZWHO0rIeToT3JfJvbWQc097nsrZU3jkrcdp6pUkRBlTvJdZsGApqmoyuP44qivGMX/mzSiOoHDHG8imHmov/SRCV/FKehFlQdZvWMukSYfXG1xKj9am19i0+m7i3RtAKFTWTmeXGsfI7GKo/RV2CxjUuH9qeakpw/M7M1zaGKWxoujwltFKukqCVAyYcMD+vbiFuynFzllwW+dr7GzpZWJZA9+ZeBZB3cTeZCH8AuPyD0/qaM0muXbxMygIPjNiCjKTxNu0ipdmj2J17+vcOParhPUDMyN78hZ/2tzCvLpShpX84zK/Pwh1JaO4aNZP+f0bV3P3wqu4dPYvCPv2E6+IllF18QUk77sPveMkrnr2ZHyjLG6Wt7OzZz1XNH6eu+dcwY8XPMPcR4eS0Qfw5Ky3+eTcKvp1rSe7+n5q6qcfIb8PwBECPAQYQhALBCgx/ORdh5TlkbMVKoPFwm9TVfGkLPYpUwzAwJMeezIJ0rYFaPiDVWieQ8qTYFl0WXkiZpCeQg6/qqEqKkkrT082zcP33MsbL76Mbhpoisq4yZOoa6hn+eIlfO37NwNFcpJIpGSfHBlAxrboF4xy0003ceLppzFx0kTCuvm+ZHjvvfdyyimnUFb20d90hRDETJX2jMMlF13I6edfxJRZR2FqAr+moClFl6zXJ4VmKAJDFeiK2NfP7e+Fz4wxYfTFTBh98b5lE0ZfSDhYSSbXia75cV2LZHoP5aVFKbdtTS/y5sofEA31p7piPA3951FZNgo4vBcFIQQ1A46iuv9ckr1baN75MonuTehmBKSko2UpzTtfZK3vRwwZ/Wkahp2GqgdIpveQSO0inmxiaN2x5PO9fO/NR1nkTaVa6eGztd0MjU0AJhA0Q8wIBagYVU9T80KS6SWURBvoX3MbdTXTMY3iJK5IFevuxcimHozLpu3r4q70P/z4XiHXw66tz7Bz819IJ3YSjPRn7PSvUjfwONZ3LqFp2Q18fNhN7H5ZZ/AYjVC0+CLUk3P50fJuRpUZXNQYI73pJRAKnZ1v47oWwdLBQDHDc2n7VnJ/amK6LOUG9QUynst3Jp7FSXXj910jfb6BNlNH+P/2NVvT3cpXljyLLV1+OOPjVAXCOIueJS0c7tDXMCownFP7n3jQdv+7oZmC63Fl4+EnBB0qBlVM4tMzfsj9i7/MHS+dz6em3059+bh965XBjUSv/w7WYw+RXxThyrUXMLV9DDdYf+bxPc9zfuk0PtVvAnuuWEP4ycFc+OpM3nqniZ9PTDF2ytVc+J6XjCPYjyMEeIjoyLr05vf26FMIGQoRU8VyHfZkkhRch5BuENZNbM8lZRcouC5V/hBCCDpzafJAmRnAh0enbdFTyBHSNMoz7SiKSplQuf47t2NZFg8++AAEQiSzKV544incfA5TUagPx3A9SdopxqGihom/T2Q6buVpy6bYlezhiuu/giU9mjNJTFWj3BfAr+noyn53z3333cfMmTP/LgIEiJkKPk3HpwmqgyqVAZWU5ZEsuAckxrwXe+OCnpT4NIWqgIpzgJTaR4dphBk97OwPXK9pPvrXzCSe3MnbG+5j1frfAzB9wv9j/KiLSKVbaG5f3kcmgnwhTibbQWlsCIMGzKdgpWjvXIMnHUpjQwkHa7CdJPHkTmKRBgpWkjdX/4JUuhnbyVGmD6MsNpT+VRdTExvOptX3sGj1HSxYewfee+bubUvvYIUxm0W+42n0NnFFVYb6+mMor5mCqu7P6BzScDxDGg502e6F15LAun8lcncc/fyJqOP/djmD4+TobFlOLtNOPtdFPttFIdeF4YtRWjEW019GOtlEqnc7vV3rSSV2gPQorRzL5KNuod/Aj6EoGlkryTOrf0z/0kbUlmNBuDRO2+9i/tGKbvKOxzeml5Pb+Dxtz96IUjWUDreL0vrZaL4I25Md3LziUU5/vYZjW/qzfmyOW076NNltbUzuX5y8nbcdZLuH9rEPJ79tyW7+36InKTUD/HjGydSHiy8A7qrXuaNRoceO85Mxt6KIA70VrZk8f9nWxscbKqmP/Gt1M4dVz+SqeffywOIvc9eCz3DyuGuYMficfcQvfH7M8y9GPzWF/dBaxi9r5NGX67lt0v38mjd5uu11TkrlqRoO/cOn0bj9cu5+4RK+lfoL5+z5PXfP+SyjS47Iob0XRwjwQ+B4Lu02WK5LyICgriCEwFAlPfksnflinKjE9JO0830WHxiqSl0oSrgv8Bw1fMVygD6XZqhPQNqvKHjCQ7o2u5uaWLBwCa+99iqxkmIcqdIXYOC5Z/HYIw+xMtHDdVd/nq07dxOJxvj5z3+G4c/yyONP8syLrxMKR9i+Ywdf+NY3uOenP+eSSy5lztFHcd8f/8Djf3wIzdBBSr5x680sfmUB7e3tfPGLX8Q0TX7wwx9SU1PN9275HmvXrgXgtNNO4zOf+QwAn/70pxkxYgSrVq0ikUhw4okncs011+DXivWJb61YwT2/+x0dHR3Fdddei5TQ2dnBLTffTHNLK/l8nvknnMT5lxT3ee7JxzPr2BNYs2IZg4cM4YabbkFVBArFpha6UrRs9yqWHA7q+82hvt8cAPKFBLuaF5JMN1NdMR6AHXteZdHKHx203dgRn2LQgPmk0s08+9rV+5Zrqg/HzdOZnsop83+NrgfI5rqIRRtQFZPu3k00NS8kGKhkzBnPUV49ieQrV1PIdaN4HhqCcLAfJdEGQuE6hhChpLmLuV4r7TuX0Lyl2OjV9JVi+ktRFB1VMwlGBhCODSQQrMb0lxIM1+EPVmM/uhbZm8P4zDTUcQeSn+fZ9LSvId3zJjs27iTZu5Xd2555V+9GgekrwfSX0dO5ll1bntq3rekvI1Y+krqBH6O24VgiJQdq5T6z5sdkCnEumf1Ltr8Bw8ZpBMIKrp3lL4tf57U9IzindCPh1U/TvuT37AqrvCAkC2ITqRERGlc+zLKdm7l5xTRGd5einF7DpBNrEEKwUrQDIFNesbt7RKDN10m7GeJWgtpA9UEk1pXP8KVFT+PXdO6cfTpVgaJ17HU0szi5lqfq01w8+HxGxw4sIi+4Hjcs3oymCC47DO3Pw0FNbBhfmP8HHl7+TZ58+3Z29azlzIk3YLxLSFwJhTEvm4l2TApxxzvcuPTzXBxbyW1jF3JvWStXqKMY2uCyZ+afiCxuZJr5KHraRE9shyMEeBCOEOC78GzTHp7asfuAZbbnYXtQLDn3Dtpmrwt0b5MkT8r3jZ2dMrA/J9XXHbBdUC++3St96vab96yivqFhH/kBCEVFC5ahhqtYv2k7f773DqrKo3z35/fxwAN/4AsXngGuzeo1a3j0/t8wcPhY8orKA0IlqBtEdJN777iTR594jHB5BalchoJjc8ZFF/DUY4/znVtvZvDwkXQXsnzvpz8ma1s88eQT5LI5zjnnHIYNG8b02bOK8lPbtvHggw9SKBQ499xzmTBhAvPmzQOgtbWVB+6/j0RPOyeeciZnnHYSgwYP5/rrruOqq65iypQpWJbFxRdfzPSJ45g1axaqItDsHL/7w0MkCy7dOZf3oiPr8uVHd1Mf0WmsMDltcJj+kcPLtvSZUYYNOvmAZWOGn0f/mhm4ro3Ew2fGCPjLEX09o6ORes44/l4Auno205vYRiIumTzuJABUReesk/54wD49zz2gRdaJx9xxwPqM7XDXuk1cOXAYDbrO+GEAn8R1CnS0LCHRs5lcpp1CvhfPs3HsLO17FrFrS1/3BCkwnACEdKKVA3EqclhbfoOyzSj2o1RNFEUl3r0Jxy6SXc/uYmPW2oZjqR96KuHYwD6CLU4FUkoyyd1YhQShaD2GGfnA73Fd86us3GlcFDEAACAASURBVPkk80ZcRr+S4fQ7BRwry55V97Hg7cXcbVxNf7mTGc0/Jd7dyabRp3KHlHS5NsdUDiaPyqYdTdy17BgqUj6MyxvQph6YQCRtSeGeAjItaft8F//7zp94seVV8l6BkBZiYtlYvt54DZX+CpJWnmsWP03cyvGbuWfuIz+ZjrPjD9/i1mE5BvrruHLYxQd+hpTcumIb63vSfH/mcCoD/75sSb8R5tMzf8xrG+/hxXW/YlvHcmYNOY/pg8/C9654pTowjP97U7Ee2ET9iknc+foU2vzt7Az30CO6GG/G8R/jctbEP3J8eg/RkqH/tnP6T8YRAvwQ6IoC0kNTFaRU8ChaJIooWj6CA8nubyWOHA6EEEycNIkBo6cj7RzjJ0xi0aJF6GX1qOEqJo4fR11lFKtnB7q/pOhitHMU2jcyZfxovvW1r3D0rKnMnTGFQYOGIsJlKECv49CZzxBUFNYuX8kl//NFtiZ7MFSV2fOP5plXX6Jy7Eiyjs3Rp5xI3M5TGghy4gknsGjBS8waU49n55k3eyK5nq3oSBoG1LJ141tUlJexbNkyurs7kZ6LEIJMNsfmTeuYMX0KUkrOPON0qoMaYQoEAgFcT1KsLpRYLqQNhXkDAuxM2Dy8McmfNiQZXWYS8ykEdYWaoEa/sEZdSKcurFHqU/8ua1EIhZLoB/dr1DU/VeVjAfb9Xrly5b6/3w+KUtSAfT/0Fgpc88ZyNseTTK+qYGZN5b51qmZSM+AoagYc9b7bWoUU+e27EM/thK48Wz+2gZzdgV8rI6hoeJ6N6xbwHAvXteg38Fiq62azu9Vm7LiJ6HroAxNyhBCEogPed52UHsm21XhOgTwOj771baqD9dRnZrN7S4G6wRpvP3I+b2cqeCD0VaoDCj+a3J/eRwv8acJ5PJ7tZXC4itvGnkpjRynO8h7clb0gBOb/DEYdvn+Cl54kujZK7v4MsltineVwcdNVeNLjpLrjGBkdxqbkFp5rfokL3/wcN4+/iZ+uWcOOVA+3TzuJEbFKPOmxvGUxDy28nQVD4hiKzg8n3oCp7ic42/X41dpdPN/UyWdG9+fof3Lm56FAEQrHjLycQRWTeHnDb3n+nTt4bdO9HD38EmYOOWefRSh8Kublo5DnOtgLO6jZEkBt8xPpGYLm6WTu78X8y72EjhuImH9oeqn/13CEAN+Fk+rrDrDS9uIfrQX6QRg1ahRNTU0kEgmi0YMbcJpmMZlFGAFUVcV1i3qeQghCkRhGxVDcXAKxVxdR0dGCpdzx85/yzrr1LFmyhMv+5wa+feM3OXp+LaqiUKkp9HMzGIUcmmdT7mYJaxoFO48rPXTpUSELaHgI16EznyWeT5PL9+J5DvS1cNJViZASTdHQzSCqrwyvkAXgj7//JQIb6e1vGpzp3grSIxAotkaShR6y+VY810LRTFTNh2mECeoKV9fnaFryCzK19SxmGu9kS2lPKaQdeDkneVfpIYYqqAqoDAjrjCo3GVVm0hDVqfB/NGKUUtKSccjZxVrHiKFgav+YDNddqTTXvrmCjlyO22ZM2kd+rp0jF2+ikG7DynQViSFUTaRmPJoRxN7egrejF7Yl0Ne2gamhnzKeCUd94pA+t7V7ZV/rqUODY6XJ9mwnn9hD5fCT2Jnq5NaFd9EuVNKqQBXDGdedZdnGKHoohaJs44nwFTSJEWhqgkLgTS5em6S3YSZke7kqOpfzWocjb01QSHaDT0GdEEM/oRqlr1ed9GRR3UVAdGMYUSIwL/dxY+7b2J02D865hxVdCZa07qJ/aDpn1Y3j0Z0vctUbT6ES4IpRI8jLXfxw3dO80rqAtnwHYVNwcemxnDvpKirelWG5LZHhpqVb2RzPcPqgKi4Z9Z/lImwon8Blc+6kuXcDL677Fc+/83MWbrmf4dWzGV49k5E1czE0PyKkYZxYCyfWUs9Ilu9ewct/fYo520YyoXsW1iMW+Neizx7/7z6l/zgcIcBDgHDl/gcTkK4HQiCUYnE5lgsFp5jvKGXRWyolIuYvFqDnbPoK6pAFBzxZLEDWFKTlIOM58GBAoJx5s+dy4zdu4OZbbiEcjeDYDo89+DAF10a6HjJVAFXsK1iXBQeZLiBtFxxQAyX7JnpF1cBfRmtLCxOmzmbC1Nk0d8TZuGU7R8+HUCiEdFVCJf2x451MmzyFp599kRvHDkXN5Vj88mt87brrCekamvR447kXOGPuXLo9hRdfWcSVX7gKvbQeRQ9g+ivwRwYiVA0QKGj4FYeJY0dyz+9+z5UXFkWGWzu6MUsHUFYaBiROqh07E0A6aRTNRDfDSOnhWllEXwKIa2fJdG+lkFrIePdu9j7G0dpJjDznLlpTBRY8ezPdai09lNCdibAtXcWbLfsV8E3hEtU9ogE/EVMjbCiEjSKx+TSFnFOUdss6HmnLY2OPRdd7XLKmKogaCmFDElIlybSJ3tZEWdBHPy1BpHcJg0t89C+JYCoSXXiYwXJi/afhuRZ7Vj3Arzv8vJYN4xcu1xpvU7Lqeaj9GQBvP3IBufjO/fedVIikB+O77Hto5YNI/+ElfO0hbC1NvHob2cY8ulhPZfvJhKsaSXWsp3v7qwhFLf4IFSEUguXDKBkwE+kWaFv3GEaoEivTgZXpQkqJGaygevSZeK7N9oW3szbezPJ8Dn8hgS5tsppOtmsbr3e1oflKCbvdGEJgqAMJpE5H9Sp42LeCtuU+FG8UMX0HAwsPo9nVlNeOZVJnJZPXhAlutpFaD+qYKOrUUtQxUYSh4LW4WI8VcNe7eDtcfF/1ow7X2HNKC+NnjueVttd5deVCvjD8Ch7evp1Htq+l0h9iUftObM/DVBoIaQVyLOKOzX8uXivFYEImwOeaQhzzsa8SHHegNb2mK8mXXl+PqarcNmsEc/sdXu3mPxP9SkZy8eyfs71zJUu2PcKGlgW81fQUhhZgTL/5DKueSU10GOXhAShCZUr/yQy/cDi/3PQ7frH2KY5pHc/8Aafywf6N/7s4QoCHADXl4CUS4NeRloPiFJP7Rb+iJqjsSO+VfNkHCRDWEJqBF88g7PesTxWgpi9GYblIVeLZcMuXbuDX9/+OM888E91ngCeZO3E6Df0HFEm2t2hVeYlM0QJTRZGAbRfZlizuT1cRrsR18riOy3XXfoVkqtiNvqaqiv+5+DLsni7OP+cMrr/+evyawQ+uv4kvnHslN9/xQ8799JdACE478wzmzJmDbE6geDpD6oZwxVXXkEglOf6o+YyYPpWmdC/SciDpQme+eN4FB9mbxygZxI9+diff/87NfOLiawEIBgLccu03qJIRkALPziPSNgG3AilcwEPRAuBKPNfBSbUTf/P3NKSnQlTHVYBIKaK8BCXiw9q1lGguzmSRQnqbkcJBmuB4aVKWh3/eXTQlbVatepbedIF8NkyPGmUPAXIEyKlRbA90XAzymBQwZJ4BsoV5yk6GjjoeJ9TAnqZV7Nm9lkzWT04JkRQhFOngVyvpFP1ZkdCx5VxIAbuK11hIl4CSQzc3MzwWIrE7SpdaQq2wGEoHa61+bNDqWbUuXlTaqfkSVWU2tXmTkk4PbVMPIueQ2K3jRTzEqYOJp5uw9TzZuEWmawt2d5xI7UTCVY1kurfQ/Pb/Ir0Dibty+MlFAsw1s3XFrQfd36GKUVSPPhNF1WluWclP/UPI+Co5QKOuo4cqz6JKekSCJ4M7kUHbQ5TaKm+G08T1esp1uDD7HFO2PUe46gRCwePx/pJHtuUhItFPq0WdVI4o1RCGwH7Zwn7eQrZJEKAMVNCO1kEIPOmxRdnJ46uW83LLakqVebyyW2VzYi0XDJnAFxpnIpGkrAJRw4cQgpybZ0XHSsK7djLkjcVoHS3o531ln+j1XuwlvzKfwS+OHv1vjfl9FAyqmMSgikl40mVn19u81fQMa/e8yMqmYtKSrvqojg6hNjaC2tgwzquZx3EV0/lrx5v4yj84lvt/Gf+ydkg7duzguuuuIx6PE4vFuO2222hoaDhgjOu63HzzzSxcuBAhBFdccQVnn332h677MBxuO6TWzl4CtiDoSPIqZNRiakS41IfP8NHWHccSLg4CB1Clhy4FFQENfyBKR6IXp+AiUSioElVC0JGYYZVwsITudIIOq3gZVDxMV+KhEtHzlEaryGazWKleHKFQ0HR0T6J5NoYJ4Vg/PNch17UNVfpQpI7wVFxh4ZoFArFByM40nmsjpYuQIKQGeBRCSQKlg/B6s6ALhKohszY4Lvg0lKgf6UlkIseFV32GSy+5pJj04knwJAnFoSufJVCQxZpEioaugkBBkDGLYsUBW2B4xWWKIlAVBSHBMgToKj7bQ6TyqKjgSoSmgqYgVYcN29dTtfJ5QqvHHXRdZI2gVS/WRdbs+vqB8Vifhij1kZ66HmFoaOvDiGYFJaXjqQ5uzMUxChhzKpFRk/zC7Zi7/UhVInUPzxB4moU5ZSihCePIbNmCtWwTCiYKOgKd3kSBwtA6tk6s5/jSCjL3rWRtKk2HK8kqgryikNF0Hu9fQ00gwLEtXQSyFlgOmuXic12ijsvNwxrIaBpf37yDY7p6AYhrGm/FwrxYUcrKWARPCFQBfk3g0xR8qsD3rr+DhkKJqRI1leK18CSulHiehxQqEkFXRxv9K0IYboZwMEzAH6Qj3UFLspl0oUDGdliTNMm7AxB8cKG5CpzfW0rQURg02WMyFvabG2AnKE7ggLGiwo+oKkNaIWSzRHZJzGt9MFbgvungrnBxh3ukx2dZZm/hjfZNbIx30pF18WR4XxJSSNcZGC7jlAEjOX1gUfRZ5nPI9l14HbuR7cUfr3k7pOOIyjq0ky5CHTWF9myBl3d3sag1TnM6R3vWoi7k45fzGqnwf3gbpY+Cf3WLLMez6UzuoCW+iZb4JloTm2mJbyJvp/aNEShcefRvaSg/uB7wSDukfxG+9a1vcf7553PaaafxxBNPcOONN3LfffcdMOapp55i165dvPDCC8TjcU4//XRmzJhBXV3d31z3z4ZP+nAUg7jpIqRA63soFdfuc0XqGI4PnxQoKAi5t3ND3w5kAEOqICSa5+AKh6wu8fVJMKmajzJX4hcaqiLQdZDCQRVFF2pCQkaPIgBNUbCExFMkFX1ZpEnbIaXX4uJRbGMrAYOovwIUQa7MT0dO4PaVFBiKgg8FwwwTAGTUR3Mmi3A8MEGYxRJ2JZOlJhhAlARwRDFhpiVfQApZpBpX0BAuQY0URb+zjoMjPZy9pQuAQJLTPVJ7J+S9LmIAC7CKiqeYsDfLVhFFZR2AbnR+NmwsQ4b6MTNq8cw8iOZB4LC9+kaq/DpjNmTwcknIW/iMcsJGBWYixdItyymzemhsnofwfGQDCQwtSkQdiZ60eGP5s2SVViZ21qAXBpMXIbSMjmlWoBZc1r+9md2r72FGt05p1+k4QmIrkrwiURSDlV4Xd3gJRmSeo2r3FIZKPyNcBdNT0FyBDGpcNHs7QtHQFwVQUgpSk3g6eKaGa8KPyp9BlMUgGmFDLkBrWKfJ1BDhGiYbKpPSLcSzFilHwUbH8XQcqeP6yikgyOZytCds4o5K2tkrXydREAgBiijGZ23PwOn1AD/gAAmKX/wgFAmG9MgrSWr8rZwSqkKxDTSjEiMpCbdmiPVYVKidxIxm3KSJryuCus6HCwhCSM9EukHiZ+TY3a+LyCsl1K/pj7vbozXawtboHjbX7OHldetpa8qD9CMa/FDwwVLfvhcYgY8yv6AalU+MmsuUUCVlnc14TZuQy17CevnPyO42ZE/bPs+Lp+msqxvPa8NPZU+oml4tQHK7Q3bTUlJ20SIeGgswviJKXcjH6YOqKPsHk9+/A5qiUxMbRk1sGJM4BSjGr+PZVjqSO8hacRzPpiZ66D0N/y/hX2IBdnd3c/zxx7N06dJ9yRvTpk3jhRdeoLR0v+/9iiuu4Mwzz+SEE04A4KabbqK2tpbLL7/8b677MByOBZiysqR7LXyugdJHLVJIpPBIG1ks1SZcCOOzzb7lEk+4SDzyWp6cbmE6PkKFAAoC1dP2Peh5NUe3P47m+qjMH6zWYSsWPYEeFE+lLFeB8p4qDE+4dPu7sYRCVb4MzRXs60XfZ47Ffb3kdIdgIUrQ1vauLdprAiwtRcbMolmlRCxz75p9+3HUAqlAHNcOU1oIvusYJFKAVGzygRRpqRLJR1C8/dtCcSL2AmmyikTPBPG5Yt/+i8LhElcvkFUscP0EXW0/QQLbdm1mwxtJFlduw8jWM62rDtMV7B8kyKi9LKraSFYNclTHSHw2eEKiSFCkwBUF3irbRIfPY0J8FANSvmI8dt9eHDaHt7Ep1kP/7DAae0sB2WctF23bpN7M8qodBOxBTOuswXQB3D6tG5eMlmZVxUZyms3krnGU5H0gKGa/Aq7isSb2Ds2hOKMSoxicKEfI4vVSpYoqVTaHN7OmfCv9c4OY0j4M2HsOxfNM6F28UreMmFPOnJaphCwTIRVUKRASclqaV/otIqM7HN98HBUZf989J1Bl8XiXVqykKdLNnI7ZDOuKoEmB5oEqJap06THj7CzZSlVuAAPjkaKwu7ARYv9FKSgOCSOPzw7hSj+bwxl6NA9bc9keifNq3U7ipsew3io0qbEtmsBS3xNPReITLj5cAkISFlAjVCYTYKADIpcl29WGL5+GXBpPgCs0vFAMLxBGhmLIsmoSkSre8gIsj1u05yxMVWFQNECZTydqaAQ0lcqAyVH9Sukf/ucXt/+nNUn+MByxAP8FaG1tpaqqCrVPtFlVVSorK2ltbT2AAFtbW6mt3S8hX1NTQ1tb24eu+2dCwSFsafjtgy9+VknjCRvFswkV3u366VNm8blk1QxIQTR/cF8xVdNIBkBVC/gtiZDvzVI06Pa5uEKiuTY++731byppXcEz8nhkCVgHZ6r6FI20mkFIh/+vvTuPr+nOGzj+uUsWkVjb2PcStIg1KNWGSmhuFkSYNp0ZRauPJ2R4WmJa2qGWtjyjmBllps8MoaMSS0K1GktRWnQaiSUEESIhQkRkuct5/oicJsSem3vjft+vV1917++c3/2ee27yze93z/l9axaV/Yu35LWK9G5cdr6Js+4GDYudK4jBlUwX0Gry0ZtccDXpy+0PzlzTayjWF+FstuBedOdHKkfRUeByk0aFd5lWM+qoRekvp/IrwriaLQw76cqwk6W1ziqu1jAsvf2tf92osD34fOklAMW3/ivvFRoCDW89ul5BD3V47WzpFNLNCtrdGHGuonU2der/A87fbUkqBTDxYlZrOFUa5+33nCpAPQwX/Mu0F3C7vtl9b/2r8NZ/5bXJbwO0oeQ9yC7XZtFAXZOCJa8xRq2Ray4FFOoULrsUcd4tnwy3IjJqFLK7yTkUjYKTRYtZeQpFeaZML3UAb/QmOF16V4PSAN1tC/2YKDlTZc9WMrC99IET0Ojut5gAJd+35lnwcCqgq2dtJjStT//G9XBzqvjWEyFu51AXwSQlJd3xnF6vJz8//x576dDUVShUyvyyufXHcB2tG3U1NdE4aSlyK7rVZFG/t6ihcaaJ9mlQoMi5pL3c8AhooCkZ+RXXv/OXMkBjXcll25o6FoqUMn2oMbhTR+OORq+hqGZRyahDo6jbuOJEU81T4ASFboWYFQUNJSMGjabkcvMW2jIx/DqwUjXX1UFBwaI3UoCpXJuiQF2NK3U0ruBRTL5baZ085VZXCnot1NO6cqOWCZ1Z8+v1Qmo/JVO6ADqztlz/RmcL//HO5XqdG6ABt7wa6Ew69TwompJXyncvwKQ341LohGuBCxpFo47IAbKdr3HN5Tp6s446ebVujZJ/vY+zWG/kmkdJ4muQ81TJ9LVGg0WjYMaMooHrtW6AVkPNfBf0ppKRvKIBvaJDjxNF7sVonLS4FblRo/i2P5g0YHIyYaxhRmPU4FLoVGaYfOs90CkU1yh5/2rk6tDfzAPtrW9Xbx1HsUsRaBR0Jh06s+7XWQftrfdba8FFq8FF0d4aX4NFZylp1yiYNBYUraVk9aHSK5M1CrWcNRTrTOg0GlxxwkmB/FvT0PU0GuoBnZWSMfMYmqBoSs6TUdFw1JyNUnowmtKPkObWcWlubfvrSVW0WhStHovOCUXvVNJe5n2qSMnqQCU/WSWlv0o2ddVCI2cNWk0+ZOdzLPtcxR1UoUOHDtk6hIdS3eKtTFWSABs1akRWVhZms1mdAr106RKNGjW6Y7uMjAw6dy75y6/sqO9ebQ/qblOg97vHLz8/n5ru1r8PsDJVt5jvdq+lS7Yr3m/72iCi+6uO010+Voj3wWpnPLzq9v5C9Yv5QadAn1SVV7vmHurXr0+HDh2Ii4sDIC4ujg4dOpSb/gTw9/dn3bp1WCwWcnJy2L59O35+fvdtE0IIIR5WlU2Bzpo1i2nTprFs2TJq1arF/PnzARg3bhwRERF06tSJoKAgfvnlFwYPHgzAf/3Xf9GsWcnCtPdqE0IIIR5WlSXANm3asG7dujue//zzz9V/63Q6Pvjggwr3v1fbk8TX15fi4mJ27dqlXjQUExPD9OnTee+993jttQcv7hoeHs6YMWN46aWXmDFjBiEhIfTo0cNaoQshRLVSJVOg4uF4enqyZ88e9XFsbCzPPvvsPfa4vzlz5kjyE0KIMiQB2qGQkBBiYmIASE9P5+bNm7RrV3Ij6w8//EBYWBjBwcEYDAbi4+PV/U6dOkVoaCivvPIK06ZNo6ioSG0LDw9nx44dAHz55ZcMGTKEoKAgDAYDqampACQmJhIWFobBYCAsLIzExEQAzp8/j4+PD4sWLSI4OBg/Pz8OHjxYJe+FEEJYi0PdBnE/W85eIu7MpTueL7169XEEtPJkaEvP+28I9OrVi+joaHJzc4mNjSU4OJjk5GSgpGJEdHQ0Op2O7Oxshg0bRr9+/ahduzbvvPMO4eHhhISE8MMPPzBmzJgK+1+wYAFbt27F09OT4uJizGYzxcXFREREMHfuXPr06cO+ffuIiIjgm2++AeDatWt4e3sTGRnJpk2b+OSTT1i7du1jvSdCCGFLDpEASxe7KS6+81475dZ6iep2d1sY5zEXzCn7OvfbTlEU/P39iYuLIz4+nujoaJKSklAUhezsbKZPn05aWhp6vZ7c3FxSU1N55plnSElJwWAwYLFY6Ny5M+3atcNisZSsB3nr9S0WCz4+Prz77ru89NJLDBgwgGbNmpGSkoKTkxM+Pj5YLBZ69+6Nk5MTp0+fpmbNmri5uTFgwAC17/nz5z/Q8TyMivpTFKXcSNbe2HNsFZF4ra+6xXyveEt/Z1bRktFVziESoNFYcnNxSkrKHW16vZ6CgpKb3F/0dOdFT3erxVH6OvdS+gvf39+f119/nW7duuHq6qqO0mbOnMmAAQNYsGABGo2G4OBg8vLy1L4LCgrQaktmti0WC8XFxRQUFJT794IFC0hOTuann37i9ddfZ8aMGXh6emKxWMrFaLFYKCwsRKfT4ezsrLYZjUZMJtMDHc/jvj9Go9Gu70Oy59gqIvFaX3WL+UHiNRqNuLrefYH06sohEmDNmjVp164dTk5OdxRFTU1NpUYN668R+KA0Gg0uLi60bduWyMhIOnXqRI0aNdQklJ+fT8uWLXFzc2Pv3r2kp6fj4uLC008/Tbt27fjuu+8IDAwkMTGRU6dO4ezsTI0aNdBqtTg7O+Pk5ERGRgY9e/akZ8+eXLx4kdTUVF544QXMZjOJiYn4+Piwf/9+zGYz7du35/LlywDq+1T6g1AV75uTkxPt27e//4ZCiEqnKApGo7FKCoLbgkMkQK1Wi4eHR4VtGo1GHTHZg9J4tFoto0aNKve8RqNh6tSpfPDBByxZsoROnTrh5eWl7rNgwQKmT5/OihUraNeuHZ06dVL7KnucUVFR5OXlodFoaNSoEVOnTsXV1ZXFixczZ84cbt68iZubG4sXL8bV1fXXArtarRpL2cfWfj+exEV4hagunsSRX6kqqwdorx6kHqCwHTk/QghrsZ+hjxBCCFGFJAEKIYRwSJIAhRBCOCRJgEIIIRySJEAhhBAOSRKgEEIIh+RwCXD+/Pn4+vri5eVVbmWY69evc+rUKU6dOsXJkyfJzc19oLaioiJSU1NJSUkhNTX1sZdB8vX1xd/fn6CgIPW/w4cPc+LECZKSkigsLFS3zcvLU2M6ffo0xcXFHDlyhClTplBUVMS+ffvo0aPHHXFVdsy3u3jx4gPHC2AymTh79iwpKSmcPHmSc+fOYTKZ1P3+85//EBgYiJ+fH2PGjOHKlSuVGi/c/XOxc+dOQkJCMBgMvPbaa6Snp9+x75IlS+7Yz9oxP0q8RUVFzJw5k8GDB2MwGHjvvffUtjNnzhAWFoafnx9hYWGcPXu2UuN91Jh37NhBcHAwQUFBBAYGqmvTVkXMV69eZdy4cfj5+WEwGJg4cSI5OTnAvc/vo7bZIt4zZ84QHh6Ov78/AQEBTJ8+vdzPbEJCAv7+/rz88stMnjy50ld/sjnFwfz0009KRkaG8tJLLyknTpxQjh49qlgsFiU5OVkpKChQFEVRbt68qSQnJysWi+WebYqiKKdPn1auXr2qKIqiXL16VTl9+vRjxVcaV1k3btxQioqKlOPHj6txGI1G5ejRo0phYaH62mfOnFH3OX36tJKcnKz06tXrjrgqO+bbPWy8RqNRycvLU/fPyMhQ0tPTFUVRlOTkZGXQoEHKTz/9pCiKoixdulSZNm1apcarKHd+LhRFUa5du6b06tVLfX82bNigjBkzptx+SUlJyhtvvFFuP7PZbPWYHyXeP/3pT8qcOXPUz+7ly5fVtvDwcGXDhg3qfuHh4ZUa76PEbLFYlB49eqjbHjt2TPH29lbMZnOVxHz16lVl//796uN58+Yp06dPv+f5fdQ2W8Wbnp6uJCcnq/FNmjRJWbJkiaIoJT/Hffv2VX9Oo6KilM8++6zS4rUHDjcC7NGjB40aNbrjeY1GLMIxSwAAHhRJREFUg9lsBkrWwNTr9eqKJ3drK10Ps3bt2gDUrl2bgoKCcqOXylCzZk06derEv//9b37zm98wcOBAvv/+e1atWkVYWBgBAQFkZWVx48YN9u3bx7BhwygoKFBXv6lduzbR0dHMnDlTjdloNNK3b191jc/KjLlmzZo4OzuXe664uBi9Xq+u6uLu7s6NGzcwmUzo9Xrc3X9dg9XNzU1dv9VoNOLi4qLWMhw1ahRff/11pcVaqqLPRVpaGk899RStWrUCYMCAAezZs0f9q7q4uJgPP/yQWbNmldsvKSnJ6jE/bLz5+fls2LCBSZMmqZ/rp556CoArV65w9OhRAgICAAgICODo0aPqcdoqZihZbSgvLw8omUHw9PREq9VWScx16tTBx8dHfezt7U1GRsY9z++jttkq3qZNm9KxY0eg5L3u3LkzGRkZAOzevZvnnnuOli1bqvtt3bq10uK1Bw6xFNr9aDQamjVrxtqfL7A3R4+CgqtLTXTnLgJgNntQeDITDZpybWaLhaIiV9wyMtW+bha44nI+C91ty4S90tqDIa0fbKHtiIgINVHodDq1NmDNmjWJjo5mx44dREZG8oc//IEZM2awevVqlixZwptvvonJZEJRlHLrnmo0GoYMGcLEiROJiIjAycmJf//73wQEBODm5oaTkxNGoxG93nofBxcXF0wmk7rMWuk08u2vqygKOTk5avI2m800btxYba9Xrx4Wi4Vr165Rp04dq8UL0KpVK7Kzs0lMTKRz585s3rwZKJnirVevHn/+858JDAykadOm5fa7ePGiTWK+V7w6nY46deqwZMkSDhw4QM2aNZk0aRI9evTg4sWLNGjQQC35pdPp8PT0VI/Tmu73Hv/v//4vb7/9Nm5ubuTn57N8+XK1vSpjtlgsrFmzBl9f33ue30dtq+zPxYPGW/Z1CwsLWb9+PX/4wx+AOz/HjRs35uLFi5Uap61JAqTkl+7ly5epX78+boXFmM0WioqKShZ71kCx0Yiriys6nbZ8m5UsXrxYLYBbVv/+/QF49tln0Wg0DBs2jMzMTOrWrcv58+fvuTanh4cHAwYMIC4uDh8fH9atW8cXX3xhrUO4g06no1mzZmRmZmKxWPDw8Kgw3osXL6LVaqlfv36VxXY3Hh4eLFq0iLlz51JUVMQLL7xArVq10Ol0/PzzzyQlJTF16lRbh6m6V7xms5n09HQ6duzIu+++yy+//MJbb73Ft99+a7cxm0wm/va3v7Fs2TK6d+/OoUOHmDx5crki0FXlT3/6E25ubrz22ms2f88exMPGazKZiIyMpHfv3gwcOLAKIrQPkgBBnQIM7lCf4FvLTqakpNC0acnU5oULN2jbtpW6fWmbs7MzKSkpdOjQCo1Gg6IoHDt2jHbtmltlNOXk5ASgVnZwd3fH3d1drdZQduRXtnyJcmtF9/DwcN59911MJhOtW7emZcuWaltp39ZUGi+UjPyys7PLTZVevHiR4uJimjdvro5edTqdOiUDkJOTg1artfror1Tfvn3p27cvANnZ2axcuZLmzZuzatUqUlNT1V8WmZmZvPHGG8ydO5dGjRrZLOa7xVtYWIher1enDLt06ULdunU5c+YMjRs3JisrSy38bDabuXTpUoVfFVRlzMeOHePSpUt0794dgO7du1OjRg1SU1Np0qRJlcU8f/580tLS+Otf/4pWq73n+X3UNlvFCyWzLFOnTqV27dr88Y9/VLdr1KgRBw4cUB9nZGRU2Weiqjjcd4AVKZ0CLL0asrCwELPZrJYPulubXq/H1dVVnc7Lzc3F1dXVqlOJZZV+T6YoCiaTiXr16qmjKldXV/W7k9K4OnbsSJ06dfj73/9OcHBwlcdcNt6srCzq1aunTmFlZmZSUFBA8+bNy40MnZycKCws5ODBgwCsXbsWf39/q8daqvSPC4vFwsKFCxk1ahRubm6MHz+ePXv2kJCQQEJCAg0bNmTlypX069eP5557zmYx3y3eevXq4ePjw969e4GSq/+uXLlCixYtqF+/Ph06dCAuLg6AuLg4OnToYPXpz/vF3LBhQzIzMzl9+jRQUrrsypUrNG/evMpiXrhwIUlJSSxdulT9Y+1e5/dR22wVr8ViYdq0aeh0OubMmVOuXFz//v05cuSIenXt2rVrGTJkSKXGa2sOVw1i9uzZfPPNN2RnZ1O3bl0++ugjBgwYwLVr19QfRIAGDRpQq1YtgHu2FRYWcuHCBfUv0aZNmz5W+R5fX1+cnZ3L9TF58mTeeustVq1ahYeHB9nZ2UyZMoWYmBjy8/NJTEzk//7v/9i4cSM//fQT8+fPJzo6msOHDxMREcGXX36pxrVp0yYWLlzI559/jqIolRLz7TIyMrh+/bp6gYtOp6Nt27ZcuHCB/Px8FEXB3d2dRo0aodVqKSwsVGsXliY/JycnWrRowbFjxygoKGDmzJkUFRXRpEkTPv74Y/UCjspy++eiTp06xMfHM2PGDA4fPozRaOT5558nKiqqwvfK19eXv/71r+rU9eHDh60a86PEm56eTlRUFNeuXUOv1zN58mQGDBgAlCSXadOmcf36dWrVqsX8+fNp3bp1pcX7qDFv2rSJzz//XP3FHBERwaBBg6ok5pMnTxIQEEDLli3V2ZSmTZuydOnSe57fR22zRbw7d+7kzTffpF27durPXrdu3Zg5cyYA27dv5+OPP8ZisdChQwfmzZuHm5tbpcRrDxwuAd7O0crtzJgxg1atWjF27Fhbh/JAHO38CCGqjkyBOoisrCz8/PxIS0vj1VdftXU4Qghhc3IRjINo0KAB27Zts3UYQghhN2QEKIQQwiFJAhRCCOGQJAEKIYRwSJIAhRBCOCRJgEIIIRySJEA7U1oPMDAwkJdffpkJEyZw+PDhx+pzxowZ6ioQ9xIeHs6OHTse67WE9VV2tREhHJUkQDu0ePFiNm3axLfffktISAjjx4/nl19+eeT+5syZo5ZCEda1YsUK/vu//7vcc7Nnz2b27Nnk5eURFRVFv3796N+/P4sWLVLLbJ07d47XX38dHx8ffHx8mDJlCtevX1f78PX1Zfny5RgMBry9vSUJClEJJAHaucGDBzNq1ChWrlzJDz/8QFhYGMHBwRgMhnKr4oeHhzN//nxGjx7NwIED+eSTT8q1lY7sbty4wYwZMxgxYgQGg4HZs2erv4TF4wsMDOT7779Xk5fJZCI+Pp7g4GCmTZuGXq/nm2++YcOGDezdu5d169YBJeujvvnmm3z//fds3bqVzMxMPvvss3J9x8fHs3z5cg4ePFhl680K8SSTn6Iyfjxp5MAJ6/xl7eOlp1fbR6u40KVLFxISEujYsSPR0dHodDqys7MZNmwY/fr1UwvyXrx4kdWrV5Ofn8+gQYMYMWKEWsyy1Ny5c+nZsydz5szBYrEwdepU1q9fz8iRIx/3EAXg6elJjx49+Prrrxk5ciTff/89devWpWHDhuzatYuDBw/i6uqKm5sbv/vd7/jyyy8ZNWoULVq0oEWLFkBJvbbf//73LFmypFzf4eHhT9xq/ELYkiTAaqB0udacnByioqJIS0tDp9ORm5vLmTNn8Pb2BsDf3x+tVouHhwdt2rTh3LlzdyTAhIQEEhMT+cc//gGULObdoEGDKj2eJ11ISAhr1qxh5MiRbNq0iaCgIDIyMjCZTPTr10/dzmKxqAktOzubOXPmcPDgQXXB8NIF10tJ8hOickkCLKNXW6dHHqVZ05EjR2jbti2zZs3C19eXJUuWoNFo8PPzU8s0AeWqFJTWSLudoigsW7aMZs2aVUnsjmjQoEHMmjWLlJQUdu7cyf/8z/+g1+txdnZm//79FU5fLly4EI1Gw+bNm6lTpw7bt2/nww8/LLdN2VI1QojHJ98B2rnt27ezZs0axowZQ15eHk2aNEGj0bB3717S0tIeur/SiylKk2NOTg7p6emVHbZDc3Fxwc/PjylTptCpUycaN26Mp6cnzz//PPPmzePGjRtYLBbOnTvHjz/+CEB+fj5ubm54eHiQlZXFihUrbHwUQjz5JAHaoYiICPU2iK+++orly5fTpUsXpkyZwoIFCwgKCmLr1q14eXk9dN9RUVFotVqCgoIwGAyMHTuWrKwsKxyFYwsODiYlJYWgoCD1uQULFmA0Ghk6dCg9e/YkIiJCrTM5ceJEjh49So8ePRg/fjyDBw+2VehCOAypByj15uxadT0/GRkZDBkyhL179+Lu7m7rcIQQFZARoBCVzGKx8I9//IOhQ4dK8hPCjslFMEJUops3b/L888/TuHFj+R5PCDsnCVCISuTm5sbPP/9s6zCEEA9ApkCFEEI4JEmAQgghHJIkQCGEEA5JEqCd8fX1JSUl5aH3O3DgAMOGDbNCREII8WSSBCiEEMIhSQK0U2lpafz2t7/FYDAQEhLC7t27ASgoKCAiIoKhQ4cSGBjIpEmT1H3MZjPvv/8+BoOBwMBAUlNTAYiJiSEiIkLdruzjEydO8Jvf/IaQkBCGDh3KF198UXUHKYQQNiS3QZRxOtlIapJ1yiG1eU5P62cffKHtqVOnMnLkSEJDQzl16hSvvvoqW7du5dChQ+Tn57NlyxYAcnNz1X1OnTrF3Llz+fDDD/nLX/7CsmXL+PTTT+/5Ok2aNOGLL77A2dmZ/Px8QkND6d+/P23atHm0AxVCiGpCEqAdUhSFY8eOMXz4cACeeeYZOnTowH/+8x/at29PamoqH3zwAb169eLFF19U92vVqhUdO3YEwNvbWy2Cey+FhYXMmjWLEydOoNFouHTpEsePH5cEKIR44kkCLKP1s04PNUqzhWbNmhEXF8f+/fvZvXs3ixYtYvPmzQA4Ozur22m1WkymktGsTqfDYrGobWVLKC1cuJCnn36aefPmodfrGTNmTLl2IYR4Usl3gHZIo9HQoUMHYmNjAUhNTeX48eN4e3uTmZmJTqdj0KBBTJ8+nZycHK5du3bP/lq0aMGJEycoLi6muLiYbdu2qW15eXk0bNgQvV5PSkoKBw8etOqxCSGEvZARoJ0xmUy4uLjwySef8P777/PFF1+g1+tZsGAB9erVY9euXer3ehaLhfHjx9OgQQPOnj171z69vb3p06cPr7zyCp6enrRv314twzNhwgTeeecdvvrqK1q1akXPnj2r4jCFEMLmpBySHZXbuXTpklpCx9XV1dbh2AV7Oj9CiCeLjADtxD//+U+io6N59913JfkJIUQVkBGgjDDsmpwfIYS1yEUwQgghHJIkQCGEEA5JEqAQQgiHJAlQCCGEQ5IEKIQQwiFJArQzj1oP8FHdXilCCCEchSRAIYQQDkluhLdTaWlpvP/+++Tk5KDX64mMjOSFF16goKCAd999l1OnTqHX62nVqhV//vOfAYiNjSU6Ohqz2Yy7uzuzZs2idevWxMTEsHnzZlxcXDh37hxPPfUUH3/8MQ0aNADgxo0bTJ48mZMnT+Lh4cFnn33G008/bcvDF0IIq5MEWMaVn41kH7JOPcCnuuup39V69QAPHjzI1q1bWb16Nc7OzuzatYuoqCjWrl0LwKFDh9iwYQOtW7dmyZIlzJkzh8WLFwNw5MgRNm3aRKNGjfjjH//IqlWriIyMrOR3QAgh7IskQDv0KPUAExISOH78OKGhoWof169fV/vs3r07rVu3BiA0NBSDwaC2devWjUaNGgHQpUsX9u3bVxWHKYQQNiUJsIz6XZ0eapRmC3erB6goCsOHD2fSpEkP3aeLi4v6b51Oh9lsrsyQhRDCLslFMHboUeoB+vr6snHjRjIzMwEwm80kJSWpfR4+fFgtmbR+/Xp69+5d5cclhBD2REaAduZR6wE2aNCAyZMnM2HCBMxmM0ajEX9/f5577jmgZJpz/vz5pKWlqRfBCCGEI5NqEHZUbcBa9QBjYmLYuXOnetFLdWJP50cI8WSREaCdkHqAQghRtWQEKCMMuybnRwhhLXIRjBBCCIckCVAIIYRDkgQohBDCIUkCFEII4ZDkKlA7EhoaSnFxMUajkbNnz9K2bVsAOnbsyNy5cyvcZ/To0UyYMIEXXnihKkMVQohqTxKgHVm3bh0A58+fZ/jw4WzcuNEqr2MymdDr5dQLIRybTIFWA2+88Qbffvut+njLli2MGzfuju3y8vKYPn06I0aMwGAwMHfuXCwWC1AyUvzoo48YOXIkEydOrLLYhRDCXskwoAzjHiOmXUar9K0f4IRTv0dbaPu1117jn//8Jy+//DIA0dHRjB079o7t5syZQ79+/dTEFxkZSWxsrFpV4sKFC6xZswadTvfoByKEEE8ISYDVwIABA5g3bx5nzpzBaDSSmZlZ4Xd+CQkJJCcn8/nnnwNQWFhI8+bN1XaDwSDJTwghbpEEWIZTv0cfpVmTVqtl9OjRrFmzhqKiIkaNGoVWe+fstaIo/O1vf6Nx48YV9uPm5mbtUIUQotqQ7wCrieHDh7Nt2za2bdumTmneztfXl+XLl6v1/HJyckhPT6/KMIUQotqQBFhNeHh40LdvX1588UXq1q1b4TbvvfceFouFoKAgDAYD48aN4/Lly1UcqRBCVA+yGHY1WWzZaDQSEBDAokWL6Nixo63DqTLV5fwIIaofGQFWA99++y2DBw/G19fXoZKfEEJYk1wEUw28/PLL6i0QQgghKoeMAIUQQjgkSYBCCCEckiRAIYQQDkkSoBBCCIckCVAIIYRDkgRoh3Jzc+ncuTOzZ8++77bh4eHs2LHjoduEEMLRSQK0Q3FxcXTp0oX4+HiKi4ttHY4QQjyRJAHaofXr1/P222/j5eXFd999B8D27dsxGAwEBQUREBDAgQMH1O1//PFHRo8ezcCBA/nkk08q7PPGjRvMmDFDrRU4e/ZszGYziYmJBAQElNs2MDCQw4cPW+8AhRDCDsiN8GWYfriCaW+2VfrWP/8U+j7177vd8ePHuXbtGr179+by5cusX7+eIUOGsHjxYj788EO6du2K2WymoKBA3efixYusXr2a/Px8Bg0axIgRI2jZsmW5fufOnUvPnj2ZM2cOFouFqVOnsn79ekaOHImbmxs//vgjvXr14uDBg2i1Wrp161bZb4EQQtgVGQHama+++oqgoCA0Gg2DBw8mMTGRrKwsevfuzdy5c1mxYgWpqam4u7ur+/j7+6PVavHw8KBNmzacO3fujn4TEhJYuXIlQUFBhISEkJyczJkzZ4CS7wqjo6MBWL16Na+++mrVHKwQQtiQjADL0Pep/0CjNGspLi4mLi4OZ2dnNm7cCJQsgh0TE0NUVBQnTpxg//79TJo0id///veMHDkSABcXF7UPnU6nlkMqS1EUli1bRrNmze5o8/f3Z+HChRw9epQDBw7w0UcfWekIhRDCfsgI0I589913tGrVit27d5OQkEBCQgJ///vfiY2N5fTp03h5efHb3/6WwMBAjhw58lB936tWoJOTE8OHD2fChAkYDAZq1KhR6ccmhBD2RhKgHVm/fj0Gg6Hcc127dsVisTBz5kwCAgIICgpi3759jBs37qH6joqKQqvVqrUCx44dS1ZWltoeGhpKVlYWo0ePrpRjEUIIeyf1AKXeHAAbN24kPj6e5cuX2zqUcuT8CCGsRb4DFLzxxhucO3eOv/zlL7YORQghqowkQMHKlSttHYIQQlQ5+Q5QCCGEQ5IEKIQQwiFJAhRCCOGQJAEKIYRwSJIA7Yyvry/9+vUrt5pLTEwMXl5erFq16p77xsTEqMubQcktBFu2bCm3jZeXF/n5+ZUbtBBCVEOSAO2Qp6cne/bsUR/Hxsby7LPP3ne/2NhYzp49qz4+duwYX3/9tTVCFEKIak8SoB0KCQkhJiYGgPT0dG7evEm7du0A+OGHHwgLCyM4OBiDwUB8fDxQsopMUlISs2fPJigoiC1btrB48WL27dtHUFBQueK6//rXvxg+fDgDBw5k27Zt6vO//PIL4eHhDBs2jGHDhrFz504APv30U1asWAHAli1baN++PVeuXAFg3Lhx5ZK1EEJUF3IfYBmmA2mYf0izSt+6Pi3Q+7R4oG179epFdHQ0ubm5xMbGEhwcTHJyMgAdO3YkOjoanU5HdnY2w4YNo1+/fgwfPpwNGzYwZswYXnrpJQAKCwvZuXMnixcvLte/u7s769ev59ChQ0yePBk/Pz+uX7/OzJkzWb58OZ6enly6dIkRI0YQFxdHnz59WLlyJWPHjmX//v14e3uzf/9+tVpF9+7dK/fNEkKIKiAJ0A5pNBqGDBlCfHw88fHxrF27Vk2AOTk5REVFkZaWhk6nIzc3lzNnzuDt7f3A/Q8dOhQAb29vLl26RFFRET///DPnz58vt8aoRqMhLS2Nbt26ERkZSXFxMYcPH+add95h27ZtNGjQgLZt28ri2UKIakkSYBl6nwcfpVlbSEgIoaGh9OzZk7p166rPz5o1C19fX5YsWYJGo8HPz4+ioqKH6ru0fJJOpwPAZDKhKApeXl6sXr26wn3atWtHfHw8Tz/9NL1792b+/Pk0bNiQ3r17P+IRCiGEbcl3gHaqWbNmREZG8vbbb5d7Pi8vjyZNmqDRaNi7dy9pab9O2dasWZO8vDz1sbu7e7nH99K1a1fS0tLYv3+/+lxiYiKla6X36dOHzz77jD59+uDs7EzDhg2JjY2lT58+j3OYQghhM5IA7VhYWNgdlRCmTJnCggULCAoKYuvWrXh5eZXbfunSpWrJpD59+lBQUEBgYGC5i2AqUrt2bZYtW8bSpUsJDAxkyJAhLFmypFwCvHDhgjri6927N1evXqVz586VfNRCCFE1pBySlNuxa3J+hBDWIiNAIYQQDkkSoBBCCIckCVAIIYRDkgQohBDCIUkCFEII4ZAkAQohhHBIkgCFEEI4JEmAQgghHJIkQCGEEA5JEqAdKSgoICIigqFDhxIYGMikSZOAkkK3oaGhDBs2jNdff53Tp08DsGzZMiZOnKjuazAY2LVrl83iF0KI6kSqQdiRPXv2kJ+fz5YtWwDIzc3l4MGDbN26ldWrV+Ps7MyuXbuIiopi7dq1vPXWW4wdO5Z//etfHD16lP79+zNgwAAbH4UQQlQPkgDtSPv27UlNTeWDDz6gV69evPjiiyQkJHD8+HFCQ0MBUBSF69evA6DVavn4448JCgqicePGREdH2zJ8IYSoViQB2pFmzZoRFxfH/v372b17N4sWLWLgwIEMHz5cnQ693fnz59FqtVy/fp3CwkLc3d2rOGohhKie5DtAO5KZmYlOp2PQoEFMnz6dnJwcfH192bhxI5mZmQCYzWaSkpKAkinSqVOnsnDhQoYOHcp7771ny/CFEKJakRGgHTlx4gSffvopABaLhfHjx9OzZ08mT57MhAkTMJvNGI1G/P39ee6554iKimL48OH06NGDrl278rvf/Y41a9YwevRoGx+JEELYP6kHKPXm7JqcHyGEtcgUqBBCCIckCVAIIYRDkgQohBDCIUkCFEII4ZAkAQohhHBIkgCFEEI4JLkP0M74+vri7OyMi4sLAD4+PkRFRdk4KiGEePJIArRDixcvpl27drYOQwghnmgyBSqEEMIhyQiwjLi4ODZt2mSVvgMDAwkICHigbSMiItQp0KlTp9K/f3+rxCSEEI5MEqAdkilQIYSwPkmAZQQEBDzwKE0IIUT1Jt8BCiGEcEiSAIUQQjgkmQK1MwkJCbYOQQghHIKMAIUQQjgkSYBCCCEckiRAIYQQDkkSoBBCCIckCVAIIYRDkgQohBDCIUkCFEII4ZAkAdoZX19f+vXrh9lsVp+LiYnBy8uLVatW2TAyIYR4skgCtEOenp7s2bNHfRwbG8uzzz5rw4iEEOLJIwnQDoWEhBATEwNAeno6N2/elOoQQghRyWQptNuMHz++wueXL18OwKeffsqJEyfuaJ8yZQpeXl5s3ryZzZs333X/B9GrVy+io6PJzc0lNjaW4OBgkpOTH3h/IYQQ9ycjQDuk0WgYMmQI8fHxxMfHS4kmIYSwAhkB3uZ+I7UpU6bcs91gMGAwGB47jpCQEEJDQ+nZsyd169Z97P6EEEKUJwnQTjVr1ozIyEg6d+5s61CEEOKJJAnQjoWFhdk6BCGEeGJpFEVRbB2ELR07dowOHTrYOgxxF3J+hBDWIhfBCCGEcEiSAIUQQjgkSYBCCCEckiRAwMG/BrVbcl6EENbk8AnQ1dWVK1euyC9bO6MoCleuXMHV1dXWoQghnlAOfxWo0Wjk/PnzFBYW2joUcRtXV1eaNm2Kk5OTrUMRQjyBHD4BCiGEcEwOPwUqhBDCMUkCFEII4ZAkAQohhHBIkgCFEEI4JEmAQgghHNL/A4U6eyVDoUuzAAAAAElFTkSuQmCC\n",
      "text/plain": [
       "<Figure size 432x288 with 1 Axes>"
      ]
     },
     "metadata": {},
     "output_type": "display_data"
    }
   ],
   "source": [
    "# %%\n",
    "# TODO:\n",
    "pd_pot=df_ov.toPandas()\n",
    "sns.set(style='whitegrid')\n",
    "g=sns.lineplot(data=pd_pot,x='year',y='proportion',hue='name',style='sex')\n",
    "g.set_title(\"poplarity of each of the top names from year 2000 with respect to time\")\n",
    "plt.show(g)\n",
=======
   "outputs": [],
   "source": [
    "# %%\n",
    "# TODO:\n",
>>>>>>> 0c5561a74d1bcf6e1c90df8bbfa2f3b5ccc9c264
    "# %%"
   ]
  },
  {
   "cell_type": "markdown",
   "metadata": {
    "format": "text/markdown"
   },
   "source": [
    "\n",
    "\n",
    "Plot the total popularity of the top ten achievers from year 2000 with respect to time\n",
    "==================================================================================\n",
    "\n",
    "\n"
   ]
  },
  {
   "cell_type": "code",
<<<<<<< HEAD
   "execution_count": 75,
   "metadata": {
    "ExecuteTime": {
     "end_time": "2020-04-05T19:57:31.157455Z",
     "start_time": "2020-04-05T19:57:16.754071Z"
=======
   "execution_count": null,
   "metadata": {
    "ExecuteTime": {
     "end_time": "2020-03-09T13:25:00.924571Z",
     "start_time": "2020-03-09T13:25:00.917339Z"
>>>>>>> 0c5561a74d1bcf6e1c90df8bbfa2f3b5ccc9c264
    },
    "autoscroll": "auto",
    "options": {
     "caption": false,
     "complete": true,
     "display_data": true,
     "display_stream": true,
     "dpi": 200,
     "echo": true,
     "evaluate": false,
     "f_env": null,
     "f_pos": "htpb",
     "f_size": [
      6,
      4
     ],
     "f_spines": true,
     "fig": true,
     "include": true,
     "name": null,
     "option_string": "evaluate=False",
     "results": "verbatim",
     "term": false,
     "wrap": "output"
    }
   },
<<<<<<< HEAD
   "outputs": [
    {
     "name": "stdout",
     "output_type": "stream",
     "text": [
      "+------+-----------+---+-----+-------+--------------------+------------------+\n",
      "|  year|       name|sex|    n|  total|          proportion|  total_proportion|\n",
      "+------+-----------+---+-----+-------+--------------------+------------------+\n",
      "|1988.0|  Elizabeth|  F|20036|1913203|0.010472490373473175|0.2917275375378358|\n",
      "|1988.0|     Taylor|  F| 2796|1913203|0.001461423591746...|0.2917275375378358|\n",
      "|1988.0|      Jacob|  M|15872|1913203|0.008296035496494622|0.2917275375378358|\n",
      "|1988.0|   Nicholas|  M|25291|1913203|0.013219193154098127|0.2917275375378358|\n",
      "|1988.0|      Sarah|  F|28366|1913203|0.014826445494806353|0.2917275375378358|\n",
      "|1988.0|     Andrew|  M|35738|1913203|0.018679669643001814|0.2917275375378358|\n",
      "|1988.0|    Jessica|  F|51538|1913203|0.026938071913957903|0.2917275375378358|\n",
      "|1988.0|     Alexis|  F| 2902|1913203|0.001516828062678...|0.2917275375378358|\n",
      "|1988.0|   Samantha|  F|20699|1913203|0.010819029658640511|0.2917275375378358|\n",
      "|1988.0|     Hannah|  F| 5559|1913203|0.002905598621787...|0.2917275375378358|\n",
      "|1988.0|    Michael|  M|64133|1913203|0.033521272964761185|0.2917275375378358|\n",
      "|1988.0|Christopher|  M|52996|1913203|0.027700144731113218|0.2917275375378358|\n",
      "|1988.0|    Madison|  F|  823|1913203|4.301686752529658E-4|0.2917275375378358|\n",
      "|1988.0|      Emily|  F|15870|1913203|0.008294990129118551|0.2917275375378358|\n",
      "|1988.0|     Daniel|  M|34694|1913203| 0.01813398787269307|0.2917275375378358|\n",
      "|1988.0|     Joshua|  M|42649|1913203| 0.02229193661101305|0.2917275375378358|\n",
      "|1988.0|     Joseph|  M|29003|1913203|0.015159395004084773|0.2917275375378358|\n",
      "|1988.0|      Tyler|  M|13340|1913203|0.006972600398389507|0.2917275375378358|\n",
      "|1988.0|     Ashley|  F|49961|1913203|0.026113799737926397|0.2917275375378358|\n",
      "|1988.0|    Matthew|  M|45868|1913203|0.023974455402798345|0.2917275375378358|\n",
      "+------+-----------+---+-----+-------+--------------------+------------------+\n",
      "only showing top 20 rows\n",
      "\n"
     ]
    }
   ],
   "source": [
    "# %%\n",
    "# TODO:\n",
    "pot=df_ov.withColumn('total_proportion', fn.sum('proportion').over(Window.partitionBy('year')))\n",
    "pot.show()\n",
    "\n",
=======
   "outputs": [],
   "source": [
    "# %%\n",
    "# TODO:\n",
>>>>>>> 0c5561a74d1bcf6e1c90df8bbfa2f3b5ccc9c264
    "# %%"
   ]
  },
  {
<<<<<<< HEAD
   "cell_type": "code",
   "execution_count": 76,
   "metadata": {
    "ExecuteTime": {
     "end_time": "2020-04-05T20:02:38.515472Z",
     "start_time": "2020-04-05T20:02:21.855209Z"
    }
   },
   "outputs": [
    {
     "data": {
      "image/png": "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\n",
      "text/plain": [
       "<Figure size 432x288 with 1 Axes>"
      ]
     },
     "metadata": {},
     "output_type": "display_data"
    }
   ],
   "source": [
    "pd_pottt=pot.toPandas()\n",
    "sns.set(style='whitegrid')\n",
    "g=sns.lineplot(data=pd_pottt,x='year',y='total_proportion',hue='name',style='sex')\n",
    "g.set_title(\" popularity of the top ten achievers from year 2000 with respect to time\")\n",
    "plt.show(g)"
   ]
  },
  {
=======
>>>>>>> 0c5561a74d1bcf6e1c90df8bbfa2f3b5ccc9c264
   "cell_type": "markdown",
   "metadata": {
    "format": "text/markdown"
   },
   "source": [
    "\n",
    "\n",
    "Plot lorenz curves\n",
    "=====================\n",
    "\n",
    "Every year, the name counts define a discrete probability distribution.\n",
    "This distribution, just as income or wealth distribution,\n",
    "is (usually) far from being uniform. We want to assess how uneven it is.\n",
    "We use the tools developed in econometrics.\n",
    "\n",
    "Without loss of generality, that we handle a distribution over $1, \\ldots, n$\n",
    "where $n$ is the number of distinct names given during a year.\n",
    "We assume that frequencies $p_1, p_2, \\ldots, p_n$ are given in ascending order.\n",
    "\n",
    "The Lorenz function maps $[0, 1] \\to [0, 1]$.\n",
    "$$L(x) = \\sum_{i=1}^{\\lfloor nx \\rfloor} p_i$$.\n",
    "\n",
    "1. Design a query that adds a column \"lorenz\" to the dataframe , and for each\n",
    "row computes the value of the Lorenz function defined by `year`  and `sex`.\n",
    "\n",
    "\n"
   ]
  },
  {
   "cell_type": "code",
<<<<<<< HEAD
   "execution_count": 97,
   "metadata": {
    "ExecuteTime": {
     "end_time": "2020-04-05T20:38:29.259043Z",
     "start_time": "2020-04-05T20:38:14.909204Z"
=======
   "execution_count": null,
   "metadata": {
    "ExecuteTime": {
     "end_time": "2020-03-09T13:25:01.172487Z",
     "start_time": "2020-03-09T13:25:01.169864Z"
>>>>>>> 0c5561a74d1bcf6e1c90df8bbfa2f3b5ccc9c264
    },
    "autoscroll": "auto",
    "options": {
     "caption": false,
     "complete": true,
     "display_data": true,
     "display_stream": true,
     "dpi": 200,
     "echo": true,
     "evaluate": false,
     "f_env": null,
     "f_pos": "htpb",
     "f_size": [
      6,
      4
     ],
     "f_spines": true,
     "fig": true,
     "include": true,
     "name": null,
     "option_string": "evaluate=False",
     "results": "verbatim",
     "term": false,
     "wrap": "output"
    }
   },
<<<<<<< HEAD
   "outputs": [
    {
     "name": "stdout",
     "output_type": "stream",
     "text": [
      "+------+-----------+---+-----+-------+--------------------+------------------+--------------------+\n",
      "|  year|       name|sex|    n|  total|          proportion|  total_proportion|cumulativeSum_propor|\n",
      "+------+-----------+---+-----+-------+--------------------+------------------+--------------------+\n",
      "|1988.0|    Madison|  F|  823|1913203|4.301686752529658E-4|0.2917275375378358|4.301686752529658E-4|\n",
      "|1988.0|     Taylor|  F| 2796|1913203|0.001461423591746...|0.2917275375378358|0.001891592266999...|\n",
      "|1988.0|     Alexis|  F| 2902|1913203|0.001516828062678...|0.2917275375378358|0.003408420329677...|\n",
      "|1988.0|     Hannah|  F| 5559|1913203|0.002905598621787...|0.2917275375378358|0.006314018951465161|\n",
      "|1988.0|      Emily|  F|15870|1913203|0.008294990129118551|0.2917275375378358|0.014609009080583713|\n",
      "|1988.0|  Elizabeth|  F|20036|1913203|0.010472490373473175|0.2917275375378358| 0.02508149945405689|\n",
      "|1988.0|   Samantha|  F|20699|1913203|0.010819029658640511|0.2917275375378358|  0.0359005291126974|\n",
      "|1988.0|      Sarah|  F|28366|1913203|0.014826445494806353|0.2917275375378358| 0.05072697460750375|\n",
      "|1988.0|     Ashley|  F|49961|1913203|0.026113799737926397|0.2917275375378358| 0.07684077434543014|\n",
      "|1988.0|    Jessica|  F|51538|1913203|0.026938071913957903|0.2917275375378358| 0.10377884625938805|\n",
      "|1988.0|      Tyler|  M|13340|1913203|0.006972600398389507|0.2917275375378358|0.006972600398389507|\n",
      "|1988.0|      Jacob|  M|15872|1913203|0.008296035496494622|0.2917275375378358|0.015268635894884128|\n",
      "|1988.0|   Nicholas|  M|25291|1913203|0.013219193154098127|0.2917275375378358|0.028487829048982255|\n",
      "|1988.0|     Joseph|  M|29003|1913203|0.015159395004084773|0.2917275375378358| 0.04364722405306703|\n",
      "|1988.0|     Daniel|  M|34694|1913203| 0.01813398787269307|0.2917275375378358|0.061781211925760096|\n",
      "|1988.0|     Andrew|  M|35738|1913203|0.018679669643001814|0.2917275375378358| 0.08046088156876191|\n",
      "|1988.0|     Joshua|  M|42649|1913203| 0.02229193661101305|0.2917275375378358| 0.10275281817977497|\n",
      "|1988.0|    Matthew|  M|45868|1913203|0.023974455402798345|0.2917275375378358| 0.12672727358257332|\n",
      "|1988.0|Christopher|  M|52996|1913203|0.027700144731113218|0.2917275375378358| 0.15442741831368653|\n",
      "|1988.0|    Michael|  M|64133|1913203|0.033521272964761185|0.2917275375378358|  0.1879486912784477|\n",
      "+------+-----------+---+-----+-------+--------------------+------------------+--------------------+\n",
      "only showing top 20 rows\n",
      "\n"
     ]
    }
   ],
   "source": [
    "# TODO:\n",
    "\n",
    "from random import randint \n",
    "x=randint(0,1)\n",
    "x\n",
    "\n",
    "windowval=(Window.partitionBy('year','sex').orderBy('proportion'))\n",
    "valcumSum = pot.withColumn(\"cumulativeSum_propor\", fn.sum('proportion').over(windowval))\n",
    "valcumSum.show()\n",
    "\n",
    "query = \"SELECT *, sum(for i) AS lorenz FROM valcumSum\"\n",
    "spark.sql(query).show()\n",
    "\n",
    "query15="
=======
   "outputs": [],
   "source": [
    "# TODO:"
>>>>>>> 0c5561a74d1bcf6e1c90df8bbfa2f3b5ccc9c264
   ]
  },
  {
   "cell_type": "markdown",
   "metadata": {
    "format": "text/markdown"
   },
   "source": [
    "\n",
    "\n",
    "1. Design a function that takes as input a `year` and plots the Lorenz curve\n",
    "for that year for both sexes.\n",
    "\n"
   ]
  },
  {
   "cell_type": "code",
<<<<<<< HEAD
   "execution_count": 42,
   "metadata": {
    "ExecuteTime": {
     "end_time": "2020-04-05T18:58:13.673165Z",
     "start_time": "2020-04-05T18:58:13.669312Z"
=======
   "execution_count": null,
   "metadata": {
    "ExecuteTime": {
     "end_time": "2020-03-09T13:25:01.435478Z",
     "start_time": "2020-03-09T13:25:01.432499Z"
>>>>>>> 0c5561a74d1bcf6e1c90df8bbfa2f3b5ccc9c264
    },
    "autoscroll": "auto",
    "options": {
     "caption": false,
     "complete": true,
     "display_data": true,
     "display_stream": true,
     "dpi": 200,
     "echo": true,
     "evaluate": false,
     "f_env": null,
     "f_pos": "htpb",
     "f_size": [
      6,
      4
     ],
     "f_spines": true,
     "fig": true,
     "include": true,
     "name": null,
     "option_string": "evaluate=False",
     "results": "verbatim",
     "term": false,
     "wrap": "output"
    }
   },
   "outputs": [],
   "source": [
    "# %%\n",
    "# TODO:\n",
    "# %%"
   ]
  },
  {
   "cell_type": "markdown",
   "metadata": {
    "format": "text/markdown"
   },
   "source": [
    "\n",
    "Gini index\n",
    "==========\n",
    "\n",
    "The [Gini index](https://en.wikipedia.org/wiki/Gini_coefficient) is twice the surface of the area comprised between curves $y=x$\n",
    "and $y=L(x)$.\n",
    "\n",
    "Choose a formula that allows you to compute it efficiently.\n",
    "\n",
    "$$G={\\frac {2\\sum _{i=1}^{n}iy_{i}}{n\\sum _{i=1}^{n}y_{i}}}-{\\frac {n+1}{n}}.$$\n",
    "\n",
    "1. Design a query that computes the Gini index of the `babynames` distribution\n",
    "for every `year` and `sex`.\n",
    "\n",
    "1. Plot Gini index over time\n",
    "\n",
    "\n"
   ]
  },
  {
   "cell_type": "code",
   "execution_count": null,
   "metadata": {
    "ExecuteTime": {
     "end_time": "2020-03-09T13:25:01.689514Z",
     "start_time": "2020-03-09T13:25:01.686509Z"
    },
    "autoscroll": "auto",
    "options": {
     "caption": false,
     "complete": true,
     "display_data": true,
     "display_stream": true,
     "dpi": 200,
     "echo": true,
     "evaluate": false,
     "f_env": null,
     "f_pos": "htpb",
     "f_size": [
      6,
      4
     ],
     "f_spines": true,
     "fig": true,
     "include": true,
     "name": null,
     "option_string": "evaluate=False",
     "results": "verbatim",
     "term": false,
     "wrap": "output"
    }
   },
   "outputs": [],
   "source": [
    "# TODO:"
   ]
  },
  {
   "cell_type": "markdown",
   "metadata": {
    "format": "text/markdown"
   },
   "source": [
    "\n",
    "\n"
   ]
  },
  {
   "cell_type": "code",
   "execution_count": null,
   "metadata": {
    "ExecuteTime": {
     "end_time": "2020-03-09T13:25:01.959724Z",
     "start_time": "2020-03-09T13:25:01.957043Z"
    },
    "autoscroll": "auto",
    "options": {
     "caption": false,
     "complete": true,
     "display_data": true,
     "display_stream": true,
     "dpi": 200,
     "echo": true,
     "evaluate": false,
     "f_env": null,
     "f_pos": "htpb",
     "f_size": [
      6,
      4
     ],
     "f_spines": true,
     "fig": true,
     "include": true,
     "name": null,
     "option_string": "evaluate=False",
     "results": "verbatim",
     "term": false,
     "wrap": "output"
    }
   },
   "outputs": [],
   "source": [
    "# %%\n",
    "# TODO:\n",
    "# %%"
   ]
  },
  {
   "cell_type": "markdown",
   "metadata": {
    "format": "text/markdown"
   },
   "source": [
    "\n",
    "\n",
    "\n",
    "Close the door, leave work area clean\n",
    "=====================================\n"
   ]
  },
  {
   "cell_type": "code",
   "execution_count": null,
   "metadata": {
    "ExecuteTime": {
     "end_time": "2020-03-09T13:25:02.615664Z",
     "start_time": "2020-03-09T13:25:02.216564Z"
    }
   },
   "outputs": [],
   "source": [
    "spark.stop()"
   ]
  }
 ],
 "metadata": {
  "kernel_info": {
   "name": "python3"
  },
  "kernelspec": {
   "display_name": "Python 3",
   "language": "python",
   "name": "python3"
  },
  "language_info": {
   "codemirror_mode": {
    "name": "ipython",
    "version": 3
   },
   "file_extension": ".py",
   "mimetype": "text/x-python",
   "name": "python",
   "nbconvert_exporter": "python",
   "pygments_lexer": "ipython3",
   "version": "3.6.9"
  },
  "toc": {
   "base_numbering": 1,
   "nav_menu": {},
   "number_sections": true,
   "sideBar": true,
   "skip_h1_title": false,
   "title_cell": "Table of Contents",
   "title_sidebar": "Contents",
   "toc_cell": false,
<<<<<<< HEAD
   "toc_position": {
    "height": "calc(100% - 180px)",
    "left": "10px",
    "top": "150px",
    "width": "165px"
   },
=======
   "toc_position": {},
>>>>>>> 0c5561a74d1bcf6e1c90df8bbfa2f3b5ccc9c264
   "toc_section_display": true,
   "toc_window_display": true
  }
 },
 "nbformat": 4,
 "nbformat_minor": 1
}
